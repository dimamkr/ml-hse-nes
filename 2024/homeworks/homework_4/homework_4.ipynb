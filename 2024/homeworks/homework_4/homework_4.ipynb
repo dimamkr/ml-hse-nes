{
 "cells": [
  {
   "cell_type": "markdown",
   "metadata": {
    "id": "UqqA7Jph8T2o"
   },
   "source": [
    "# **Домашняя работа №4.**\n",
    "\n",
    "Максимальная оценка - 10 баллов.\n",
    "\n",
    "Если вы нашли решение какого-то из заданий (или его часть) в открытом источнике, необходимо указать ссылку на этот источник в отдельном блоке в конце вашей работы."
   ]
  },
  {
   "cell_type": "markdown",
   "metadata": {
    "id": "aVbBWZ1GHrte"
   },
   "source": [
    "Задание состоит из двух разделов:\n",
    "1. В первом разделе вам нужно вычислить энтропию и информационный выигрыш для простых примеров. Максимальный балл в этой части: **4 балла**.\n",
    "2. Во втором разделе вы научитесь применять деревья из sklearn для задачи классификации. На примере различных метрик вы посмотрите на качество своей модели. Дополнительно вы посмотрите на стандартные примеры датасетов из sklearn и на то, как дерево с ними справится. Максимальный балл в этой части: **6 баллов**."
   ]
  },
  {
   "cell_type": "markdown",
   "metadata": {
    "id": "Ye_ZgLWUFDTI"
   },
   "source": [
    "Загрузим необходимые библиотеки:"
   ]
  },
  {
   "cell_type": "code",
   "execution_count": null,
   "metadata": {
    "executionInfo": {
     "elapsed": 2711,
     "status": "ok",
     "timestamp": 1730828973692,
     "user": {
      "displayName": "Sergey Korpachev",
      "userId": "09181340988160569540"
     },
     "user_tz": -180
    },
    "id": "xRiUAs26FDTJ"
   },
   "outputs": [],
   "source": [
    "import math\n",
    "import numpy as np\n",
    "import pandas as pd\n",
    "from matplotlib import pyplot as plt\n",
    "\n",
    "import seaborn as sns\n",
    "sns.set()\n",
    "\n",
    "plt.rcParams['figure.figsize'] = (9, 6)\n",
    "%config InlineBackend.figure_format = 'retina'\n",
    "%matplotlib inline\n",
    "\n",
    "import warnings\n",
    "warnings.filterwarnings('ignore')"
   ]
  },
  {
   "cell_type": "code",
   "execution_count": null,
   "metadata": {
    "executionInfo": {
     "elapsed": 541,
     "status": "ok",
     "timestamp": 1730828974227,
     "user": {
      "displayName": "Sergey Korpachev",
      "userId": "09181340988160569540"
     },
     "user_tz": -180
    },
    "id": "tzpZVHZ1TlxV"
   },
   "outputs": [],
   "source": [
    "from sklearn.tree import DecisionTreeClassifier, DecisionTreeRegressor, plot_tree\n",
    "from sklearn.metrics import accuracy_score, precision_score, recall_score, f1_score\n",
    "from sklearn.metrics import roc_curve, auc\n",
    "from sklearn.metrics import precision_recall_curve, average_precision_score\n",
    "from sklearn.metrics import mean_squared_error, r2_score\n",
    "from sklearn.model_selection import GridSearchCV\n",
    "from sklearn.datasets import make_moons, make_circles, make_classification\n",
    "from sklearn.model_selection import train_test_split"
   ]
  },
  {
   "cell_type": "code",
   "execution_count": null,
   "metadata": {
    "executionInfo": {
     "elapsed": 8,
     "status": "ok",
     "timestamp": 1730828974228,
     "user": {
      "displayName": "Sergey Korpachev",
      "userId": "09181340988160569540"
     },
     "user_tz": -180
    },
    "id": "G7HWNrIXKtCh"
   },
   "outputs": [],
   "source": [
    "#!pip install mlxtend\n",
    "from mlxtend.plotting import plot_decision_regions"
   ]
  },
  {
   "cell_type": "markdown",
   "metadata": {
    "id": "Cm53IIsd8txg"
   },
   "source": [
    "## **Часть 1**"
   ]
  },
  {
   "cell_type": "markdown",
   "metadata": {
    "id": "wNfU1mMTwnDC"
   },
   "source": [
    "На лекции и семинарах вы изучали такие понятия, как энтропия и информационный выигрыш. Сейчас мы попрактикуемся в их вычислении."
   ]
  },
  {
   "cell_type": "markdown",
   "metadata": {
    "id": "x0vGdYIzFDTd"
   },
   "source": [
    "Напомним, что **энтропия Шеннона** вычисляется следующим образом по N возможному числу состояний:\n",
    "\n",
    "$$\\large S = - \\sum_{i=1}^N p_i log_2 p_i$$\n",
    "\n",
    "где $p_i$ - вероятность найти систему в i-ом состоянии.\n",
    "\n",
    "Рассмотрим пример. Пусть дана система (датасет), в которой определены два состояния (вероятности). Первое $\\large p_1=\\frac{3}{7}$ и второе $\\large p_2=\\frac{4}{7}$. Тогда энтропия вычисляется так:\n",
    "\n",
    "$\\large S_0=−\\frac{3}{7} * log_2 \\frac{3}{7} - \\frac{4}{7} * log_2 \\frac{4}{7} ≈ 0.9852$"
   ]
  },
  {
   "cell_type": "markdown",
   "metadata": {
    "id": "Kg7s98ED0hGQ"
   },
   "source": [
    "Теперь рассмотрим случай, когда систему (датасет) поделили относительно некоторого признака. На левую часть и на правую. Чему теперь равна энтропия каждой из частей? И чему будет равен информационный выигрыш при таком делении?"
   ]
  },
  {
   "cell_type": "markdown",
   "metadata": {
    "id": "OexxqsxwFDTg"
   },
   "source": [
    "Энтропия левой части равна: $\\normalsize S_1=−\\frac{1}{4} * log_2 \\frac{1}{4} - \\frac{3}{4} * log_2 \\frac{3}{4} ≈ 0.8113$.\n",
    "\n",
    "Энтропия правой части равна: $\\normalsize S_2=−\\frac{2}{3} * log_2 \\frac{2}{3} - \\frac{1}{3} * log_2 \\frac{1}{3} ≈ 0.9183$.\n",
    "\n",
    "Как вы можете видеть, значение энтропии стало меньше в двух группах. Особенно в левой группе. Посколько энтропия является мерой хаоса (или неопределённости) в системе, то мы говорим, что информационный выигрыш характеризуется уменьшением энтропии.\n",
    "\n",
    "Информационный выигрыш (Information Gain, IG) для разделения на основе признака Q выглядит следующим образом:\n",
    "\n",
    "$$\\large IG(Q)=S_0 - \\sum_{i=1}^q\\frac{N_i}{N} S_i$$\n",
    "\n",
    "где $q$ - число групп после деления, $N_i$ - количество объектов в выборке, в которой признак $Q$ равен i-ому значению.\n",
    "\n",
    "**Информационный выигрыш = сколько энтропии мы удалили**, поэтому для нашего примера:\n",
    "\n",
    "$$\\normalsize IG=0.985 − (\\frac{3}{7} * 0.9183 + \\frac{4}{7} * 0.8113) ≈ 0.985 - 0.857 = 0.128 $$"
   ]
  },
  {
   "cell_type": "markdown",
   "metadata": {
    "id": "L9odhiA4FDTh"
   },
   "source": [
    "Теперь напишем функции для вычисления энтропии и информационного выигрыша."
   ]
  },
  {
   "cell_type": "markdown",
   "metadata": {
    "id": "UJqtLTrEFDTj"
   },
   "source": [
    "Рассмотрим следующий простой пример: у нас есть 9 синий и 11 жёлтых мячей. Пусть мяч будет иметь метку **1**, если он синий, **0** в противном случае."
   ]
  },
  {
   "cell_type": "code",
   "execution_count": null,
   "metadata": {
    "colab": {
     "base_uri": "https://localhost:8080/"
    },
    "executionInfo": {
     "elapsed": 520,
     "status": "ok",
     "timestamp": 1730828974742,
     "user": {
      "displayName": "Sergey Korpachev",
      "userId": "09181340988160569540"
     },
     "user_tz": -180
    },
    "id": "QKznbByPFDTk",
    "outputId": "b78ed8c0-3ae7-44d3-920b-fea5802d7825"
   },
   "outputs": [],
   "source": [
    "balls = [1 for i in range(9)] + [0 for i in range(11)]\n",
    "balls"
   ]
  },
  {
   "cell_type": "markdown",
   "metadata": {
    "id": "-pJ-gQyEFDTk"
   },
   "source": [
    "<img src = 'https://habrastorage.org/webt/mu/vl/mt/muvlmtd2njeqf18trbldenpqvnm.png'>"
   ]
  },
  {
   "cell_type": "markdown",
   "metadata": {
    "id": "zFQMOpamFDTl"
   },
   "source": [
    "Затем разделим мячи на две группы по некоторому признаку:"
   ]
  },
  {
   "cell_type": "markdown",
   "metadata": {
    "id": "o4fY4EdrFDTm"
   },
   "source": [
    "<img src='https://habrastorage.org/webt/bd/aq/5w/bdaq5wi3c4feezaexponvin8wmo.png'>"
   ]
  },
  {
   "cell_type": "code",
   "execution_count": null,
   "metadata": {
    "colab": {
     "base_uri": "https://localhost:8080/"
    },
    "executionInfo": {
     "elapsed": 88,
     "status": "ok",
     "timestamp": 1730828974742,
     "user": {
      "displayName": "Sergey Korpachev",
      "userId": "09181340988160569540"
     },
     "user_tz": -180
    },
    "id": "RtyxVHpVFDTm",
    "outputId": "fe739f47-b93e-439e-e8cf-bc462c9abb81"
   },
   "outputs": [],
   "source": [
    "# две группы\n",
    "balls_left  = [1 for i in range(8)] + [0 for i in range(5)] # 8 синих и 5 жёлтых\n",
    "balls_right = [1 for i in range(1)] + [0 for i in range(6)] # 1 синий и 6 жёлтых\n",
    "balls_left, balls_right"
   ]
  },
  {
   "cell_type": "markdown",
   "metadata": {
    "id": "2r7H-yFMFDTo"
   },
   "source": [
    "### **Задание 1 (1 балл).**\n",
    "\n",
    "Напишите функцию, вычисляющую энтропию по Шеннону. И примените её для для следующих наборов данных."
   ]
  },
  {
   "cell_type": "code",
   "execution_count": null,
   "metadata": {
    "executionInfo": {
     "elapsed": 73,
     "status": "ok",
     "timestamp": 1730828974742,
     "user": {
      "displayName": "Sergey Korpachev",
      "userId": "09181340988160569540"
     },
     "user_tz": -180
    },
    "id": "Ac8fSdPdFDTs"
   },
   "outputs": [],
   "source": [
    "def entropy(list_):\n",
    "    pass\n",
    "    ### ╰( ͡° ͜ʖ ͡° )つ──☆*:・ﾟ"
   ]
  },
  {
   "cell_type": "markdown",
   "metadata": {
    "id": "KP75_xIDFDTt"
   },
   "source": [
    "Проверка:"
   ]
  },
  {
   "cell_type": "code",
   "execution_count": null,
   "metadata": {
    "colab": {
     "base_uri": "https://localhost:8080/"
    },
    "executionInfo": {
     "elapsed": 73,
     "status": "ok",
     "timestamp": 1730828974743,
     "user": {
      "displayName": "Sergey Korpachev",
      "userId": "09181340988160569540"
     },
     "user_tz": -180
    },
    "id": "zBi-u3A4FDTv",
    "outputId": "21cca815-92cc-471f-eefd-1a6fc1537274"
   },
   "outputs": [],
   "source": [
    "print(entropy(balls)) # 9 синих и 11 жёлтых\n",
    "print(entropy(balls_left)) # 8 синих и 5 жёлтых\n",
    "print(entropy(balls_right)) # 1 синий и 6 жёлтых"
   ]
  },
  {
   "cell_type": "markdown",
   "metadata": {
    "id": "LN0MUafMjIjN"
   },
   "source": [
    "### **Задание 2 (1 балл).**\n",
    "\n",
    "Чему равна энтропия бросания монетки (без учёта ребра и с равными вероятностями для сторон монетки)?"
   ]
  },
  {
   "cell_type": "code",
   "execution_count": null,
   "metadata": {
    "colab": {
     "base_uri": "https://localhost:8080/"
    },
    "executionInfo": {
     "elapsed": 59,
     "status": "ok",
     "timestamp": 1730828974743,
     "user": {
      "displayName": "Sergey Korpachev",
      "userId": "09181340988160569540"
     },
     "user_tz": -180
    },
    "id": "GFGYxe__Lc8c",
    "outputId": "c46ec5c0-c2ab-4550-bd3d-aeb37b1c7b38"
   },
   "outputs": [],
   "source": [
    "### ╰( ͡° ͜ʖ ͡° )つ──☆*:・ﾟ"
   ]
  },
  {
   "cell_type": "markdown",
   "metadata": {
    "id": "pWbq2zhCFDT0"
   },
   "source": [
    "### **Задание 3 (1 балл).**\n",
    "\n",
    "Чему равна энтропия игральной кости (мы рассматриваем игральную кость, как систему с 6 равновероятными состояниями)?"
   ]
  },
  {
   "cell_type": "code",
   "execution_count": null,
   "metadata": {
    "colab": {
     "base_uri": "https://localhost:8080/"
    },
    "executionInfo": {
     "elapsed": 48,
     "status": "ok",
     "timestamp": 1730828974743,
     "user": {
      "displayName": "Sergey Korpachev",
      "userId": "09181340988160569540"
     },
     "user_tz": -180
    },
    "id": "yZ5J5IclFDT1",
    "outputId": "376b362e-8f48-405f-8391-42d7b9208dc4"
   },
   "outputs": [],
   "source": [
    "### ╰( ͡° ͜ʖ ͡° )つ──☆*:・ﾟ"
   ]
  },
  {
   "cell_type": "markdown",
   "metadata": {
    "id": "yJAzTDEGFDT2"
   },
   "source": [
    "### **Задание 4 (1 балл).**\n",
    "\n",
    "Напишите функцию, которая вычисляет информационный выигрыш при делении исходных данных на **balls_left** and **balls_right** ?"
   ]
  },
  {
   "cell_type": "code",
   "execution_count": null,
   "metadata": {
    "executionInfo": {
     "elapsed": 34,
     "status": "ok",
     "timestamp": 1730828974744,
     "user": {
      "displayName": "Sergey Korpachev",
      "userId": "09181340988160569540"
     },
     "user_tz": -180
    },
    "id": "_zcIi_zPFDT3"
   },
   "outputs": [],
   "source": [
    "# вычисление информационного выигрыша\n",
    "\n",
    "def information_gain(full_data, left, right):\n",
    "    ''' full_data - исходные данные, left и right - две части исходных данных'''\n",
    "    pass\n",
    "    ### ╰( ͡° ͜ʖ ͡° )つ──☆*:・ﾟ"
   ]
  },
  {
   "cell_type": "markdown",
   "metadata": {
    "id": "eDlZZXsjtrEe"
   },
   "source": [
    "Проверка:"
   ]
  },
  {
   "cell_type": "code",
   "execution_count": null,
   "metadata": {
    "colab": {
     "base_uri": "https://localhost:8080/"
    },
    "executionInfo": {
     "elapsed": 33,
     "status": "ok",
     "timestamp": 1730828974744,
     "user": {
      "displayName": "Sergey Korpachev",
      "userId": "09181340988160569540"
     },
     "user_tz": -180
    },
    "id": "P8LObybNFDT4",
    "outputId": "d0a0c8a5-7488-4f98-e361-647f5ab53c80"
   },
   "outputs": [],
   "source": [
    "print(round(information_gain(balls, balls_left, balls_right), 3))"
   ]
  },
  {
   "cell_type": "markdown",
   "metadata": {
    "id": "Wg8dvxrr8zJg"
   },
   "source": [
    "## **Часть 2**"
   ]
  },
  {
   "cell_type": "markdown",
   "metadata": {
    "id": "w0rJtyGxwNsu"
   },
   "source": [
    "В этой части мы рассмотрим дерево из sklearn на примере задачи классификации. В качестве данных мы возьмём The \"Adult\" Dataset.\n",
    "\n",
    "Сначала сделаем предобработку данных, затем приступим к обучению модели."
   ]
  },
  {
   "cell_type": "markdown",
   "metadata": {
    "id": "KZpBugiEFDT7"
   },
   "source": [
    "Описание датасета:"
   ]
  },
  {
   "cell_type": "markdown",
   "metadata": {
    "id": "YwQFMbRKFDT8"
   },
   "source": [
    "[Dataset](https://www.kaggle.com/datasets/sagnikpatra/uci-adult-census-data-dataset) UCI Adult (файлы не нужно загружать, они доступны в репозитории данного курса ): классификация людей на основе демографических данных - зарабатывает ли человек более \\$50,000 в год или нет."
   ]
  },
  {
   "cell_type": "markdown",
   "metadata": {
    "id": "jXf4ejAcFDT9"
   },
   "source": [
    "Описание входных признаков:"
   ]
  },
  {
   "cell_type": "markdown",
   "metadata": {
    "id": "nBOXO_GYFDT9"
   },
   "source": [
    "- **Age** – непрерывный признак\n",
    "- **Workclass** –  непрерывный признак\n",
    "- **fnlwgt** – конечный вес объекта, непрерывный признак\n",
    "- **Education** –  категориальный признак\n",
    "- **Education_Num** – количество лет образования, непрерывный признак\n",
    "- **Martial_Status** –  категориальный признак\n",
    "- **Occupation** –  категориальный признак\n",
    "- **Relationship** – категориальный признак\n",
    "- **Race** – категориальный признак\n",
    "- **Sex** – категориальный признак\n",
    "- **Capital_Gain** – непрерывный признак\n",
    "- **Capital_Loss** – непрерывный признак\n",
    "- **Hours_per_week** – непрерывный признак\n",
    "- **Country** – категориальный признак"
   ]
  },
  {
   "cell_type": "markdown",
   "metadata": {
    "id": "PLMZJNl-FDT-"
   },
   "source": [
    "**Target** – уровень дохода, категориальный (бинарный) признак."
   ]
  },
  {
   "cell_type": "markdown",
   "metadata": {
    "id": "F_4_6PslFDT-"
   },
   "source": [
    "Датасет состоит из двух файлов: для обучения и для тестирования."
   ]
  },
  {
   "cell_type": "code",
   "execution_count": null,
   "metadata": {
    "executionInfo": {
     "elapsed": 19,
     "status": "ok",
     "timestamp": 1730828974744,
     "user": {
      "displayName": "Sergey Korpachev",
      "userId": "09181340988160569540"
     },
     "user_tz": -180
    },
    "id": "PSlJeMVGFDT_"
   },
   "outputs": [],
   "source": [
    "data_train = pd.read_csv('adult_train.csv')"
   ]
  },
  {
   "cell_type": "code",
   "execution_count": null,
   "metadata": {
    "colab": {
     "base_uri": "https://localhost:8080/",
     "height": 304
    },
    "executionInfo": {
     "elapsed": 19,
     "status": "ok",
     "timestamp": 1730828974745,
     "user": {
      "displayName": "Sergey Korpachev",
      "userId": "09181340988160569540"
     },
     "user_tz": -180
    },
    "id": "gpIeUeTBFDUB",
    "outputId": "9826fae0-b09f-4be7-be68-52d88142906d"
   },
   "outputs": [],
   "source": [
    "data_train.head()"
   ]
  },
  {
   "cell_type": "code",
   "execution_count": null,
   "metadata": {
    "executionInfo": {
     "elapsed": 15,
     "status": "ok",
     "timestamp": 1730828974745,
     "user": {
      "displayName": "Sergey Korpachev",
      "userId": "09181340988160569540"
     },
     "user_tz": -180
    },
    "id": "tw8_1enCFDUB"
   },
   "outputs": [],
   "source": [
    "data_test = pd.read_csv('adult_test.csv')"
   ]
  },
  {
   "cell_type": "code",
   "execution_count": null,
   "metadata": {
    "colab": {
     "base_uri": "https://localhost:8080/",
     "height": 320
    },
    "executionInfo": {
     "elapsed": 669,
     "status": "ok",
     "timestamp": 1730828975400,
     "user": {
      "displayName": "Sergey Korpachev",
      "userId": "09181340988160569540"
     },
     "user_tz": -180
    },
    "id": "WR1lNtkBFDUC",
    "outputId": "d3f47094-bd2c-4724-87b2-f8fbe227e57a"
   },
   "outputs": [],
   "source": [
    "data_test.head()"
   ]
  },
  {
   "cell_type": "code",
   "execution_count": null,
   "metadata": {
    "executionInfo": {
     "elapsed": 30,
     "status": "ok",
     "timestamp": 1730828975401,
     "user": {
      "displayName": "Sergey Korpachev",
      "userId": "09181340988160569540"
     },
     "user_tz": -180
    },
    "id": "pYpZgeYbFDUF"
   },
   "outputs": [],
   "source": [
    "# удаляем строчки с неверными метками в тестовых данных\n",
    "data_test = data_test[(data_test['Target'] == ' >50K.') | (data_test['Target']==' <=50K.')]\n",
    "\n",
    "# кодируем целевую переменную как целое число\n",
    "data_train.loc[data_train['Target']==' <=50K', 'Target'] = 0\n",
    "data_train.loc[data_train['Target']==' >50K', 'Target'] = 1\n",
    "\n",
    "data_test.loc[data_test['Target']==' <=50K.', 'Target'] = 0\n",
    "data_test.loc[data_test['Target']==' >50K.', 'Target'] = 1"
   ]
  },
  {
   "cell_type": "code",
   "execution_count": null,
   "metadata": {
    "colab": {
     "base_uri": "https://localhost:8080/",
     "height": 560
    },
    "executionInfo": {
     "elapsed": 28,
     "status": "ok",
     "timestamp": 1730828975401,
     "user": {
      "displayName": "Sergey Korpachev",
      "userId": "09181340988160569540"
     },
     "user_tz": -180
    },
    "id": "jBUp2oKYLkrx",
    "outputId": "fce27a0f-7c24-4398-d8b9-f30c6a826590"
   },
   "outputs": [],
   "source": [
    "data_train.isna().sum()"
   ]
  },
  {
   "cell_type": "code",
   "execution_count": null,
   "metadata": {
    "colab": {
     "base_uri": "https://localhost:8080/",
     "height": 560
    },
    "executionInfo": {
     "elapsed": 26,
     "status": "ok",
     "timestamp": 1730828975401,
     "user": {
      "displayName": "Sergey Korpachev",
      "userId": "09181340988160569540"
     },
     "user_tz": -180
    },
    "id": "t_raU0FCMBql",
    "outputId": "bff71996-642c-40fc-d7db-4013d6985e1f"
   },
   "outputs": [],
   "source": [
    "data_test.isna().sum()"
   ]
  },
  {
   "cell_type": "markdown",
   "metadata": {
    "id": "rUJwiX-UFDUF"
   },
   "source": [
    "Первичный анализ датасета."
   ]
  },
  {
   "cell_type": "code",
   "execution_count": null,
   "metadata": {
    "colab": {
     "base_uri": "https://localhost:8080/",
     "height": 313
    },
    "executionInfo": {
     "elapsed": 24,
     "status": "ok",
     "timestamp": 1730828975402,
     "user": {
      "displayName": "Sergey Korpachev",
      "userId": "09181340988160569540"
     },
     "user_tz": -180
    },
    "id": "f_Ry2bRfFDUG",
    "outputId": "f2c74236-6b49-4ef6-f99f-66fbf3c845e8"
   },
   "outputs": [],
   "source": [
    "data_test.describe()"
   ]
  },
  {
   "cell_type": "code",
   "execution_count": null,
   "metadata": {
    "colab": {
     "base_uri": "https://localhost:8080/",
     "height": 193
    },
    "executionInfo": {
     "elapsed": 22,
     "status": "ok",
     "timestamp": 1730828975402,
     "user": {
      "displayName": "Sergey Korpachev",
      "userId": "09181340988160569540"
     },
     "user_tz": -180
    },
    "id": "L3sVvBaMFDUG",
    "outputId": "cdcf870a-37b0-4a02-a71c-bdf9121a32f3"
   },
   "outputs": [],
   "source": [
    "data_train['Target'].value_counts()"
   ]
  },
  {
   "cell_type": "code",
   "execution_count": null,
   "metadata": {
    "colab": {
     "base_uri": "https://localhost:8080/",
     "height": 1000
    },
    "executionInfo": {
     "elapsed": 11618,
     "status": "ok",
     "timestamp": 1730828987001,
     "user": {
      "displayName": "Sergey Korpachev",
      "userId": "09181340988160569540"
     },
     "user_tz": -180
    },
    "id": "qytDLHIHFDUH",
    "outputId": "c7de3633-a052-47ff-851f-ba387cfc3e86"
   },
   "outputs": [],
   "source": [
    "fig = plt.figure(figsize=(25, 15))\n",
    "cols = 5\n",
    "rows = int(np.ceil(float(data_train.shape[1]) / cols))\n",
    "for i, column in enumerate(data_train.columns):\n",
    "    ax = fig.add_subplot(rows, cols, i + 1)\n",
    "    ax.set_title(column)\n",
    "    if data_train.dtypes[column] == object:\n",
    "        data_train[column].value_counts().plot(kind=\"bar\", axes=ax)\n",
    "    else:\n",
    "        data_train[column].hist(axes=ax)\n",
    "        plt.xticks(rotation=\"vertical\")\n",
    "plt.subplots_adjust(hspace=0.7, wspace=0.2)\n",
    "plt.tight_layout()"
   ]
  },
  {
   "cell_type": "markdown",
   "metadata": {
    "id": "jxuU4sXiFDUH"
   },
   "source": [
    "Давайте посмотрим на типы данных в наших датасетах."
   ]
  },
  {
   "cell_type": "code",
   "execution_count": null,
   "metadata": {
    "colab": {
     "base_uri": "https://localhost:8080/",
     "height": 560
    },
    "executionInfo": {
     "elapsed": 265,
     "status": "ok",
     "timestamp": 1730828987001,
     "user": {
      "displayName": "Sergey Korpachev",
      "userId": "09181340988160569540"
     },
     "user_tz": -180
    },
    "id": "FVNbF1d-FDUI",
    "outputId": "fea17b18-5647-4188-c95a-b073fad4ad50"
   },
   "outputs": [],
   "source": [
    "data_train.dtypes"
   ]
  },
  {
   "cell_type": "code",
   "execution_count": null,
   "metadata": {
    "colab": {
     "base_uri": "https://localhost:8080/",
     "height": 560
    },
    "executionInfo": {
     "elapsed": 263,
     "status": "ok",
     "timestamp": 1730828987002,
     "user": {
      "displayName": "Sergey Korpachev",
      "userId": "09181340988160569540"
     },
     "user_tz": -180
    },
    "id": "BgLN97ywFDUI",
    "outputId": "ff6fecb1-0d9e-4d2a-818f-d869fc4de9e4"
   },
   "outputs": [],
   "source": [
    "data_test.dtypes"
   ]
  },
  {
   "cell_type": "markdown",
   "metadata": {
    "id": "i7DA3P1_FDUJ"
   },
   "source": [
    "Как мы видим, в тестовых данных признак Age рассматривается, как тип **object**. Нам нужно это исправить."
   ]
  },
  {
   "cell_type": "code",
   "execution_count": null,
   "metadata": {
    "executionInfo": {
     "elapsed": 260,
     "status": "ok",
     "timestamp": 1730828987002,
     "user": {
      "displayName": "Sergey Korpachev",
      "userId": "09181340988160569540"
     },
     "user_tz": -180
    },
    "id": "6ai9itVaFDUK"
   },
   "outputs": [],
   "source": [
    "data_test['Age'] = data_test['Age'].astype(int)"
   ]
  },
  {
   "cell_type": "markdown",
   "metadata": {
    "id": "BXw5tsyvFDUK"
   },
   "source": [
    "Также мы приведём все признаки с типами **float** к типам **int**, чтобы обеспечить согласованность типов между нашими обучающими и тестовыми данными."
   ]
  },
  {
   "cell_type": "code",
   "execution_count": null,
   "metadata": {
    "executionInfo": {
     "elapsed": 259,
     "status": "ok",
     "timestamp": 1730828987002,
     "user": {
      "displayName": "Sergey Korpachev",
      "userId": "09181340988160569540"
     },
     "user_tz": -180
    },
    "id": "LWNT8SQcFDUK"
   },
   "outputs": [],
   "source": [
    "data_test['fnlwgt'] = data_test['fnlwgt'].astype(int)\n",
    "data_test['Education_Num'] = data_test['Education_Num'].astype(int)\n",
    "data_test['Capital_Gain'] = data_test['Capital_Gain'].astype(int)\n",
    "data_test['Capital_Loss'] = data_test['Capital_Loss'].astype(int)\n",
    "data_test['Hours_per_week'] = data_test['Hours_per_week'].astype(int)"
   ]
  },
  {
   "cell_type": "markdown",
   "metadata": {
    "id": "s3aQsqtJFDUL"
   },
   "source": [
    "Мы заполним пропущенные значения медианами для непрерывных признаков и модами для категориальных."
   ]
  },
  {
   "cell_type": "code",
   "execution_count": null,
   "metadata": {
    "colab": {
     "base_uri": "https://localhost:8080/"
    },
    "executionInfo": {
     "elapsed": 259,
     "status": "ok",
     "timestamp": 1730828987003,
     "user": {
      "displayName": "Sergey Korpachev",
      "userId": "09181340988160569540"
     },
     "user_tz": -180
    },
    "id": "bRU9WFlIFDUM",
    "outputId": "fb76f5dd-e9bb-4cad-e871-cd2e602a25a8"
   },
   "outputs": [],
   "source": [
    "# выбираем категориальные и непрерывные признаки из данных\n",
    "\n",
    "categorical_columns = [c for c in data_train.columns\n",
    "                       if data_train[c].dtype.name == 'object']\n",
    "numerical_columns = [c for c in data_train.columns\n",
    "                     if data_train[c].dtype.name != 'object']\n",
    "\n",
    "print('categorical_columns:', categorical_columns)\n",
    "print('numerical_columns:', numerical_columns)"
   ]
  },
  {
   "cell_type": "code",
   "execution_count": null,
   "metadata": {
    "colab": {
     "base_uri": "https://localhost:8080/"
    },
    "executionInfo": {
     "elapsed": 237,
     "status": "ok",
     "timestamp": 1730828987003,
     "user": {
      "displayName": "Sergey Korpachev",
      "userId": "09181340988160569540"
     },
     "user_tz": -180
    },
    "id": "JLLxBhgUFDUN",
    "outputId": "78f3c706-0bb6-4975-9849-87cd55ef82ad"
   },
   "outputs": [],
   "source": [
    "# можно заметить пропущенные значения\n",
    "data_train.info()"
   ]
  },
  {
   "cell_type": "code",
   "execution_count": null,
   "metadata": {
    "executionInfo": {
     "elapsed": 224,
     "status": "ok",
     "timestamp": 1730828987004,
     "user": {
      "displayName": "Sergey Korpachev",
      "userId": "09181340988160569540"
     },
     "user_tz": -180
    },
    "id": "P6XyJtcBFDUP"
   },
   "outputs": [],
   "source": [
    "# заполняем пропущенные значения\n",
    "for c in categorical_columns:\n",
    "    data_train[c] = data_train[c].fillna(data_train[c].mode()[0])\n",
    "    data_test[c] = data_test[c].fillna(data_test[c].mode()[0])\n",
    "\n",
    "for c in numerical_columns:\n",
    "    data_train[c] = data_train[c].fillna(data_train[c].median())\n",
    "    data_test[c] = data_test[c].fillna(data_test[c].median())"
   ]
  },
  {
   "cell_type": "code",
   "execution_count": null,
   "metadata": {
    "colab": {
     "base_uri": "https://localhost:8080/"
    },
    "executionInfo": {
     "elapsed": 221,
     "status": "ok",
     "timestamp": 1730828987004,
     "user": {
      "displayName": "Sergey Korpachev",
      "userId": "09181340988160569540"
     },
     "user_tz": -180
    },
    "id": "q7Vi5JKIFDUQ",
    "outputId": "fa875e21-cf91-44d6-b90e-4c63a32109ab"
   },
   "outputs": [],
   "source": [
    "# пропусков нет\n",
    "data_train.info()"
   ]
  },
  {
   "cell_type": "markdown",
   "metadata": {
    "id": "QdP6ZwGEFDUR"
   },
   "source": [
    "Закодируем некоторые категориальные признаки: **Workclass**, **Education**, **Martial_Status**, **Occupation**, **Relationship**, **Race**, **Sex**, **Country**. Это можно сделать с помощью метода `get_dummies` в pandas."
   ]
  },
  {
   "cell_type": "code",
   "execution_count": null,
   "metadata": {
    "executionInfo": {
     "elapsed": 206,
     "status": "ok",
     "timestamp": 1730828987005,
     "user": {
      "displayName": "Sergey Korpachev",
      "userId": "09181340988160569540"
     },
     "user_tz": -180
    },
    "id": "-LmcVn4NFDUR"
   },
   "outputs": [],
   "source": [
    "data_train = pd.concat([data_train[numerical_columns],\n",
    "    pd.get_dummies(data_train[categorical_columns])], axis=1)\n",
    "\n",
    "data_test = pd.concat([data_test[numerical_columns],\n",
    "    pd.get_dummies(data_test[categorical_columns])], axis=1)"
   ]
  },
  {
   "cell_type": "code",
   "execution_count": null,
   "metadata": {
    "colab": {
     "base_uri": "https://localhost:8080/"
    },
    "executionInfo": {
     "elapsed": 204,
     "status": "ok",
     "timestamp": 1730828987005,
     "user": {
      "displayName": "Sergey Korpachev",
      "userId": "09181340988160569540"
     },
     "user_tz": -180
    },
    "id": "Bi99xXD0FDUS",
    "outputId": "0a37401b-0776-4103-8457-eafaa8a97e37"
   },
   "outputs": [],
   "source": [
    "set(data_train.columns) - set(data_test.columns)"
   ]
  },
  {
   "cell_type": "code",
   "execution_count": null,
   "metadata": {
    "colab": {
     "base_uri": "https://localhost:8080/"
    },
    "executionInfo": {
     "elapsed": 187,
     "status": "ok",
     "timestamp": 1730828987005,
     "user": {
      "displayName": "Sergey Korpachev",
      "userId": "09181340988160569540"
     },
     "user_tz": -180
    },
    "id": "CKTTFrySFDUS",
    "outputId": "9daacef0-77b3-4d66-ec44-6a25cd0e6420"
   },
   "outputs": [],
   "source": [
    "data_train.shape, data_test.shape"
   ]
  },
  {
   "cell_type": "markdown",
   "metadata": {
    "id": "ItmJc83DFDUU"
   },
   "source": [
    "Тут вы можете заметить, что одного признака нет в тестовых данных. Можно создать новый нулевой признак."
   ]
  },
  {
   "cell_type": "code",
   "execution_count": null,
   "metadata": {
    "executionInfo": {
     "elapsed": 174,
     "status": "ok",
     "timestamp": 1730828987006,
     "user": {
      "displayName": "Sergey Korpachev",
      "userId": "09181340988160569540"
     },
     "user_tz": -180
    },
    "id": "E16WxjvBFDUV"
   },
   "outputs": [],
   "source": [
    "data_test['Country_ Holand-Netherlands'] = 0"
   ]
  },
  {
   "cell_type": "code",
   "execution_count": null,
   "metadata": {
    "colab": {
     "base_uri": "https://localhost:8080/"
    },
    "executionInfo": {
     "elapsed": 173,
     "status": "ok",
     "timestamp": 1730828987006,
     "user": {
      "displayName": "Sergey Korpachev",
      "userId": "09181340988160569540"
     },
     "user_tz": -180
    },
    "id": "lhBqMqlvFDUW",
    "outputId": "635b3457-6bd1-47f7-a7e8-db55536c857e"
   },
   "outputs": [],
   "source": [
    "set(data_train.columns) - set(data_test.columns)"
   ]
  },
  {
   "cell_type": "code",
   "execution_count": null,
   "metadata": {
    "colab": {
     "base_uri": "https://localhost:8080/",
     "height": 161
    },
    "executionInfo": {
     "elapsed": 161,
     "status": "ok",
     "timestamp": 1730828987006,
     "user": {
      "displayName": "Sergey Korpachev",
      "userId": "09181340988160569540"
     },
     "user_tz": -180
    },
    "id": "4Ldyj6I9FDUW",
    "outputId": "ed0b26fc-03aa-439b-9132-69d0b2051912"
   },
   "outputs": [],
   "source": [
    "data_train.head(1)"
   ]
  },
  {
   "cell_type": "code",
   "execution_count": null,
   "metadata": {
    "colab": {
     "base_uri": "https://localhost:8080/",
     "height": 161
    },
    "executionInfo": {
     "elapsed": 156,
     "status": "ok",
     "timestamp": 1730828987006,
     "user": {
      "displayName": "Sergey Korpachev",
      "userId": "09181340988160569540"
     },
     "user_tz": -180
    },
    "id": "M1JKjOtyFDUX",
    "outputId": "20a3e719-4820-4bcd-e103-34297e87bc1f"
   },
   "outputs": [],
   "source": [
    "data_test.head(1)"
   ]
  },
  {
   "cell_type": "markdown",
   "metadata": {
    "id": "CtWtTidREe-G"
   },
   "source": [
    "Однако теперь видим, что порядок признаков в двух наборах данных может быть нарушен. Чтобы модель при предсказании не ругалась на это (порядок признаков в обучении и тестировании должен совпадать), можно выполнить следующее действие."
   ]
  },
  {
   "cell_type": "code",
   "execution_count": null,
   "metadata": {
    "executionInfo": {
     "elapsed": 155,
     "status": "ok",
     "timestamp": 1730828987008,
     "user": {
      "displayName": "Sergey Korpachev",
      "userId": "09181340988160569540"
     },
     "user_tz": -180
    },
    "id": "dXqC4lO0XvIg"
   },
   "outputs": [],
   "source": [
    "data_train = pd.concat([data_train.drop(['Country_ Holand-Netherlands'], axis=1), data_train['Country_ Holand-Netherlands']], axis=1)"
   ]
  },
  {
   "cell_type": "code",
   "execution_count": null,
   "metadata": {
    "colab": {
     "base_uri": "https://localhost:8080/",
     "height": 161
    },
    "executionInfo": {
     "elapsed": 153,
     "status": "ok",
     "timestamp": 1730828987008,
     "user": {
      "displayName": "Sergey Korpachev",
      "userId": "09181340988160569540"
     },
     "user_tz": -180
    },
    "id": "jCBmykFUXvf9",
    "outputId": "d6f126ed-1f4d-4920-c5e2-a3bb192f5787"
   },
   "outputs": [],
   "source": [
    "data_train.head(1)"
   ]
  },
  {
   "cell_type": "code",
   "execution_count": null,
   "metadata": {
    "colab": {
     "base_uri": "https://localhost:8080/",
     "height": 161
    },
    "executionInfo": {
     "elapsed": 150,
     "status": "ok",
     "timestamp": 1730828987009,
     "user": {
      "displayName": "Sergey Korpachev",
      "userId": "09181340988160569540"
     },
     "user_tz": -180
    },
    "id": "k9nyIdlNYOUt",
    "outputId": "8f70ef9f-ed55-471c-c913-0963dd2f0c27"
   },
   "outputs": [],
   "source": [
    "data_test.head(1)"
   ]
  },
  {
   "cell_type": "code",
   "execution_count": null,
   "metadata": {
    "colab": {
     "base_uri": "https://localhost:8080/"
    },
    "executionInfo": {
     "elapsed": 147,
     "status": "ok",
     "timestamp": 1730828987009,
     "user": {
      "displayName": "Sergey Korpachev",
      "userId": "09181340988160569540"
     },
     "user_tz": -180
    },
    "id": "aSjc5keFWVPh",
    "outputId": "b5d7327e-c5d2-4a34-da5c-ab557022eb94"
   },
   "outputs": [],
   "source": [
    "data_train.shape, data_test.shape"
   ]
  },
  {
   "cell_type": "code",
   "execution_count": null,
   "metadata": {
    "executionInfo": {
     "elapsed": 131,
     "status": "ok",
     "timestamp": 1730828987010,
     "user": {
      "displayName": "Sergey Korpachev",
      "userId": "09181340988160569540"
     },
     "user_tz": -180
    },
    "id": "N-SRYYCyFDUX"
   },
   "outputs": [],
   "source": [
    "X_train = data_train.drop(['Target'], axis=1)\n",
    "y_train = data_train['Target']\n",
    "\n",
    "X_test = data_test.drop(['Target'], axis=1)\n",
    "y_test = data_test['Target']"
   ]
  },
  {
   "cell_type": "markdown",
   "metadata": {
    "id": "4XDKcVhGFDUY"
   },
   "source": [
    "Рассмотрим решающее дерево без оптимизации гиперпараметров."
   ]
  },
  {
   "cell_type": "markdown",
   "metadata": {
    "id": "6TvgNzFWFDUY"
   },
   "source": [
    "### **Задание 5 (2 балла).**\n",
    "\n",
    "Обучите `DecisionTreeClassifier` с глубиной равной 3. Используйте параметр `random_state = 17` для воспроизводства результатов. Получите гиперпараметры из модели. Получите оценку меток классов и вероятностей классов. Для проверки качества модели посчитайте следующие метрики на тестовых данных: `Accuracy`, `Precision`, `Recall` и `F1`. Какой можно сделать вывод на основе полученных значений?"
   ]
  },
  {
   "cell_type": "code",
   "execution_count": null,
   "metadata": {
    "colab": {
     "base_uri": "https://localhost:8080/",
     "height": 100
    },
    "executionInfo": {
     "elapsed": 127,
     "status": "ok",
     "timestamp": 1730828987010,
     "user": {
      "displayName": "Sergey Korpachev",
      "userId": "09181340988160569540"
     },
     "user_tz": -180
    },
    "id": "FPsvpCPrFDUZ",
    "outputId": "daa3de42-6e89-474f-c8d4-1f296f8e5e74"
   },
   "outputs": [],
   "source": [
    "### ╰( ͡° ͜ʖ ͡° )つ──☆*:・ﾟ\n",
    "\n",
    "tree_clf = ..."
   ]
  },
  {
   "cell_type": "markdown",
   "metadata": {
    "id": "73kAIsdyZPDa"
   },
   "source": [
    "Гиперпараметры вашей модели:"
   ]
  },
  {
   "cell_type": "code",
   "execution_count": null,
   "metadata": {
    "colab": {
     "base_uri": "https://localhost:8080/"
    },
    "executionInfo": {
     "elapsed": 123,
     "status": "ok",
     "timestamp": 1730828987010,
     "user": {
      "displayName": "Sergey Korpachev",
      "userId": "09181340988160569540"
     },
     "user_tz": -180
    },
    "id": "1TFBNMquT2Jw",
    "outputId": "ef42d2fd-7374-42e5-9cbf-5d497a1e11a0"
   },
   "outputs": [],
   "source": [
    "tree_clf.get_params()"
   ]
  },
  {
   "cell_type": "markdown",
   "metadata": {
    "id": "NnZ7Cj42FDUa"
   },
   "source": [
    "Сделайте предсказание обученной модели на тестовых данных."
   ]
  },
  {
   "cell_type": "code",
   "execution_count": null,
   "metadata": {
    "executionInfo": {
     "elapsed": 104,
     "status": "ok",
     "timestamp": 1730828987011,
     "user": {
      "displayName": "Sergey Korpachev",
      "userId": "09181340988160569540"
     },
     "user_tz": -180
    },
    "id": "9LBvi7mDFDUa"
   },
   "outputs": [],
   "source": [
    "### ╰( ͡° ͜ʖ ͡° )つ──☆*:・ﾟ\n",
    "\n",
    "tree_predictions = ...\n",
    "tree_predictions_proba = ..."
   ]
  },
  {
   "cell_type": "code",
   "execution_count": null,
   "metadata": {
    "colab": {
     "base_uri": "https://localhost:8080/"
    },
    "executionInfo": {
     "elapsed": 103,
     "status": "ok",
     "timestamp": 1730828987011,
     "user": {
      "displayName": "Sergey Korpachev",
      "userId": "09181340988160569540"
     },
     "user_tz": -180
    },
    "id": "HrP59w22B8n0",
    "outputId": "b32f680e-a064-4278-c845-f3375a9555d1"
   },
   "outputs": [],
   "source": [
    "tree_predictions[:5]"
   ]
  },
  {
   "cell_type": "code",
   "execution_count": null,
   "metadata": {
    "colab": {
     "base_uri": "https://localhost:8080/"
    },
    "executionInfo": {
     "elapsed": 88,
     "status": "ok",
     "timestamp": 1730828987011,
     "user": {
      "displayName": "Sergey Korpachev",
      "userId": "09181340988160569540"
     },
     "user_tz": -180
    },
    "id": "_c_c9hJsB-7W",
    "outputId": "9d018d8d-40e4-4df3-83aa-36cc8421a285"
   },
   "outputs": [],
   "source": [
    "tree_predictions_proba[:5]"
   ]
  },
  {
   "cell_type": "markdown",
   "metadata": {
    "id": "wd_UxfxzFDUb"
   },
   "source": [
    "Какова точность (`Accuracy`) такого решающего дерева? Тоже самое сделайте для других метрик. Можно ли что-то сказать про сбалансированных классов?"
   ]
  },
  {
   "cell_type": "code",
   "execution_count": null,
   "metadata": {
    "colab": {
     "base_uri": "https://localhost:8080/"
    },
    "executionInfo": {
     "elapsed": 76,
     "status": "ok",
     "timestamp": 1730828987012,
     "user": {
      "displayName": "Sergey Korpachev",
      "userId": "09181340988160569540"
     },
     "user_tz": -180
    },
    "id": "cKPgnZW6FDUc",
    "outputId": "a4eefe3e-3deb-4e6c-bbc2-5f4a64f107c1"
   },
   "outputs": [],
   "source": [
    "### ╰( ͡° ͜ʖ ͡° )つ──☆*:・ﾟ"
   ]
  },
  {
   "cell_type": "markdown",
   "metadata": {
    "id": "batI8Mw4wxpc"
   },
   "source": [
    "### **Задание 6 (2 балла).**\n",
    "\n",
    "* Нарисуйте ROC-кривую и посчитайте AUC ROC для неё. Какие можно сделать выводы?\n",
    "\n",
    "* Также нарисуйте Precision-Recall-кривую и посчитайте Average Precision метрику для неё. Какие здесь можно сделать выводы?"
   ]
  },
  {
   "cell_type": "code",
   "execution_count": null,
   "metadata": {
    "executionInfo": {
     "elapsed": 62,
     "status": "ok",
     "timestamp": 1730828987013,
     "user": {
      "displayName": "Sergey Korpachev",
      "userId": "09181340988160569540"
     },
     "user_tz": -180
    },
    "id": "_iklpacledbb"
   },
   "outputs": [],
   "source": [
    "### ╰( ͡° ͜ʖ ͡° )つ──☆*:・ﾟ"
   ]
  },
  {
   "cell_type": "code",
   "execution_count": null,
   "metadata": {
    "colab": {
     "base_uri": "https://localhost:8080/",
     "height": 593
    },
    "executionInfo": {
     "elapsed": 5335,
     "status": "ok",
     "timestamp": 1730828992288,
     "user": {
      "displayName": "Sergey Korpachev",
      "userId": "09181340988160569540"
     },
     "user_tz": -180
    },
    "id": "BM4KmMz8SG61",
    "outputId": "65e0c7aa-d3e5-43dc-a5bc-25812dc3d119"
   },
   "outputs": [],
   "source": [
    "### ╰( ͡° ͜ʖ ͡° )つ──☆*:・ﾟ"
   ]
  },
  {
   "cell_type": "code",
   "execution_count": null,
   "metadata": {
    "executionInfo": {
     "elapsed": 31,
     "status": "ok",
     "timestamp": 1730828992289,
     "user": {
      "displayName": "Sergey Korpachev",
      "userId": "09181340988160569540"
     },
     "user_tz": -180
    },
    "id": "EPIjTg-seFpV"
   },
   "outputs": [],
   "source": [
    "### ╰( ͡° ͜ʖ ͡° )つ──☆*:・ﾟ"
   ]
  },
  {
   "cell_type": "code",
   "execution_count": null,
   "metadata": {
    "colab": {
     "base_uri": "https://localhost:8080/",
     "height": 593
    },
    "executionInfo": {
     "elapsed": 31,
     "status": "ok",
     "timestamp": 1730828992290,
     "user": {
      "displayName": "Sergey Korpachev",
      "userId": "09181340988160569540"
     },
     "user_tz": -180
    },
    "id": "wFz30CtCiNkj",
    "outputId": "6d1ce759-4ce8-42e8-9c06-1574a610a802"
   },
   "outputs": [],
   "source": [
    "### ╰( ͡° ͜ʖ ͡° )つ──☆*:・ﾟ"
   ]
  },
  {
   "cell_type": "markdown",
   "metadata": {
    "id": "C4Q3VUNjqntk"
   },
   "source": [
    "Теперь посмотрим на работу дерева на следующих стандартных датасетах."
   ]
  },
  {
   "cell_type": "markdown",
   "metadata": {
    "id": "jD-PaZj5tGLh"
   },
   "source": [
    "### **Задание 7 (2 балла).**\n",
    "\n",
    "Даны следующие датасеты из sklearn. Для начала нарисуйте их через `scatter`, каждый в отдельности. И обучите `DecisionTreeClassifier` с `random_state=17` на каждом датасете. Получите значения меток классов на тестовых данных. Чему равна метрика `Accuracy` для каждого случая? Затем покажите графически результат работы моделей через `plot_decision_regions`.\n",
    "\n",
    "В этом задании предпочтительнее использовать цикл, чтобы не писать одинаковый код несколько раз. Попробуйте сделать именно так.\n",
    "\n",
    "Какие выводы можно сделать? Есть ли признаки переобучения деревьев? Если да, то какие? И что можно сделать в случае, если дерево переобучается?"
   ]
  },
  {
   "cell_type": "code",
   "execution_count": null,
   "metadata": {
    "executionInfo": {
     "elapsed": 28,
     "status": "ok",
     "timestamp": 1730828992290,
     "user": {
      "displayName": "Sergey Korpachev",
      "userId": "09181340988160569540"
     },
     "user_tz": -180
    },
    "id": "RUayUYlWrOp1"
   },
   "outputs": [],
   "source": [
    "# уже готовые датасеты\n",
    "\n",
    "datasets = [\n",
    "    make_circles(n_samples=1000, noise=0.1, factor=0.5, random_state=17),\n",
    "    make_moons(n_samples=1000, noise=0.1, random_state=17),\n",
    "    make_classification(n_samples=1000, n_classes=3, n_clusters_per_class=1, n_features=2, class_sep=.8, random_state=17,\n",
    "                        n_redundant=0)\n",
    "]"
   ]
  },
  {
   "cell_type": "code",
   "execution_count": null,
   "metadata": {
    "colab": {
     "base_uri": "https://localhost:8080/",
     "height": 1000
    },
    "executionInfo": {
     "elapsed": 27,
     "status": "ok",
     "timestamp": 1730828992290,
     "user": {
      "displayName": "Sergey Korpachev",
      "userId": "09181340988160569540"
     },
     "user_tz": -180
    },
    "id": "SyB3nTVuuBC-",
    "outputId": "c299481b-b7e4-4979-d88b-732dc203554d"
   },
   "outputs": [],
   "source": [
    "### ╰( ͡° ͜ʖ ͡° )つ──☆*:・ﾟ"
   ]
  }
 ],
 "metadata": {
  "colab": {
   "provenance": []
  },
  "kernelspec": {
   "display_name": "Python 3 (ipykernel)",
   "language": "python",
   "name": "python3"
  },
  "language_info": {
   "codemirror_mode": {
    "name": "ipython",
    "version": 3
   },
   "file_extension": ".py",
   "mimetype": "text/x-python",
   "name": "python",
   "nbconvert_exporter": "python",
   "pygments_lexer": "ipython3",
   "version": "3.9.7"
  }
 },
 "nbformat": 4,
 "nbformat_minor": 1
}
