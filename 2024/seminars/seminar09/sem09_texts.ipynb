{
  "cells": [
    {
      "cell_type": "markdown",
      "metadata": {
        "id": "KbHlWheTvTYi"
      },
      "source": [
        "# Семинар 9: обработка текстовых данных\n",
        "\n",
        "Из [курса](https://github.com/hse-ds/iad-intro-ds/tree/master)\n",
        "\n",
        "## Вступление\n",
        "Многие практические задачи так или иначе могут вовлекать в себя работу с текстовыми данными, например:\n",
        "\n",
        "- классификация текстов\n",
        "    - анализ тональности (например, позитивный/негативный отзыв)\n",
        "    - фильтрация спама\n",
        "    - по теме или жанру\n",
        "- машинный перевод\n",
        "- распознавание и синтез речи\n",
        "- извлечение информации\n",
        "    - именованные сущности (например, извлечение имен, локаций, названий организаций)\n",
        "    - извлечение фактов и событий\n",
        "- кластеризация текстов\n",
        "- оптическое распознавание символов\n",
        "- проверка правописания\n",
        "- вопросно-ответные системы, информационный поиск\n",
        "- суммаризация текстов\n",
        "- генерация текстов\n",
        "\n",
        "В целом, алгоритм работы с текстовыми данными можно разбить на такие шаги:\n",
        "\n",
        "- предобработка сырых данных\n",
        "- токенизация (создание словаря)\n",
        "- обработка словаря (удаление стоп-слов и пунктуации)\n",
        "- обработка токенов (лемматизация / стемминг)\n",
        "- векторизация текста (bag of words, TF-IDF, etc)\n",
        "\n",
        "Сегодня мы познакомимся с основами работы с текстовыми данными: рассмотрим некоторые методы предобработки и простейшие алгоритмы векторизации.\n",
        "\n",
        "### План семинара\n",
        "1. Токенизация\n",
        "2. Стоп-слова и пунктуация\n",
        "3. Лемматизация и стемминг\n",
        "4. Bag-of-words и TD-IDF\n",
        "5. Решение задачи с текстовыми данными\n",
        "6. Немножко про категориальные признаки"
      ]
    },
    {
      "cell_type": "markdown",
      "metadata": {
        "id": "aTYWd8k5vTYk"
      },
      "source": [
        "## 1. Токенизация\n",
        "\n",
        "Токенизировать — значит, поделить текст на слова, или *токены*. Самый наивный способ токенизировать текст — разделить на слова по пробелам с помощью `split`. Но `split` упускает очень много всего, например, не отделяет пунктуацию от слов. Кроме этого есть ещё много менее тривиальных проблем, которые мы обсудим по ходу семинара, поэтому на практике всегда используют готовые токенизаторы."
      ]
    },
    {
      "cell_type": "code",
      "execution_count": null,
      "metadata": {
        "ExecuteTime": {
          "end_time": "2023-04-18T16:50:57.367394Z",
          "start_time": "2023-04-18T16:50:56.706955Z"
        },
        "id": "7wYTyUXsvTYk"
      },
      "outputs": [],
      "source": [
        "# !pip install nltk"
      ]
    },
    {
      "cell_type": "code",
      "execution_count": null,
      "metadata": {
        "ExecuteTime": {
          "end_time": "2023-04-18T16:50:57.369338Z",
          "start_time": "2023-04-18T16:50:56.707864Z"
        },
        "id": "0hCRd91OvTYl"
      },
      "outputs": [],
      "source": [
        "import warnings\n",
        "\n",
        "import nltk\n",
        "import pandas as pd\n",
        "from nltk.tokenize import word_tokenize\n",
        "\n",
        "warnings.filterwarnings(\"ignore\")"
      ]
    },
    {
      "cell_type": "code",
      "execution_count": null,
      "metadata": {
        "ExecuteTime": {
          "end_time": "2023-04-18T16:50:57.388966Z",
          "start_time": "2023-04-18T16:50:57.270155Z"
        },
        "id": "X_Geg5BHE8Xo"
      },
      "outputs": [],
      "source": [
        "nltk.download(\"punkt\", quiet=True)"
      ]
    },
    {
      "cell_type": "code",
      "execution_count": null,
      "metadata": {
        "ExecuteTime": {
          "end_time": "2023-04-18T16:50:57.404335Z",
          "start_time": "2023-04-18T16:50:57.388538Z"
        },
        "id": "BnwtbxVSvTYl"
      },
      "outputs": [],
      "source": [
        "example = \"Но не каждый хочет что-то исправлять:(\""
      ]
    },
    {
      "cell_type": "code",
      "execution_count": null,
      "metadata": {
        "ExecuteTime": {
          "end_time": "2023-04-18T16:50:57.404687Z",
          "start_time": "2023-04-18T16:50:57.391837Z"
        },
        "id": "p2GQ7QsjvTYm"
      },
      "outputs": [],
      "source": [
        "# c помощью split()\n",
        "example.split()"
      ]
    },
    {
      "cell_type": "code",
      "execution_count": null,
      "metadata": {
        "ExecuteTime": {
          "end_time": "2023-04-18T16:50:57.404799Z",
          "start_time": "2023-04-18T16:50:57.394339Z"
        },
        "id": "nA0DyFIDvTYn"
      },
      "outputs": [],
      "source": [
        "# c помощью токенизатора\n",
        "word_tokenize(example)"
      ]
    },
    {
      "cell_type": "markdown",
      "metadata": {
        "id": "XQ7uHEJUvTYo"
      },
      "source": [
        "В nltk вообще есть довольно много токенизаторов:"
      ]
    },
    {
      "cell_type": "code",
      "execution_count": null,
      "metadata": {
        "ExecuteTime": {
          "end_time": "2023-04-18T16:50:57.404913Z",
          "start_time": "2023-04-18T16:50:57.400438Z"
        },
        "id": "_fnNryNkvTYo"
      },
      "outputs": [],
      "source": [
        "from nltk import tokenize\n",
        "\n",
        "dir(tokenize)[:16]"
      ]
    },
    {
      "cell_type": "markdown",
      "metadata": {
        "id": "6cs6tdtHvTYp"
      },
      "source": [
        "Можно получить индексы начала и конца каждого токена:"
      ]
    },
    {
      "cell_type": "code",
      "execution_count": null,
      "metadata": {
        "ExecuteTime": {
          "end_time": "2023-04-18T16:50:57.405149Z",
          "start_time": "2023-04-18T16:50:57.403084Z"
        },
        "id": "v3kOepXRvTYp"
      },
      "outputs": [],
      "source": [
        "wh_tok = tokenize.WhitespaceTokenizer()\n",
        "list(wh_tok.span_tokenize(example))"
      ]
    },
    {
      "cell_type": "markdown",
      "metadata": {
        "id": "yeMsc1yVvTYp"
      },
      "source": [
        "Некторые токенизаторы ведут себя специфично:"
      ]
    },
    {
      "cell_type": "code",
      "execution_count": null,
      "metadata": {
        "ExecuteTime": {
          "end_time": "2023-04-18T16:50:57.413500Z",
          "start_time": "2023-04-18T16:50:57.405960Z"
        },
        "id": "5diW1OKkvTYq"
      },
      "outputs": [],
      "source": [
        "tokenize.TreebankWordTokenizer().tokenize(\"don't stop me\")"
      ]
    },
    {
      "cell_type": "markdown",
      "metadata": {
        "id": "y4Jte9_YvTYq"
      },
      "source": [
        "Для некоторых задач это может быть полезно.\n",
        "\n",
        "А некоторые предназначены вообще не для текста на естественном языке:"
      ]
    },
    {
      "cell_type": "code",
      "execution_count": null,
      "metadata": {
        "ExecuteTime": {
          "end_time": "2023-04-18T16:50:57.413696Z",
          "start_time": "2023-04-18T16:50:57.408712Z"
        },
        "id": "vC4pjzzWvTYr"
      },
      "outputs": [],
      "source": [
        "tokenize.SExprTokenizer().tokenize(\"(a (b c)) d e (f)\")"
      ]
    },
    {
      "cell_type": "markdown",
      "metadata": {
        "id": "kTLQY6ndwP9u"
      },
      "source": [
        "Есть токенизатор, который может быть полезен для работы с твитами или сообщениями из соц. сетей. Он сохранит смайлики, хештеги и т.п."
      ]
    },
    {
      "cell_type": "code",
      "execution_count": null,
      "metadata": {
        "ExecuteTime": {
          "end_time": "2023-04-18T16:50:57.421227Z",
          "start_time": "2023-04-18T16:50:57.410680Z"
        },
        "id": "xioD_3G2vTYs"
      },
      "outputs": [],
      "source": [
        "from nltk.tokenize import TweetTokenizer\n",
        "\n",
        "tw = TweetTokenizer()\n",
        "tw.tokenize(example)"
      ]
    },
    {
      "cell_type": "markdown",
      "metadata": {
        "id": "fc1OYy0tvTYt"
      },
      "source": [
        "## 2. Стоп-слова и пунктуация\n",
        "\n",
        "*Стоп-слова* — это слова, которые часто встречаются практически в любом тексте и ничего интересного не говорят о конретном документе, то есть играют роль шума. Поэтому их принято убирать. По той же причине убирают и пунктуацию."
      ]
    },
    {
      "cell_type": "code",
      "execution_count": null,
      "metadata": {
        "ExecuteTime": {
          "end_time": "2023-04-18T16:50:57.421378Z",
          "start_time": "2023-04-18T16:50:57.416461Z"
        },
        "id": "g2F7i9CEvTYt"
      },
      "outputs": [],
      "source": [
        "nltk.download(\"stopwords\", quiet=True)"
      ]
    },
    {
      "cell_type": "code",
      "execution_count": null,
      "metadata": {
        "ExecuteTime": {
          "end_time": "2023-04-18T16:50:57.425601Z",
          "start_time": "2023-04-18T16:50:57.419634Z"
        },
        "id": "r8NdjFCYvTYt"
      },
      "outputs": [],
      "source": [
        "from nltk.corpus import stopwords\n",
        "\n",
        "print(stopwords.words(\"russian\"))"
      ]
    },
    {
      "cell_type": "code",
      "execution_count": null,
      "metadata": {
        "ExecuteTime": {
          "end_time": "2023-04-18T16:50:57.502816Z",
          "start_time": "2023-04-18T16:50:57.424371Z"
        },
        "id": "qfX11OyPE8Xz"
      },
      "outputs": [],
      "source": [
        "print(stopwords.words(\"english\"))"
      ]
    },
    {
      "cell_type": "code",
      "execution_count": null,
      "metadata": {
        "ExecuteTime": {
          "end_time": "2023-04-18T16:50:57.503520Z",
          "start_time": "2023-04-18T16:50:57.426937Z"
        },
        "id": "2DehgAP3vTYu"
      },
      "outputs": [],
      "source": [
        "from string import punctuation\n",
        "\n",
        "punctuation"
      ]
    },
    {
      "cell_type": "code",
      "execution_count": null,
      "metadata": {
        "ExecuteTime": {
          "end_time": "2023-04-18T16:50:57.503604Z",
          "start_time": "2023-04-18T16:50:57.429475Z"
        },
        "id": "gLzygOQ6vTYv"
      },
      "outputs": [],
      "source": [
        "noise = stopwords.words(\"russian\") + list(punctuation)"
      ]
    },
    {
      "cell_type": "markdown",
      "metadata": {
        "id": "1SEdeiiPvTYv"
      },
      "source": [
        "## 3. Лемматизация и стемминг\n",
        "### 3.1 Лемматизация\n",
        "\n",
        "[**Лемматизация**](https://en.wikipedia.org/wiki/Lemmatisation) — процесс приведения слова к его нормальной форме (**лемме**):\n",
        "- для существительных — именительный падеж, единственное число;\n",
        "- для прилагательных — именительный падеж, единственное число, мужской род;\n",
        "- для глаголов, причастий, деепричастий — глагол в инфинитиве.\n",
        "\n",
        "Например, токены «пью», «пил», «пьет» перейдут в «пить». Почему это хорошо?\n",
        "* Во-первых, мы хотим рассматривать как отдельный признак каждое *слово*, а не каждую его отдельную форму.\n",
        "* Во-вторых, некоторые стоп-слова стоят только в начальной форме, и без лемматизации выкидываем мы только её.\n",
        "\n",
        "Для русского есть два хороших лемматизатора: `mystem` и `pymorphy`.\n",
        "\n",
        "#### [Mystem](https://tech.yandex.ru/mystem/)\n",
        "\n",
        "Mystem — это пример популярной библиотеки для лемматизации. Как с ним работать:\n",
        "* скачать mystem и запускать [из терминала с разными параметрами](https://tech.yandex.ru/mystem/doc/)\n",
        "* использовать обёртку для питона [pymystem3](https://pythonhosted.org/pymystem3/pymystem3.html) (она медленнее, но удобнее в использовании)"
      ]
    },
    {
      "cell_type": "code",
      "execution_count": null,
      "metadata": {
        "ExecuteTime": {
          "end_time": "2023-04-18T16:50:57.503677Z",
          "start_time": "2023-04-18T16:50:57.431943Z"
        },
        "id": "IM5dc5MPvTYw",
        "scrolled": true
      },
      "outputs": [],
      "source": [
        "# !pip install pymystem3"
      ]
    },
    {
      "cell_type": "code",
      "execution_count": null,
      "metadata": {
        "ExecuteTime": {
          "end_time": "2023-04-18T16:50:57.503718Z",
          "start_time": "2023-04-18T16:50:57.433253Z"
        },
        "id": "60Q4xp6yvTYw"
      },
      "outputs": [],
      "source": [
        "from pymystem3 import Mystem\n",
        "\n",
        "mystem_analyzer = Mystem()"
      ]
    },
    {
      "cell_type": "markdown",
      "metadata": {
        "id": "al294srlvTYx"
      },
      "source": [
        "Мы инициализировали Mystem c дефолтными параметрами. А вообще параметры есть такие:\n",
        "* mystem_bin — путь к `mystem`, если их несколько\n",
        "* grammar_info — нужна ли грамматическая информация или только леммы (по умолчанию нужна)\n",
        "* disambiguation — нужно ли снятие [омонимии](https://ru.wikipedia.org/wiki/%D0%9E%D0%BC%D0%BE%D0%BD%D0%B8%D0%BC%D1%8B) - дизамбигуация (по умолчанию нужна)\n",
        "* entire_input — нужно ли сохранять в выводе все (пробелы, например), или можно выкинуть (по умолчанию оставляется все)\n",
        "\n",
        "Методы Mystem принимают строку, токенизатор вшит внутри. Можно, конечно, и пословно анализировать, но тогда он не сможет учитывать контекст.\n",
        "\n",
        "Можно просто лемматизировать текст:"
      ]
    },
    {
      "cell_type": "code",
      "execution_count": null,
      "metadata": {
        "ExecuteTime": {
          "end_time": "2023-04-18T16:50:57.954209Z",
          "start_time": "2023-04-18T16:50:57.436430Z"
        },
        "id": "3Oc4plDGvTYx"
      },
      "outputs": [],
      "source": [
        "print(mystem_analyzer.lemmatize(example))"
      ]
    },
    {
      "cell_type": "markdown",
      "metadata": {
        "id": "_mX1O12xvTYy"
      },
      "source": [
        "### [Pymorphy](http://pymorphy2.readthedocs.io/en/latest/)\n",
        "Это модуль на питоне, довольно быстрый и с кучей функций."
      ]
    },
    {
      "cell_type": "code",
      "execution_count": null,
      "metadata": {
        "ExecuteTime": {
          "end_time": "2023-04-18T16:50:57.956279Z",
          "start_time": "2023-04-18T16:50:57.953848Z"
        },
        "id": "l7-NcH9ivTYy"
      },
      "outputs": [],
      "source": [
        "!pip install pymorphy2"
      ]
    },
    {
      "cell_type": "code",
      "execution_count": null,
      "metadata": {
        "ExecuteTime": {
          "end_time": "2023-04-18T16:50:57.963124Z",
          "start_time": "2023-04-18T16:50:57.956363Z"
        },
        "id": "E7ojTONZE8X2"
      },
      "outputs": [],
      "source": [
        "from pymorphy2 import MorphAnalyzer"
      ]
    },
    {
      "cell_type": "code",
      "execution_count": null,
      "metadata": {
        "ExecuteTime": {
          "end_time": "2023-04-18T16:50:58.019760Z",
          "start_time": "2023-04-18T16:50:57.963923Z"
        },
        "id": "jnL4uv6JvTYz"
      },
      "outputs": [],
      "source": [
        "pymorphy2_analyzer = MorphAnalyzer()"
      ]
    },
    {
      "cell_type": "markdown",
      "metadata": {
        "id": "tIe3ssarvTYz"
      },
      "source": [
        "pymorphy2 работает с отдельными словами. Если дать ему на вход предложение, то он его просто не лемматизирует, т.к. не понимает.\n",
        "\n",
        "Метод MorphAnalyzer.parse() принимает слово и возвращает все возможные его разборы.\n",
        "\n",
        "У каждого разбора есть тег. Тег — это набор граммем, характеризующих данное слово. Например, тег 'VERB,perf,intr plur,past,indc' означает, что слово — глагол (VERB) совершенного вида (perf), непереходный (intr), множественного числа (plur), прошедшего времени (past), изъявительного наклонения (indc).\n"
      ]
    },
    {
      "cell_type": "code",
      "execution_count": null,
      "metadata": {
        "ExecuteTime": {
          "end_time": "2023-04-18T16:50:58.024019Z",
          "start_time": "2023-04-18T16:50:58.020616Z"
        },
        "id": "2Ztv5u7gvTY0"
      },
      "outputs": [],
      "source": [
        "ana = pymorphy2_analyzer.parse(\"хочет\")\n",
        "ana"
      ]
    },
    {
      "cell_type": "code",
      "execution_count": null,
      "metadata": {
        "ExecuteTime": {
          "end_time": "2023-04-18T16:50:58.027260Z",
          "start_time": "2023-04-18T16:50:58.023109Z"
        },
        "id": "9NBnUjhfvTY2"
      },
      "outputs": [],
      "source": [
        "ana[0].normal_form"
      ]
    },
    {
      "cell_type": "markdown",
      "metadata": {
        "id": "AY0CeomBvTY3"
      },
      "source": [
        "### mystem vs. pymorphy\n",
        "\n",
        "1) *Надеемся, что вы пользуетесь линуксом или маком* — mystem работает невероятно медленно под windows на больших текстах\n",
        "\n",
        "2) *Снятие омонимии*. Mystem умеет снимать омонимию по контексту (хотя не всегда преуспевает), pymorphy2 берет на вход одно слово и соответственно вообще не умеет дизамбигуировать по контексту."
      ]
    },
    {
      "cell_type": "code",
      "execution_count": null,
      "metadata": {
        "ExecuteTime": {
          "end_time": "2023-04-18T16:50:58.028266Z",
          "start_time": "2023-04-18T16:50:58.025883Z"
        },
        "id": "3ZHNWM8MvTY3"
      },
      "outputs": [],
      "source": [
        "homonym1 = \"За время обучения я прослушал больше сорока курсов.\"\n",
        "homonym2 = \"Сорока своровала блестящее украшение со стола.\"\n",
        "\n",
        "# корректно определил части речи\n",
        "# NUM — числительное\n",
        "# S — существительное\n",
        "print(mystem_analyzer.analyze(homonym1)[-5])\n",
        "print(mystem_analyzer.analyze(homonym2)[0])"
      ]
    },
    {
      "cell_type": "markdown",
      "metadata": {
        "id": "Y4ifiT5avTY4"
      },
      "source": [
        "### 3.2 Стемминг\n",
        "\n",
        "В отличие от лемматизации, при применении стемминга у всех слов отбрасываются аффиксы (окончания и суффиксы), что необязательно приводит слова к формам, существующим в рассматриваемом языке. [**Snowball**](http://snowball.tartarus.org/) — фрэймворк для написания алгоритмов стемминга. Алгоритмы стемминга отличаются для разных языков и используют знания о конкретном языке: списки окончаний для разных частей речи, разных склонений и т.д."
      ]
    },
    {
      "cell_type": "code",
      "execution_count": null,
      "metadata": {
        "ExecuteTime": {
          "end_time": "2023-04-18T16:50:58.030752Z",
          "start_time": "2023-04-18T16:50:58.029232Z"
        },
        "id": "tUI4LkoUvTY4"
      },
      "outputs": [],
      "source": [
        "from nltk.stem.snowball import SnowballStemmer"
      ]
    },
    {
      "cell_type": "code",
      "execution_count": null,
      "metadata": {
        "ExecuteTime": {
          "end_time": "2023-04-18T16:50:58.032674Z",
          "start_time": "2023-04-18T16:50:58.031151Z"
        },
        "id": "UNkduLEfE8X6"
      },
      "outputs": [],
      "source": [
        "tokenized_example = word_tokenize(example)"
      ]
    },
    {
      "cell_type": "code",
      "execution_count": null,
      "metadata": {
        "ExecuteTime": {
          "end_time": "2023-04-18T16:50:58.036669Z",
          "start_time": "2023-04-18T16:50:58.033530Z"
        },
        "id": "yDhsgmNsvTY5"
      },
      "outputs": [],
      "source": [
        "stemmer = SnowballStemmer(\"russian\")\n",
        "stemmed_example = [stemmer.stem(w) for w in tokenized_example]\n",
        "print(\" \".join(stemmed_example))"
      ]
    },
    {
      "cell_type": "markdown",
      "metadata": {
        "id": "409wuX_8E8X7"
      },
      "source": [
        "Для английского получится что-то такое."
      ]
    },
    {
      "cell_type": "code",
      "execution_count": null,
      "metadata": {
        "ExecuteTime": {
          "end_time": "2023-04-18T16:50:58.038780Z",
          "start_time": "2023-04-18T16:50:58.036341Z"
        },
        "id": "IYdj8R20vTY5"
      },
      "outputs": [],
      "source": [
        "text = 'In my younger and more vulnerable years my father gave me some advice that I\\'ve been turning over in my mind ever since.\\n\"Whenever you feel like criticizing any one,\" he told me, \"just remember that all the people in this world haven\\'t had the advantages that you\\'ve had.\"'\n",
        "print(text)\n",
        "text_tokenized = [w for w in word_tokenize(text) if w.isalpha()]\n",
        "print(\"==========\")\n",
        "print(text_tokenized)"
      ]
    },
    {
      "cell_type": "code",
      "execution_count": null,
      "metadata": {
        "ExecuteTime": {
          "end_time": "2023-04-18T16:50:58.040805Z",
          "start_time": "2023-04-18T16:50:58.038614Z"
        },
        "id": "386kIQJYvTY5"
      },
      "outputs": [],
      "source": [
        "stemmer = SnowballStemmer(\"english\")\n",
        "text_stemmed = [stemmer.stem(w) for w in text_tokenized]\n",
        "print(\" \".join(text_stemmed))"
      ]
    },
    {
      "cell_type": "markdown",
      "metadata": {
        "id": "x5dNFUPHvTY6"
      },
      "source": [
        "## 4. Bag-of-words и TF-IDF\n",
        "\n",
        "Но как же все-таки работать с текстами, используя стандартные методы машинного обучения? Ведь нам нужны объекты выборки, которые описываются числами, а не словами. Иначе говоря, нам нужно *векторизовать* текстовые данные.\n",
        "\n",
        "### 4.1 Bag-of-words\n",
        "\n",
        "Пусть у нас имеется коллекция текстов $D = \\{d_i\\}_{i=1}^l$ и словарь всех слов, встречающихся в выборке $V = \\{v_j\\}_{j=1}^d.$ В этом случае некоторый текст $d_i$ описывается вектором $(x_{ij})_{j=1}^d,$ где\n",
        "$$x_{ij} = \\sum_{v \\in d_i} [v = v_j].$$\n",
        "\n",
        "Таким образом, текст $d_i$ описывается вектором количества вхождений каждого слова из словаря в данный текст."
      ]
    },
    {
      "cell_type": "code",
      "execution_count": null,
      "metadata": {
        "ExecuteTime": {
          "end_time": "2023-04-18T16:50:58.095188Z",
          "start_time": "2023-04-18T16:50:58.040839Z"
        },
        "id": "x2eF8nZLvTY7"
      },
      "outputs": [],
      "source": [
        "texts = [\n",
        "    \"I like my cat.\",\n",
        "    \"My cat is the most perfect cat.\",\n",
        "    \"is this cat or is this bread?\",\n",
        "]"
      ]
    },
    {
      "cell_type": "code",
      "execution_count": null,
      "metadata": {
        "ExecuteTime": {
          "end_time": "2023-04-18T16:50:58.104626Z",
          "start_time": "2023-04-18T16:50:58.043952Z"
        },
        "id": "IjG4gU5JvTY7"
      },
      "outputs": [],
      "source": [
        "texts_tokenized = [\n",
        "    \" \".join([w for w in word_tokenize(t) if w.isalpha()]) for t in texts\n",
        "]\n",
        "texts_tokenized"
      ]
    },
    {
      "cell_type": "code",
      "execution_count": null,
      "metadata": {
        "ExecuteTime": {
          "end_time": "2023-04-18T16:50:58.104770Z",
          "start_time": "2023-04-18T16:50:58.046474Z"
        },
        "id": "NVomQglIvTY8"
      },
      "outputs": [],
      "source": [
        "from sklearn.feature_extraction.text import CountVectorizer\n",
        "\n",
        "cnt_vec = CountVectorizer()\n",
        "X = cnt_vec.fit_transform(texts_tokenized)"
      ]
    },
    {
      "cell_type": "code",
      "execution_count": null,
      "metadata": {
        "ExecuteTime": {
          "end_time": "2023-04-18T16:50:58.104925Z",
          "start_time": "2023-04-18T16:50:58.049174Z"
        },
        "id": "kwAKWt_4vTY9"
      },
      "outputs": [],
      "source": [
        "cnt_vec.vocabulary_.keys()"
      ]
    },
    {
      "cell_type": "code",
      "execution_count": null,
      "metadata": {
        "ExecuteTime": {
          "end_time": "2023-04-18T16:50:58.105067Z",
          "start_time": "2023-04-18T16:50:58.051691Z"
        },
        "id": "Ye63VKazvTY-"
      },
      "outputs": [],
      "source": [
        "X"
      ]
    },
    {
      "cell_type": "code",
      "execution_count": null,
      "metadata": {
        "ExecuteTime": {
          "end_time": "2023-04-18T16:50:58.105194Z",
          "start_time": "2023-04-18T16:50:58.054Z"
        },
        "id": "PvYOzpALvTY-"
      },
      "outputs": [],
      "source": [
        "X.toarray()"
      ]
    },
    {
      "cell_type": "code",
      "execution_count": null,
      "metadata": {
        "ExecuteTime": {
          "end_time": "2023-04-18T16:50:58.105450Z",
          "start_time": "2023-04-18T16:50:58.056639Z"
        },
        "id": "z40jdf5-vTY-"
      },
      "outputs": [],
      "source": [
        "pd.DataFrame(X.toarray(), columns=cnt_vec.get_feature_names_out())"
      ]
    },
    {
      "cell_type": "markdown",
      "metadata": {
        "id": "4tZsL30hvTY-"
      },
      "source": [
        "### 4.2 TF-IDF\n",
        "\n",
        "Заметим, что если слово часто встречается в одном тексте, но почти не встречается в других, то оно получает для данного текста большой вес, ровно так же, как и слова, которые часто встречаются в каждом тексте. Для того чтобы разделять эти такие слова, можно использовать статистическую меру TF-IDF, характеризующую важность слова для конкретного текста. Для каждого слова из текста $d$ рассчитаем относительную частоту встречаемости в нем (Term Frequency):\n",
        "$$\n",
        "\\text{TF}(t, d) = \\frac{C(t | d)}{\\sum\\limits_{k \\in d}C(k | d)},\n",
        "$$\n",
        "где $C(t | d)$ - число вхождений слова $t$ в текст $d$.\n",
        "\n",
        "Также для каждого слова из текста $d$ рассчитаем обратную частоту встречаемости в корпусе текстов $D$ (Inverse Document Frequency):\n",
        "$$\n",
        "\\text{IDF}(t, D) = \\log\\left(\\frac{|D|}{|\\{d_i \\in D \\mid t \\in d_i\\}|}\\right)\n",
        "$$\n",
        "Логарифмирование здесь проводится с целью уменьшить масштаб весов, ибо зачастую в корпусах присутствует очень много текстов.\n",
        "\n",
        "В итоге каждому слову $t$ из текста $d$ теперь можно присвоить вес\n",
        "$$\n",
        "\\text{TF-IDF}(t, d, D) = \\text{TF}(t, d) \\times \\text{IDF}(t, D)\n",
        "$$\n",
        "Интерпретировать формулу выше несложно: действительно, чем чаще данное слово встречается в данном тексте и чем реже в остальных, тем важнее оно для этого текста.\n",
        "\n",
        "Отметим, что в качестве TF и IDF можно использовать другие [определения](https://en.wikipedia.org/wiki/Tf%E2%80%93idf#Definition)."
      ]
    },
    {
      "cell_type": "code",
      "execution_count": null,
      "metadata": {
        "ExecuteTime": {
          "end_time": "2023-04-18T16:50:58.105509Z",
          "start_time": "2023-04-18T16:50:58.061637Z"
        },
        "id": "F0YcEWeqvTY_"
      },
      "outputs": [],
      "source": [
        "from sklearn.feature_extraction.text import TfidfVectorizer\n",
        "\n",
        "tfidf_vec = TfidfVectorizer()\n",
        "X = tfidf_vec.fit_transform(texts_tokenized)"
      ]
    },
    {
      "cell_type": "code",
      "execution_count": null,
      "metadata": {
        "ExecuteTime": {
          "end_time": "2023-04-18T16:50:58.105598Z",
          "start_time": "2023-04-18T16:50:58.064598Z"
        },
        "id": "fpCVQJG8vTY_"
      },
      "outputs": [],
      "source": [
        "tfidf_vec.vocabulary_.keys()"
      ]
    },
    {
      "cell_type": "code",
      "execution_count": null,
      "metadata": {
        "ExecuteTime": {
          "end_time": "2023-04-18T16:50:58.105710Z",
          "start_time": "2023-04-18T16:50:58.066937Z"
        },
        "id": "saJG0dWyvTZA"
      },
      "outputs": [],
      "source": [
        "X"
      ]
    },
    {
      "cell_type": "code",
      "execution_count": null,
      "metadata": {
        "ExecuteTime": {
          "end_time": "2023-04-18T16:50:58.105840Z",
          "start_time": "2023-04-18T16:50:58.073856Z"
        },
        "id": "t43byRVIvTZA"
      },
      "outputs": [],
      "source": [
        "X.toarray()"
      ]
    },
    {
      "cell_type": "code",
      "execution_count": null,
      "metadata": {
        "ExecuteTime": {
          "end_time": "2023-04-18T16:50:58.106645Z",
          "start_time": "2023-04-18T16:50:58.078284Z"
        },
        "id": "YGpSpl4KvTZA"
      },
      "outputs": [],
      "source": [
        "pd.DataFrame(X.toarray(), columns=cnt_vec.get_feature_names_out())"
      ]
    },
    {
      "cell_type": "markdown",
      "metadata": {
        "id": "Iwcgx05UvTZA"
      },
      "source": [
        "**Вопросик:** что изменилось по сравнению с использованием метода `CountVectorizer`?"
      ]
    },
    {
      "cell_type": "markdown",
      "metadata": {
        "id": "hrP93rWwvTZB"
      },
      "source": [
        "## 5. Решение задачи с текстовыми данными\n",
        "\n",
        "Будем решать задачу классификации твитов по тональности. Возьмём датасет из твитов, в котором про каждый твит известно, как он эмоционально окрашен: положительно или отрицательно. Задача: предсказывать эмоциональную окраску. Классификацию по тональности используют, например, в рекомендательных системах, чтобы понять, понравилось ли людям кафе, кино, etc.\n",
        "\n",
        "Скачиваем куски датасета ([источник](http://study.mokoron.com/)): [положительные](https://www.dropbox.com/s/fnpq3z4bcnoktiv/positive.csv?dl=0), [отрицательные](https://www.dropbox.com/s/r6u59ljhhjdg6j0/negative.csv)."
      ]
    },
    {
      "cell_type": "code",
      "execution_count": null,
      "metadata": {
        "ExecuteTime": {
          "end_time": "2023-04-18T16:50:58.106702Z",
          "start_time": "2023-04-18T16:50:58.080790Z"
        },
        "id": "gTGL7IZkE8YH"
      },
      "outputs": [],
      "source": [
        "# если у вас линукс / мак / collab или ещё какая-то среда, в которой работает wget, можно так:\n",
        "!wget https://www.dropbox.com/s/fnpq3z4bcnoktiv/positive.csv\n",
        "!wget https://www.dropbox.com/s/r6u59ljhhjdg6j0/negative.csv"
      ]
    },
    {
      "cell_type": "code",
      "execution_count": null,
      "metadata": {
        "ExecuteTime": {
          "end_time": "2023-04-18T16:50:58.106741Z",
          "start_time": "2023-04-18T16:50:58.082275Z"
        },
        "id": "9eL2MNeIE8YI"
      },
      "outputs": [],
      "source": [
        "import numpy as np\n",
        "import pandas as pd\n",
        "from sklearn.linear_model import LogisticRegression\n",
        "from sklearn.metrics import classification_report, roc_auc_score\n",
        "from sklearn.model_selection import train_test_split\n",
        "from sklearn.preprocessing import MaxAbsScaler"
      ]
    },
    {
      "cell_type": "code",
      "execution_count": null,
      "metadata": {
        "ExecuteTime": {
          "end_time": "2023-04-18T16:50:58.494315Z",
          "start_time": "2023-04-18T16:50:58.085576Z"
        },
        "id": "kGSNxxTxE8YI"
      },
      "outputs": [],
      "source": [
        "# считываем данные и заполняем общий датасет\n",
        "positive = pd.read_csv(\"positive.csv\", sep=\";\", usecols=[3], names=[\"text\"])\n",
        "positive[\"label\"] = \"positive\"\n",
        "negative = pd.read_csv(\"negative.csv\", sep=\";\", usecols=[3], names=[\"text\"])\n",
        "negative[\"label\"] = \"negative\"\n",
        "df = pd.concat([positive, negative])"
      ]
    },
    {
      "cell_type": "code",
      "execution_count": null,
      "metadata": {
        "ExecuteTime": {
          "end_time": "2023-04-18T16:50:58.498928Z",
          "start_time": "2023-04-18T16:50:58.495906Z"
        },
        "id": "9BgHc5-8E8YJ"
      },
      "outputs": [],
      "source": [
        "df.tail()"
      ]
    },
    {
      "cell_type": "code",
      "execution_count": null,
      "metadata": {
        "ExecuteTime": {
          "end_time": "2023-04-18T16:50:58.501134Z",
          "start_time": "2023-04-18T16:50:58.498598Z"
        },
        "id": "hfeydhBNE8YK"
      },
      "outputs": [],
      "source": [
        "df.shape"
      ]
    },
    {
      "cell_type": "code",
      "execution_count": null,
      "metadata": {
        "ExecuteTime": {
          "end_time": "2023-04-18T16:50:58.534375Z",
          "start_time": "2023-04-18T16:50:58.501394Z"
        },
        "id": "ibKqzen6E8YK"
      },
      "outputs": [],
      "source": [
        "x_train, x_test, y_train, y_test = train_test_split(df.text, df.label, random_state=13)"
      ]
    },
    {
      "cell_type": "markdown",
      "metadata": {
        "id": "geRispgfE8YK"
      },
      "source": [
        "#### n-граммы\n",
        "\n",
        "n-граммы — это последовательности n токенов из исходного текста. В простейшем случае это могут быть последовательности из букв или последовательности из слов. Давайте посмотрим подробнее на примере."
      ]
    },
    {
      "cell_type": "code",
      "execution_count": null,
      "metadata": {
        "ExecuteTime": {
          "end_time": "2023-04-18T16:50:58.535017Z",
          "start_time": "2023-04-18T16:50:58.516459Z"
        },
        "id": "mMoCnsi5vTZB"
      },
      "outputs": [],
      "source": [
        "from nltk import ngrams"
      ]
    },
    {
      "cell_type": "code",
      "execution_count": null,
      "metadata": {
        "ExecuteTime": {
          "end_time": "2023-04-18T16:50:58.555122Z",
          "start_time": "2023-04-18T16:50:58.518609Z"
        },
        "id": "lIf_da6RvTZD"
      },
      "outputs": [],
      "source": [
        "sent = \"Если б мне платили каждый раз\".split()\n",
        "list(ngrams(sent, 1))  # униграммы"
      ]
    },
    {
      "cell_type": "code",
      "execution_count": null,
      "metadata": {
        "ExecuteTime": {
          "end_time": "2023-04-18T16:50:58.555317Z",
          "start_time": "2023-04-18T16:50:58.521205Z"
        },
        "id": "YhaYTVyuvTZD"
      },
      "outputs": [],
      "source": [
        "list(ngrams(sent, 2))  # биграммы"
      ]
    },
    {
      "cell_type": "code",
      "execution_count": null,
      "metadata": {
        "ExecuteTime": {
          "end_time": "2023-04-18T16:50:58.555416Z",
          "start_time": "2023-04-18T16:50:58.523529Z"
        },
        "id": "3fpat_ZGvTZD"
      },
      "outputs": [],
      "source": [
        "list(ngrams(sent, 3))  # триграммы"
      ]
    },
    {
      "cell_type": "code",
      "execution_count": null,
      "metadata": {
        "ExecuteTime": {
          "end_time": "2023-04-18T16:50:58.555533Z",
          "start_time": "2023-04-18T16:50:58.525914Z"
        },
        "id": "wK2QdeycvTZE"
      },
      "outputs": [],
      "source": [
        "list(ngrams(sent, 5))  # ... пентаграммы?"
      ]
    },
    {
      "cell_type": "markdown",
      "metadata": {
        "id": "2er9otbCE8YN"
      },
      "source": [
        "В качестве альтернативы можно пользоваться `CountVectorizer`, который работает так:\n",
        "* строит для каждого документа (каждой пришедшей ему строки) вектор размерности количества токенов в нашем словаре\n",
        "* заполняет каждый i-тый элемент количеством вхождений токена в данный документ\n",
        "\n",
        "Параметр `ngram_range` отвечает за то, какие n-граммы мы используем в качестве фичей:\n",
        "- `ngram_range=(1, 1)` — униграммы\n",
        "- `ngram_range=(3, 3)` — триграммы\n",
        "- `ngram_range=(1, 3)` — униграммы, биграммы и триграммы"
      ]
    },
    {
      "cell_type": "markdown",
      "metadata": {
        "id": "Juygw_d5E8YN"
      },
      "source": [
        "### 5.1 Обучение моделей\n",
        "\n",
        "Давайте обучим наш первый бейзлайн — логрег на униграммах!"
      ]
    },
    {
      "cell_type": "code",
      "execution_count": null,
      "metadata": {
        "ExecuteTime": {
          "end_time": "2023-04-18T16:51:05.699896Z",
          "start_time": "2023-04-18T16:50:58.589759Z"
        },
        "id": "1IraIdwxE8YN"
      },
      "outputs": [],
      "source": [
        "vec = CountVectorizer(ngram_range=(1, 1))\n",
        "bow = vec.fit_transform(x_train)  # bow — bag of words (мешок слов)\n",
        "bow_test = vec.transform(x_test)\n",
        "\n",
        "scaler = MaxAbsScaler()\n",
        "bow = scaler.fit_transform(bow)\n",
        "bow_test = scaler.transform(bow_test)\n",
        "\n",
        "clf = LogisticRegression(max_iter=200, random_state=42)\n",
        "clf.fit(bow, y_train)\n",
        "pred = clf.predict(bow_test)\n",
        "print(classification_report(y_test, pred))"
      ]
    },
    {
      "cell_type": "markdown",
      "metadata": {
        "id": "3a56F0vivTZL"
      },
      "source": [
        "Попробуем сделать то же самое для триграмм."
      ]
    },
    {
      "cell_type": "code",
      "execution_count": null,
      "metadata": {
        "ExecuteTime": {
          "end_time": "2023-04-18T16:51:32.529458Z",
          "start_time": "2023-04-18T16:51:05.755811Z"
        },
        "id": "FG9RVAs4E8YO"
      },
      "outputs": [],
      "source": [
        "vec = CountVectorizer(ngram_range=(3, 3))\n",
        "bow = vec.fit_transform(x_train)\n",
        "bow_test = vec.transform(x_test)\n",
        "\n",
        "scaler = MaxAbsScaler()\n",
        "bow = scaler.fit_transform(bow)\n",
        "bow_test = scaler.transform(bow_test)\n",
        "\n",
        "clf = LogisticRegression(max_iter=200, random_state=42)\n",
        "clf.fit(bow, y_train)\n",
        "pred_thrgramm = clf.predict(bow_test)\n",
        "print(classification_report(y_test, pred_thrgramm))"
      ]
    },
    {
      "cell_type": "markdown",
      "metadata": {
        "id": "ebbWm35YE8YP"
      },
      "source": [
        "В нашем случае стало хуже :)"
      ]
    },
    {
      "cell_type": "markdown",
      "metadata": {
        "id": "EyW9lA_6vTZL"
      },
      "source": [
        "А теперь повторим процедуру для TF-IDF."
      ]
    },
    {
      "cell_type": "code",
      "execution_count": null,
      "metadata": {
        "ExecuteTime": {
          "end_time": "2023-04-18T16:51:40.397191Z",
          "start_time": "2023-04-18T16:51:32.587689Z"
        },
        "id": "RQvlgJbOE8YQ"
      },
      "outputs": [],
      "source": [
        "vec = TfidfVectorizer(ngram_range=(1, 1))\n",
        "vec_train = vec.fit_transform(x_train)\n",
        "vec_test = vec.transform(x_test)\n",
        "\n",
        "scaler = MaxAbsScaler()\n",
        "vec_train = scaler.fit_transform(vec_train)\n",
        "vec_test = scaler.transform(vec_test)\n",
        "\n",
        "clf = LogisticRegression(max_iter=300, random_state=42)\n",
        "clf.fit(vec_train, y_train)\n",
        "pred_tfidf = clf.predict(vec_test)\n",
        "print(classification_report(y_test, pred_tfidf))"
      ]
    },
    {
      "cell_type": "markdown",
      "metadata": {
        "id": "Ixapx51FvTZM"
      },
      "source": [
        "### 5.2 О важности эксплоративного анализа\n",
        "\n",
        "Но иногда пунктуация бывает и не шумом. Главное — отталкиваться от задачи. Что будет если вообще не убирать пунктуацию?"
      ]
    },
    {
      "cell_type": "code",
      "execution_count": null,
      "metadata": {
        "ExecuteTime": {
          "end_time": "2023-04-18T16:52:00.862268Z",
          "start_time": "2023-04-18T16:51:40.411317Z"
        },
        "id": "dPDPVcKdE8YQ"
      },
      "outputs": [],
      "source": [
        "vec = CountVectorizer(ngram_range=(1, 1), tokenizer=word_tokenize)\n",
        "bow = vec.fit_transform(x_train)\n",
        "bow_test = vec.transform(x_test)\n",
        "\n",
        "scaler = MaxAbsScaler()\n",
        "bow = scaler.fit_transform(bow)\n",
        "bow_test = scaler.transform(bow_test)\n",
        "\n",
        "clf = LogisticRegression(max_iter=200, random_state=42)\n",
        "clf.fit(bow, y_train)\n",
        "pred = clf.predict(bow_test)\n",
        "print(classification_report(y_test, pred))"
      ]
    },
    {
      "cell_type": "markdown",
      "metadata": {
        "id": "7_8uz4TevTZM"
      },
      "source": [
        "Стоило оставить пунктуацию, и внезапно все метрики устремились к 1. Как это получилось? Среди неё были очень значимые токены (как вы думаете, какие?). Найдём признак с самыми большим коэффициентом:"
      ]
    },
    {
      "cell_type": "code",
      "execution_count": null,
      "metadata": {
        "id": "w4eO4LP3E8YR"
      },
      "outputs": [],
      "source": [
        "vec.get_feature_names_out()[np.argmax(clf.coef_)]"
      ]
    },
    {
      "cell_type": "markdown",
      "metadata": {
        "id": "4ZC8Mb6bvTZM"
      },
      "source": [
        "Посмотрим, как один из супер-значительных токенов справится с классификацией безо всякого машинного обучения:"
      ]
    },
    {
      "cell_type": "code",
      "execution_count": null,
      "metadata": {
        "ExecuteTime": {
          "end_time": "2023-04-18T16:52:01.743208Z",
          "start_time": "2023-04-18T16:52:00.882081Z"
        },
        "id": "vvWdQbYMvTZN"
      },
      "outputs": [],
      "source": [
        "cool_token = vec.get_feature_names_out()[np.argmax(clf.coef_)]\n",
        "pred = [\"positive\" if cool_token in tweet else \"negative\" for tweet in x_test]\n",
        "print(classification_report(y_test, pred))"
      ]
    },
    {
      "cell_type": "code",
      "execution_count": null,
      "metadata": {
        "ExecuteTime": {
          "end_time": "2023-04-18T16:52:01.799440Z",
          "start_time": "2023-04-18T16:52:01.743612Z"
        },
        "id": "3nD71B-ZvTZO"
      },
      "outputs": [],
      "source": [
        "cool_token = vec.get_feature_names_out()[np.argmax(clf.coef_)]\n",
        "tweets_with_cool_token = [tweet for tweet in x_train if cool_token in tweet]\n",
        "np.random.seed(42)\n",
        "for tweet in np.random.choice(tweets_with_cool_token, size=10, replace=False):\n",
        "    print(tweet)"
      ]
    },
    {
      "cell_type": "markdown",
      "metadata": {
        "id": "Dv6P8ncIvTZO"
      },
      "source": [
        "### 5.3 Символьные n-граммы\n",
        "\n",
        "Теперь в качестве признаков используем, например, униграммы символов:"
      ]
    },
    {
      "cell_type": "code",
      "execution_count": null,
      "metadata": {
        "ExecuteTime": {
          "end_time": "2023-04-18T16:52:07.747526Z",
          "start_time": "2023-04-18T16:52:01.811832Z"
        },
        "id": "V0nyoj0HE8YS"
      },
      "outputs": [],
      "source": [
        "vec = CountVectorizer(ngram_range=(1, 1), analyzer=\"char\")\n",
        "bow = vec.fit_transform(x_train)\n",
        "bow_test = vec.transform(x_test)\n",
        "\n",
        "scaler = MaxAbsScaler()\n",
        "bow = scaler.fit_transform(bow)\n",
        "bow_test = scaler.transform(bow_test)\n",
        "\n",
        "clf = LogisticRegression(max_iter=200, random_state=42)\n",
        "clf.fit(bow, y_train)\n",
        "pred = clf.predict(bow_test)\n",
        "print(classification_report(y_test, pred))"
      ]
    },
    {
      "cell_type": "markdown",
      "metadata": {
        "id": "8PK8-_xwvTZO"
      },
      "source": [
        "В общем-то, теперь уже понятно, почему на этих данных здесь 1. Так или иначе, на символах классифицировать тоже можно: для некоторых задач (например, для определения языка) признаки-символьные n-граммы могут внести серьезный вклад в качество модели. Ещё одна замечательная особенность признаков-символов: токенизация и лемматизация не нужна, можно использовать такой подход для языков, у которых нет готовых анализаторов."
      ]
    },
    {
      "cell_type": "markdown",
      "metadata": {
        "id": "3iH37Z0QE8Ya"
      },
      "source": [
        "## 6. Немножко про категориальные признаки\n",
        "\n",
        "Существует три основных способа обработки категориальных значений:\n",
        "- Label encoding\n",
        "- One-hot-кодирование\n",
        "- Счётчики (CTR, mean-target кодирование) — каждый категориальный признак заменяется на среднее значение целевой переменной по всем объектам, имеющим одинаковое значение в этом признаке\n",
        "\n",
        "Сравним два последних метода наборе данных Титаник (предсказание выживших пассажиров)."
      ]
    },
    {
      "cell_type": "code",
      "execution_count": null,
      "metadata": {
        "ExecuteTime": {
          "end_time": "2023-04-18T16:52:07.860175Z",
          "start_time": "2023-04-18T16:52:07.772028Z"
        },
        "id": "zWf2xxJIE8Yb"
      },
      "outputs": [],
      "source": [
        "from sklearn.preprocessing import MinMaxScaler"
      ]
    },
    {
      "cell_type": "code",
      "execution_count": null,
      "metadata": {
        "ExecuteTime": {
          "end_time": "2023-04-18T16:52:08.143798Z",
          "start_time": "2023-04-18T16:52:07.774360Z"
        },
        "id": "eo5htzAqE8Yb"
      },
      "outputs": [],
      "source": [
        "data = pd.read_csv(\n",
        "    \"https://raw.githubusercontent.com/iad34/seminars/master/materials/data_sem1.csv\",\n",
        "    sep=\";\",\n",
        ")\n",
        "\n",
        "data[\"Age\"] = data[\"Age\"].fillna(data.groupby(\"Pclass\")[\"Age\"].transform(\"median\"))\n",
        "data.drop(\"Cabin\", axis=1, inplace=True)\n",
        "data.drop(\"Name\", axis=1, inplace=True)\n",
        "data.drop(\"Ticket\", axis=1, inplace=True)\n",
        "data.dropna(inplace=True)"
      ]
    },
    {
      "cell_type": "markdown",
      "metadata": {
        "id": "Jl2eW8VpE8Yb"
      },
      "source": [
        "### 6.1 OHE"
      ]
    },
    {
      "cell_type": "code",
      "execution_count": null,
      "metadata": {
        "ExecuteTime": {
          "end_time": "2023-04-18T16:52:08.155498Z",
          "start_time": "2023-04-18T16:52:08.146353Z"
        },
        "id": "KhNrIDGUE8Yc"
      },
      "outputs": [],
      "source": [
        "data_ohe = pd.get_dummies(data, drop_first=True)\n",
        "\n",
        "y = data_ohe[\"Survived\"]\n",
        "data_ohe = data_ohe.drop([\"Survived\"], axis=1)\n",
        "data_ohe.head()"
      ]
    },
    {
      "cell_type": "code",
      "execution_count": null,
      "metadata": {
        "ExecuteTime": {
          "end_time": "2023-04-18T16:52:08.195002Z",
          "start_time": "2023-04-18T16:52:08.156152Z"
        },
        "id": "cm6XyOr_E8Yc"
      },
      "outputs": [],
      "source": [
        "X_train, X_test, y_train, y_test = train_test_split(\n",
        "    data_ohe, y, test_size=0.2, random_state=42, shuffle=True\n",
        ")\n",
        "\n",
        "scaler = MinMaxScaler()\n",
        "X_train = scaler.fit_transform(X_train)\n",
        "X_test = scaler.transform(X_test)\n",
        "\n",
        "model = LogisticRegression(max_iter=300)\n",
        "model.fit(X_train, y_train)\n",
        "prediction = model.predict(X_test)\n",
        "print(f\"ROC AUC: {roc_auc_score(prediction, y_test):.2f}\")"
      ]
    },
    {
      "cell_type": "markdown",
      "metadata": {
        "id": "B3CUQhtjE8Yc"
      },
      "source": [
        "### 6.2 Mean target encoding"
      ]
    },
    {
      "cell_type": "code",
      "execution_count": null,
      "metadata": {
        "ExecuteTime": {
          "end_time": "2023-04-18T16:52:08.195125Z",
          "start_time": "2023-04-18T16:52:08.167818Z"
        },
        "id": "o31KwO0bE8Yc"
      },
      "outputs": [],
      "source": [
        "X_train, X_test, y_train, y_test = train_test_split(\n",
        "    data, y, test_size=0.2, random_state=42, shuffle=True\n",
        ")"
      ]
    },
    {
      "cell_type": "code",
      "execution_count": null,
      "metadata": {
        "ExecuteTime": {
          "end_time": "2023-04-18T16:52:08.212439Z",
          "start_time": "2023-04-18T16:52:08.172604Z"
        },
        "id": "N5V0uNgrE8Yd"
      },
      "outputs": [],
      "source": [
        "mean_target = X_train.groupby(\"Sex\")[\"Survived\"].mean()\n",
        "X_train.loc[:, \"Sex\"] = X_train[\"Sex\"].replace(mean_target)\n",
        "X_test.loc[:, \"Sex\"] = X_test[\"Sex\"].replace(mean_target)\n",
        "\n",
        "mean_target_e = X_train.groupby(\"Embarked\")[\"Survived\"].mean()\n",
        "X_train.loc[:, \"Embarked\"] = X_train[\"Embarked\"].replace(mean_target_e)\n",
        "X_test.loc[:, \"Embarked\"] = X_test[\"Embarked\"].replace(mean_target_e)\n",
        "\n",
        "X_train.drop([\"Survived\"], axis=1, inplace=True)\n",
        "X_test.drop([\"Survived\"], axis=1, inplace=True)"
      ]
    },
    {
      "cell_type": "code",
      "execution_count": null,
      "metadata": {
        "ExecuteTime": {
          "end_time": "2023-04-18T16:52:08.225105Z",
          "start_time": "2023-04-18T16:52:08.178853Z"
        },
        "id": "NpPRdkf3E8Yd"
      },
      "outputs": [],
      "source": [
        "scaler = MinMaxScaler()\n",
        "X_train = scaler.fit_transform(X_train)\n",
        "X_test = scaler.transform(X_test)\n",
        "\n",
        "model = LogisticRegression(max_iter=300)\n",
        "model.fit(X_train, y_train)\n",
        "prediction = model.predict(X_test)\n",
        "print(f\"ROC AUC: {roc_auc_score(prediction, y_test):.2f}\")"
      ]
    },
    {
      "cell_type": "markdown",
      "metadata": {
        "id": "VD2XKjYhE8Yd"
      },
      "source": [
        "Кодирование признаков с помощью счетчиков приведённом выше может приводить к переобучению. Почему?\n",
        "\n",
        "Чтобы бороться с этим, можно экспериментировать с разными модификациями:\n",
        "\n",
        "1. Вычислять значение счётчика по всем объектам расположенным выше в датасете (например, если у нас выборка отсортирована по времени)\n",
        "2. Вычислять по фолдам, то есть делить выборку на некоторое количество частей и подсчитывать значение признаков по всем фолдам кроме текущего (как делается в кросс-валидации)\n",
        "3. Добавлять шум в посчитанные признаки"
      ]
    }
  ],
  "metadata": {
    "colab": {
      "name": "Copy of sem10_texts.ipynb",
      "provenance": []
    },
    "kernelspec": {
      "display_name": "pyoadfe",
      "language": "python",
      "name": "pyoadfe"
    },
    "language_info": {
      "codemirror_mode": {
        "name": "ipython",
        "version": 3
      },
      "file_extension": ".py",
      "mimetype": "text/x-python",
      "name": "python",
      "nbconvert_exporter": "python",
      "pygments_lexer": "ipython3",
      "version": "3.10.10"
    }
  },
  "nbformat": 4,
  "nbformat_minor": 0
}