{
  "cells": [
    {
      "cell_type": "markdown",
      "metadata": {
        "id": "Bwk2wy4MQXFH"
      },
      "source": [
        "# Семинар 5. Метрики качества для классификации.\n",
        "\n",
        "Источник: https://github.com/shestakoff/hse_se_ml/tree/master/2019/s6-quality\n",
        "\n",
        "\n",
        "В этом семинаре мы рассмотрим несколько метрик качества для задачи классификации. Мы сравним несколько классификаторов и выберем лучший из них."
      ]
    },
    {
      "cell_type": "code",
      "execution_count": 1,
      "metadata": {
        "id": "WBbS1OY7QXFK"
      },
      "outputs": [],
      "source": [
        "import pandas as pd\n",
        "import numpy as np\n",
        "import matplotlib.pyplot as plt\n",
        "\n",
        "%matplotlib inline\n",
        "\n",
        "pd.set_option('display.max_columns', 500)"
      ]
    },
    {
      "cell_type": "markdown",
      "metadata": {
        "id": "-dHZFacGQXFL"
      },
      "source": [
        "## Данные\n",
        "\n",
        "Мы будем использовать данные [соревнования по предсказанию отклика клиентов ОТП Банка](http://www.machinelearning.ru/wiki/index.php?title=%D0%97%D0%B0%D0%B4%D0%B0%D1%87%D0%B0_%D0%BF%D1%80%D0%B5%D0%B4%D1%81%D0%BA%D0%B0%D0%B7%D0%B0%D0%BD%D0%B8%D1%8F_%D0%BE%D1%82%D0%BA%D0%BB%D0%B8%D0%BA%D0%B0_%D0%BA%D0%BB%D0%B8%D0%B5%D0%BD%D1%82%D0%BE%D0%B2_%D0%9E%D0%A2%D0%9F_%D0%91%D0%B0%D0%BD%D0%BA%D0%B0_%28%D0%BA%D0%BE%D0%BD%D0%BA%D1%83%D1%80%D1%81%29).\n",
        "\n",
        "Кейс: рассылка предложений о новой услуге -- один из эффективных способов взаимодействия банка с клиентами. Однако делать рассылку стоит не всем клиентам, а только определенной части: клиентам, которые наиболее склонны реагировать на это предложение.\n",
        "\n",
        "Задача: по описанию клиента оценивать его склонность клиента к положительному ответу на рассылку. Это можно интерпретировать как вероятность положительного ответа.\n",
        "\n",
        "Применение модели: Банк будет отправлять рассылку только тем клиентам, вероятность положительного ответа которых выше определенного порога.\n",
        "\n",
        "\n",
        "Описание данных (англ.):\n",
        "\n",
        "* **AGREEMENT_RK**:\tunique identifier\n",
        "* **TARGET**: target feature. Response to the marketing campaign (1 - the response was registered, 0 - there was no response)\n",
        "* **AGE**: customer age\n",
        "* **SOCSTATUS_WORK_FL**: social status of the client relative to work (1 - works, 0 - does not work)\n",
        "* **SOCSTATUS_PENS_FL**: social status of the client relative to the pension (1 - retired, 0 - not retired)\n",
        "* **GENDER**: gender of the client\n",
        "* **CHILD_TOTAL**: number of children of the client\n",
        "* **DEPENDANTS**: number of client dependents\n",
        "* **EDUCATION**: education\n",
        "* **MARITAL_STATUS**: marital status\n",
        "\n",
        "\n",
        "* **GEN_INDUSTRY**: customer work industry\n",
        "* **GEN_TITLE**: position\n",
        "* **ORG_TP_STATE**: ownership of the company\n",
        "* **ORG_TP_FCAPITAL**: relation to foreign capital\n",
        "* **JOB_DIR**:\tactivity inside the company\n",
        "* **FAMILY_INCOME**:\tfamily income (several categories)\n",
        "* **PERSONAL_INCOME**:\tclient's personal income (in rubles)\n",
        "\n",
        "\n",
        "* **REG_ADDRESS_PROVINCE**:\tcustomer registration area\n",
        "* **FACT_ADDRESS_PROVINCE**:\tclient's actual area\n",
        "* **POSTAL_ADDRESS_PROVINCE**:\tpostal address of the area\n",
        "* **TP_PROVINCE**:\tarea of the outlet where the customer took the last loan\n",
        "* **REGION_NM**:\tregion of the Russian Federation\n",
        "* **REG_FACT_FL**:\tthe registration address and the address of the actual stay of the client coincide (1 - matches, 0 - does not match)\n",
        "* **FACT_POST_FL**:\tthe address of the actual stay of the client and his mailing address are the same (1 is the same, 0 is not the same)\n",
        "* **REG_POST_FL**:\tthe registration address of the client and his postal address match (1 - matches, 0 - does not match)\n",
        "* **REG_FACT_POST_FL**:\tpostal, actual and registration address match (1 - match, 0 - do not match)\n",
        "* **REG_FACT_POST_TP_FL**:\tthe area of registration, the actual stay, postal address and the location of the outlet where the customer took the loan match (1 - match, 0 - do not match)\n",
        "\n",
        "\n",
        "* **FL_PRESENCE_FL**:\tthe ownership of the apartment (1 - yes, 0 - no)\n",
        "* **OWN_AUTO**:\tnumber of cars in the property\n",
        "* **AUTO_RUS_FL**:\townership of a Russian-made car (1 - yes, 0 - no)\n",
        "* **HS_PRESENCE_FL**:\tthe presence of a country house in the property (1 - yes, 0 - no)\n",
        "* **COT_PRESENCE_FL**:\tthe ownership of the cottage (1 - yes, 0 - no)\n",
        "* **GAR_PRESENCE_FL**:\tthe presence in the property of the garage (1 - yes, 0 - no)\n",
        "* **LAND_PRESENCE_FL**:\tthe ownership of the land (1 - yes, 0 - no)\n",
        "\n",
        "\n",
        "* **CREDIT**:\tamount of the client\\'s last loan (in rubles)\n",
        "* **TERM**:\tcredit term\n",
        "* **FST_PAYMENT**:\tdown payment (in rubles)\n",
        "* **DL_DOCUMENT_FL**:\tthe client indicated the driver's license in the questionnaire (1 - indicated, 0 - did not indicate)\n",
        "* **GPF_DOCUMENT_FL**:\tIn the questionnaire, the client indicated GPF (1 - indicated, 0 - did not indicate)\n",
        "\n",
        "\n",
        "* **FACT_LIVING_TERM**:\tthe number of months of residence at the place of actual stay\n",
        "* **WORK_TIME**:\tworking time at the current location (in months)\n",
        "* **FACT_PHONE_FL**: presence in the application of the phone at the actual place of stay\n",
        "* **REG_PHONE_FL**:\tpresence in the application of the phone at the place of registration\n",
        "* **GEN_PHONE_FL**:\tpresence in the application of a working phone\n",
        "\n",
        "\n",
        "* **LOAN_NUM_TOTAL**:\tamount of customer loans\n",
        "* **LOAN_NUM_CLOSED**:\tamount of customer loan repaid\n",
        "* **LOAN_NUM_PAYM**:\tthe number of payments made by the client\n",
        "* **LOAN_DLQ_NUM**:\tnumber of customer delinquencies\n",
        "* **LOAN_MAX_DLQ**:\tmaximum delay number allowed by the client\n",
        "* **LOAN_AVG_DLQ_AMT**:\taverage amount of delay (in rubles)\n",
        "* **LOAN_MAX_DLQ_AMT**:\tmaximum amount of delay (in rubles)\n",
        "* **PREVIOUS_CARD_NUM_UTILIZED**:\tthe number of already recycled cards (if empty - 0)"
      ]
    },
    {
      "cell_type": "code",
      "execution_count": 2,
      "metadata": {
        "id": "8Mt5qFJUQXFM"
      },
      "outputs": [],
      "source": [
        "!wget -O 'data_train_complete.xlsx' -q https://github.com/hse-ds/ml-hse-nes/blob/main/2023/seminars/seminar04/data/data_train_complete.xlsx?raw=true"
      ]
    },
    {
      "cell_type": "code",
      "execution_count": 3,
      "metadata": {
        "id": "Mg-nGdk6QXFN"
      },
      "outputs": [],
      "source": [
        "data = pd.read_excel('data_train_complete.xlsx', engine='openpyxl')"
      ]
    },
    {
      "cell_type": "code",
      "execution_count": 4,
      "metadata": {
        "colab": {
          "base_uri": "https://localhost:8080/",
          "height": 382
        },
        "id": "jD3wavybQXFN",
        "outputId": "9a3905ae-c244-45ab-b84f-755fa406beab"
      },
      "outputs": [
        {
          "output_type": "execute_result",
          "data": {
            "text/plain": [
              "   AGE  AGREEMENT_RK  AUTO_RUS_FL  CHILD_TOTAL  COT_PRESENCE_FL    CREDIT  \\\n",
              "0   32         18669            0            3                0  21650.00   \n",
              "1   53         21045            0            2                0  32914.31   \n",
              "2   54         27126            0            2                0   5160.00   \n",
              "3   45         26104            0            3                0   5770.00   \n",
              "4   41         22056            0            0                0  79910.00   \n",
              "\n",
              "   DEPENDANTS  DL_DOCUMENT_FL            EDUCATION FACT_ADDRESS_PROVINCE  \\\n",
              "0           3               0              Среднее    Кабардино-Балкария   \n",
              "1           0               0               Высшее   Ярославская область   \n",
              "2           0               0  Среднее специальное               Карелия   \n",
              "3           1               0  Среднее специальное               Карелия   \n",
              "4           0               0               Высшее      Хабаровский край   \n",
              "\n",
              "   FACT_LIVING_TERM  FACT_PHONE_FL  FACT_POST_FL           FAMILY_INCOME  \\\n",
              "0               137              1             1  от 10000 до 20000 руб.   \n",
              "1               228              1             1        свыше 50000 руб.   \n",
              "2               240              1             1  от 20000 до 50000 руб.   \n",
              "3                72              1             1  от 10000 до 20000 руб.   \n",
              "4                 5              1             1        свыше 50000 руб.   \n",
              "\n",
              "   FL_PRESENCE_FL  FST_PAYMENT  GAR_PRESENCE_FL  GENDER  \\\n",
              "0               0      4000.00                0       1   \n",
              "1               0     29080.92                0       0   \n",
              "2               1       600.00                0       1   \n",
              "3               0      1020.00                0       1   \n",
              "4               1     19990.00                0       1   \n",
              "\n",
              "             GEN_INDUSTRY  GEN_PHONE_FL                       GEN_TITLE  \\\n",
              "0                Торговля             1                         Рабочий   \n",
              "1         Здравоохранение             1      Руководитель высшего звена   \n",
              "2             Образование             1                        Служащий   \n",
              "3  Государственная служба             1                         Рабочий   \n",
              "4                Торговля             1  Индивидуальный предприниматель   \n",
              "\n",
              "   GPF_DOCUMENT_FL  HS_PRESENCE_FL                        JOB_DIR  \\\n",
              "0                1               0  Участие в основ. деятельности   \n",
              "1                0               0  Участие в основ. деятельности   \n",
              "2                0               0     Пр-техн. обесп. и телеком.   \n",
              "3                0               0            Служба безопасности   \n",
              "4                1               0  Участие в основ. деятельности   \n",
              "\n",
              "   LAND_PRESENCE_FL  LOAN_AVG_DLQ_AMT  LOAN_DLQ_NUM  LOAN_MAX_DLQ  \\\n",
              "0                 0            4020.0             1             1   \n",
              "1                 0               0.0             0             0   \n",
              "2                 0               0.0             0             0   \n",
              "3                 0             810.0             1             1   \n",
              "4                 0               0.0             0             0   \n",
              "\n",
              "   LOAN_MAX_DLQ_AMT  LOAN_NUM_CLOSED  LOAN_NUM_PAYM  LOAN_NUM_TOTAL  \\\n",
              "0            4020.0                1              6               1   \n",
              "1               0.0                1              3               1   \n",
              "2               0.0                1              3               1   \n",
              "3             810.0                1              8               1   \n",
              "4               0.0                1              4               1   \n",
              "\n",
              "       MARITAL_STATUS ORG_TP_FCAPITAL                    ORG_TP_STATE  \\\n",
              "0      Состою в браке     Без участия  Индивидуальный предприниматель   \n",
              "1      Состою в браке     Без участия                Частная компания   \n",
              "2  Не состоял в браке     Без участия    Государственная комп./учреж.   \n",
              "3         Разведен(а)     Без участия    Государственная комп./учреж.   \n",
              "4         Разведен(а)     Без участия  Индивидуальный предприниматель   \n",
              "\n",
              "   OWN_AUTO  PERSONAL_INCOME POSTAL_ADDRESS_PROVINCE  \\\n",
              "0         0          12000.0      Кабардино-Балкария   \n",
              "1         0         100000.0     Ярославская область   \n",
              "2         0          19000.0                 Карелия   \n",
              "3         0          12000.0                 Карелия   \n",
              "4         0          60000.0        Хабаровский край   \n",
              "\n",
              "   PREVIOUS_CARD_NUM_UTILIZED        REGION_NM REG_ADDRESS_PROVINCE  \\\n",
              "0                         NaN            ЮЖНЫЙ   Кабардино-Балкария   \n",
              "1                         NaN    ЦЕНТРАЛЬНЫЙ 2  Ярославская область   \n",
              "2                         NaN    ЦЕНТРАЛЬНЫЙ 2              Карелия   \n",
              "3                         NaN    ЦЕНТРАЛЬНЫЙ 2              Карелия   \n",
              "4                         NaN  ДАЛЬНЕВОСТОЧНЫЙ     Хабаровский край   \n",
              "\n",
              "   REG_FACT_FL  REG_FACT_POST_FL  REG_FACT_POST_TP_FL  REG_PHONE_FL  \\\n",
              "0            1                 1                    0             0   \n",
              "1            1                 1                    1             0   \n",
              "2            1                 1                    1             0   \n",
              "3            1                 1                    1             0   \n",
              "4            1                 1                    1             0   \n",
              "\n",
              "   REG_POST_FL  SOCSTATUS_PENS_FL  SOCSTATUS_WORK_FL  TARGET  TERM  \\\n",
              "0            1                  0                  1       0     6   \n",
              "1            1                  0                  1       0     4   \n",
              "2            1                  0                  1       0     3   \n",
              "3            1                  0                  1       0     9   \n",
              "4            1                  0                  1       1     5   \n",
              "\n",
              "           TP_PROVINCE  WORK_TIME  \n",
              "0  Ставропольский край       97.0  \n",
              "1  Ярославская область      156.0  \n",
              "2              Карелия      120.0  \n",
              "3              Карелия       72.0  \n",
              "4     Хабаровский край      168.0  "
            ],
            "text/html": [
              "\n",
              "  <div id=\"df-5409e645-6421-4b67-9422-c4beea94c345\" class=\"colab-df-container\">\n",
              "    <div>\n",
              "<style scoped>\n",
              "    .dataframe tbody tr th:only-of-type {\n",
              "        vertical-align: middle;\n",
              "    }\n",
              "\n",
              "    .dataframe tbody tr th {\n",
              "        vertical-align: top;\n",
              "    }\n",
              "\n",
              "    .dataframe thead th {\n",
              "        text-align: right;\n",
              "    }\n",
              "</style>\n",
              "<table border=\"1\" class=\"dataframe\">\n",
              "  <thead>\n",
              "    <tr style=\"text-align: right;\">\n",
              "      <th></th>\n",
              "      <th>AGE</th>\n",
              "      <th>AGREEMENT_RK</th>\n",
              "      <th>AUTO_RUS_FL</th>\n",
              "      <th>CHILD_TOTAL</th>\n",
              "      <th>COT_PRESENCE_FL</th>\n",
              "      <th>CREDIT</th>\n",
              "      <th>DEPENDANTS</th>\n",
              "      <th>DL_DOCUMENT_FL</th>\n",
              "      <th>EDUCATION</th>\n",
              "      <th>FACT_ADDRESS_PROVINCE</th>\n",
              "      <th>FACT_LIVING_TERM</th>\n",
              "      <th>FACT_PHONE_FL</th>\n",
              "      <th>FACT_POST_FL</th>\n",
              "      <th>FAMILY_INCOME</th>\n",
              "      <th>FL_PRESENCE_FL</th>\n",
              "      <th>FST_PAYMENT</th>\n",
              "      <th>GAR_PRESENCE_FL</th>\n",
              "      <th>GENDER</th>\n",
              "      <th>GEN_INDUSTRY</th>\n",
              "      <th>GEN_PHONE_FL</th>\n",
              "      <th>GEN_TITLE</th>\n",
              "      <th>GPF_DOCUMENT_FL</th>\n",
              "      <th>HS_PRESENCE_FL</th>\n",
              "      <th>JOB_DIR</th>\n",
              "      <th>LAND_PRESENCE_FL</th>\n",
              "      <th>LOAN_AVG_DLQ_AMT</th>\n",
              "      <th>LOAN_DLQ_NUM</th>\n",
              "      <th>LOAN_MAX_DLQ</th>\n",
              "      <th>LOAN_MAX_DLQ_AMT</th>\n",
              "      <th>LOAN_NUM_CLOSED</th>\n",
              "      <th>LOAN_NUM_PAYM</th>\n",
              "      <th>LOAN_NUM_TOTAL</th>\n",
              "      <th>MARITAL_STATUS</th>\n",
              "      <th>ORG_TP_FCAPITAL</th>\n",
              "      <th>ORG_TP_STATE</th>\n",
              "      <th>OWN_AUTO</th>\n",
              "      <th>PERSONAL_INCOME</th>\n",
              "      <th>POSTAL_ADDRESS_PROVINCE</th>\n",
              "      <th>PREVIOUS_CARD_NUM_UTILIZED</th>\n",
              "      <th>REGION_NM</th>\n",
              "      <th>REG_ADDRESS_PROVINCE</th>\n",
              "      <th>REG_FACT_FL</th>\n",
              "      <th>REG_FACT_POST_FL</th>\n",
              "      <th>REG_FACT_POST_TP_FL</th>\n",
              "      <th>REG_PHONE_FL</th>\n",
              "      <th>REG_POST_FL</th>\n",
              "      <th>SOCSTATUS_PENS_FL</th>\n",
              "      <th>SOCSTATUS_WORK_FL</th>\n",
              "      <th>TARGET</th>\n",
              "      <th>TERM</th>\n",
              "      <th>TP_PROVINCE</th>\n",
              "      <th>WORK_TIME</th>\n",
              "    </tr>\n",
              "  </thead>\n",
              "  <tbody>\n",
              "    <tr>\n",
              "      <th>0</th>\n",
              "      <td>32</td>\n",
              "      <td>18669</td>\n",
              "      <td>0</td>\n",
              "      <td>3</td>\n",
              "      <td>0</td>\n",
              "      <td>21650.00</td>\n",
              "      <td>3</td>\n",
              "      <td>0</td>\n",
              "      <td>Среднее</td>\n",
              "      <td>Кабардино-Балкария</td>\n",
              "      <td>137</td>\n",
              "      <td>1</td>\n",
              "      <td>1</td>\n",
              "      <td>от 10000 до 20000 руб.</td>\n",
              "      <td>0</td>\n",
              "      <td>4000.00</td>\n",
              "      <td>0</td>\n",
              "      <td>1</td>\n",
              "      <td>Торговля</td>\n",
              "      <td>1</td>\n",
              "      <td>Рабочий</td>\n",
              "      <td>1</td>\n",
              "      <td>0</td>\n",
              "      <td>Участие в основ. деятельности</td>\n",
              "      <td>0</td>\n",
              "      <td>4020.0</td>\n",
              "      <td>1</td>\n",
              "      <td>1</td>\n",
              "      <td>4020.0</td>\n",
              "      <td>1</td>\n",
              "      <td>6</td>\n",
              "      <td>1</td>\n",
              "      <td>Состою в браке</td>\n",
              "      <td>Без участия</td>\n",
              "      <td>Индивидуальный предприниматель</td>\n",
              "      <td>0</td>\n",
              "      <td>12000.0</td>\n",
              "      <td>Кабардино-Балкария</td>\n",
              "      <td>NaN</td>\n",
              "      <td>ЮЖНЫЙ</td>\n",
              "      <td>Кабардино-Балкария</td>\n",
              "      <td>1</td>\n",
              "      <td>1</td>\n",
              "      <td>0</td>\n",
              "      <td>0</td>\n",
              "      <td>1</td>\n",
              "      <td>0</td>\n",
              "      <td>1</td>\n",
              "      <td>0</td>\n",
              "      <td>6</td>\n",
              "      <td>Ставропольский край</td>\n",
              "      <td>97.0</td>\n",
              "    </tr>\n",
              "    <tr>\n",
              "      <th>1</th>\n",
              "      <td>53</td>\n",
              "      <td>21045</td>\n",
              "      <td>0</td>\n",
              "      <td>2</td>\n",
              "      <td>0</td>\n",
              "      <td>32914.31</td>\n",
              "      <td>0</td>\n",
              "      <td>0</td>\n",
              "      <td>Высшее</td>\n",
              "      <td>Ярославская область</td>\n",
              "      <td>228</td>\n",
              "      <td>1</td>\n",
              "      <td>1</td>\n",
              "      <td>свыше 50000 руб.</td>\n",
              "      <td>0</td>\n",
              "      <td>29080.92</td>\n",
              "      <td>0</td>\n",
              "      <td>0</td>\n",
              "      <td>Здравоохранение</td>\n",
              "      <td>1</td>\n",
              "      <td>Руководитель высшего звена</td>\n",
              "      <td>0</td>\n",
              "      <td>0</td>\n",
              "      <td>Участие в основ. деятельности</td>\n",
              "      <td>0</td>\n",
              "      <td>0.0</td>\n",
              "      <td>0</td>\n",
              "      <td>0</td>\n",
              "      <td>0.0</td>\n",
              "      <td>1</td>\n",
              "      <td>3</td>\n",
              "      <td>1</td>\n",
              "      <td>Состою в браке</td>\n",
              "      <td>Без участия</td>\n",
              "      <td>Частная компания</td>\n",
              "      <td>0</td>\n",
              "      <td>100000.0</td>\n",
              "      <td>Ярославская область</td>\n",
              "      <td>NaN</td>\n",
              "      <td>ЦЕНТРАЛЬНЫЙ 2</td>\n",
              "      <td>Ярославская область</td>\n",
              "      <td>1</td>\n",
              "      <td>1</td>\n",
              "      <td>1</td>\n",
              "      <td>0</td>\n",
              "      <td>1</td>\n",
              "      <td>0</td>\n",
              "      <td>1</td>\n",
              "      <td>0</td>\n",
              "      <td>4</td>\n",
              "      <td>Ярославская область</td>\n",
              "      <td>156.0</td>\n",
              "    </tr>\n",
              "    <tr>\n",
              "      <th>2</th>\n",
              "      <td>54</td>\n",
              "      <td>27126</td>\n",
              "      <td>0</td>\n",
              "      <td>2</td>\n",
              "      <td>0</td>\n",
              "      <td>5160.00</td>\n",
              "      <td>0</td>\n",
              "      <td>0</td>\n",
              "      <td>Среднее специальное</td>\n",
              "      <td>Карелия</td>\n",
              "      <td>240</td>\n",
              "      <td>1</td>\n",
              "      <td>1</td>\n",
              "      <td>от 20000 до 50000 руб.</td>\n",
              "      <td>1</td>\n",
              "      <td>600.00</td>\n",
              "      <td>0</td>\n",
              "      <td>1</td>\n",
              "      <td>Образование</td>\n",
              "      <td>1</td>\n",
              "      <td>Служащий</td>\n",
              "      <td>0</td>\n",
              "      <td>0</td>\n",
              "      <td>Пр-техн. обесп. и телеком.</td>\n",
              "      <td>0</td>\n",
              "      <td>0.0</td>\n",
              "      <td>0</td>\n",
              "      <td>0</td>\n",
              "      <td>0.0</td>\n",
              "      <td>1</td>\n",
              "      <td>3</td>\n",
              "      <td>1</td>\n",
              "      <td>Не состоял в браке</td>\n",
              "      <td>Без участия</td>\n",
              "      <td>Государственная комп./учреж.</td>\n",
              "      <td>0</td>\n",
              "      <td>19000.0</td>\n",
              "      <td>Карелия</td>\n",
              "      <td>NaN</td>\n",
              "      <td>ЦЕНТРАЛЬНЫЙ 2</td>\n",
              "      <td>Карелия</td>\n",
              "      <td>1</td>\n",
              "      <td>1</td>\n",
              "      <td>1</td>\n",
              "      <td>0</td>\n",
              "      <td>1</td>\n",
              "      <td>0</td>\n",
              "      <td>1</td>\n",
              "      <td>0</td>\n",
              "      <td>3</td>\n",
              "      <td>Карелия</td>\n",
              "      <td>120.0</td>\n",
              "    </tr>\n",
              "    <tr>\n",
              "      <th>3</th>\n",
              "      <td>45</td>\n",
              "      <td>26104</td>\n",
              "      <td>0</td>\n",
              "      <td>3</td>\n",
              "      <td>0</td>\n",
              "      <td>5770.00</td>\n",
              "      <td>1</td>\n",
              "      <td>0</td>\n",
              "      <td>Среднее специальное</td>\n",
              "      <td>Карелия</td>\n",
              "      <td>72</td>\n",
              "      <td>1</td>\n",
              "      <td>1</td>\n",
              "      <td>от 10000 до 20000 руб.</td>\n",
              "      <td>0</td>\n",
              "      <td>1020.00</td>\n",
              "      <td>0</td>\n",
              "      <td>1</td>\n",
              "      <td>Государственная служба</td>\n",
              "      <td>1</td>\n",
              "      <td>Рабочий</td>\n",
              "      <td>0</td>\n",
              "      <td>0</td>\n",
              "      <td>Служба безопасности</td>\n",
              "      <td>0</td>\n",
              "      <td>810.0</td>\n",
              "      <td>1</td>\n",
              "      <td>1</td>\n",
              "      <td>810.0</td>\n",
              "      <td>1</td>\n",
              "      <td>8</td>\n",
              "      <td>1</td>\n",
              "      <td>Разведен(а)</td>\n",
              "      <td>Без участия</td>\n",
              "      <td>Государственная комп./учреж.</td>\n",
              "      <td>0</td>\n",
              "      <td>12000.0</td>\n",
              "      <td>Карелия</td>\n",
              "      <td>NaN</td>\n",
              "      <td>ЦЕНТРАЛЬНЫЙ 2</td>\n",
              "      <td>Карелия</td>\n",
              "      <td>1</td>\n",
              "      <td>1</td>\n",
              "      <td>1</td>\n",
              "      <td>0</td>\n",
              "      <td>1</td>\n",
              "      <td>0</td>\n",
              "      <td>1</td>\n",
              "      <td>0</td>\n",
              "      <td>9</td>\n",
              "      <td>Карелия</td>\n",
              "      <td>72.0</td>\n",
              "    </tr>\n",
              "    <tr>\n",
              "      <th>4</th>\n",
              "      <td>41</td>\n",
              "      <td>22056</td>\n",
              "      <td>0</td>\n",
              "      <td>0</td>\n",
              "      <td>0</td>\n",
              "      <td>79910.00</td>\n",
              "      <td>0</td>\n",
              "      <td>0</td>\n",
              "      <td>Высшее</td>\n",
              "      <td>Хабаровский край</td>\n",
              "      <td>5</td>\n",
              "      <td>1</td>\n",
              "      <td>1</td>\n",
              "      <td>свыше 50000 руб.</td>\n",
              "      <td>1</td>\n",
              "      <td>19990.00</td>\n",
              "      <td>0</td>\n",
              "      <td>1</td>\n",
              "      <td>Торговля</td>\n",
              "      <td>1</td>\n",
              "      <td>Индивидуальный предприниматель</td>\n",
              "      <td>1</td>\n",
              "      <td>0</td>\n",
              "      <td>Участие в основ. деятельности</td>\n",
              "      <td>0</td>\n",
              "      <td>0.0</td>\n",
              "      <td>0</td>\n",
              "      <td>0</td>\n",
              "      <td>0.0</td>\n",
              "      <td>1</td>\n",
              "      <td>4</td>\n",
              "      <td>1</td>\n",
              "      <td>Разведен(а)</td>\n",
              "      <td>Без участия</td>\n",
              "      <td>Индивидуальный предприниматель</td>\n",
              "      <td>0</td>\n",
              "      <td>60000.0</td>\n",
              "      <td>Хабаровский край</td>\n",
              "      <td>NaN</td>\n",
              "      <td>ДАЛЬНЕВОСТОЧНЫЙ</td>\n",
              "      <td>Хабаровский край</td>\n",
              "      <td>1</td>\n",
              "      <td>1</td>\n",
              "      <td>1</td>\n",
              "      <td>0</td>\n",
              "      <td>1</td>\n",
              "      <td>0</td>\n",
              "      <td>1</td>\n",
              "      <td>1</td>\n",
              "      <td>5</td>\n",
              "      <td>Хабаровский край</td>\n",
              "      <td>168.0</td>\n",
              "    </tr>\n",
              "  </tbody>\n",
              "</table>\n",
              "</div>\n",
              "    <div class=\"colab-df-buttons\">\n",
              "\n",
              "  <div class=\"colab-df-container\">\n",
              "    <button class=\"colab-df-convert\" onclick=\"convertToInteractive('df-5409e645-6421-4b67-9422-c4beea94c345')\"\n",
              "            title=\"Convert this dataframe to an interactive table.\"\n",
              "            style=\"display:none;\">\n",
              "\n",
              "  <svg xmlns=\"http://www.w3.org/2000/svg\" height=\"24px\" viewBox=\"0 -960 960 960\">\n",
              "    <path d=\"M120-120v-720h720v720H120Zm60-500h600v-160H180v160Zm220 220h160v-160H400v160Zm0 220h160v-160H400v160ZM180-400h160v-160H180v160Zm440 0h160v-160H620v160ZM180-180h160v-160H180v160Zm440 0h160v-160H620v160Z\"/>\n",
              "  </svg>\n",
              "    </button>\n",
              "\n",
              "  <style>\n",
              "    .colab-df-container {\n",
              "      display:flex;\n",
              "      gap: 12px;\n",
              "    }\n",
              "\n",
              "    .colab-df-convert {\n",
              "      background-color: #E8F0FE;\n",
              "      border: none;\n",
              "      border-radius: 50%;\n",
              "      cursor: pointer;\n",
              "      display: none;\n",
              "      fill: #1967D2;\n",
              "      height: 32px;\n",
              "      padding: 0 0 0 0;\n",
              "      width: 32px;\n",
              "    }\n",
              "\n",
              "    .colab-df-convert:hover {\n",
              "      background-color: #E2EBFA;\n",
              "      box-shadow: 0px 1px 2px rgba(60, 64, 67, 0.3), 0px 1px 3px 1px rgba(60, 64, 67, 0.15);\n",
              "      fill: #174EA6;\n",
              "    }\n",
              "\n",
              "    .colab-df-buttons div {\n",
              "      margin-bottom: 4px;\n",
              "    }\n",
              "\n",
              "    [theme=dark] .colab-df-convert {\n",
              "      background-color: #3B4455;\n",
              "      fill: #D2E3FC;\n",
              "    }\n",
              "\n",
              "    [theme=dark] .colab-df-convert:hover {\n",
              "      background-color: #434B5C;\n",
              "      box-shadow: 0px 1px 3px 1px rgba(0, 0, 0, 0.15);\n",
              "      filter: drop-shadow(0px 1px 2px rgba(0, 0, 0, 0.3));\n",
              "      fill: #FFFFFF;\n",
              "    }\n",
              "  </style>\n",
              "\n",
              "    <script>\n",
              "      const buttonEl =\n",
              "        document.querySelector('#df-5409e645-6421-4b67-9422-c4beea94c345 button.colab-df-convert');\n",
              "      buttonEl.style.display =\n",
              "        google.colab.kernel.accessAllowed ? 'block' : 'none';\n",
              "\n",
              "      async function convertToInteractive(key) {\n",
              "        const element = document.querySelector('#df-5409e645-6421-4b67-9422-c4beea94c345');\n",
              "        const dataTable =\n",
              "          await google.colab.kernel.invokeFunction('convertToInteractive',\n",
              "                                                    [key], {});\n",
              "        if (!dataTable) return;\n",
              "\n",
              "        const docLinkHtml = 'Like what you see? Visit the ' +\n",
              "          '<a target=\"_blank\" href=https://colab.research.google.com/notebooks/data_table.ipynb>data table notebook</a>'\n",
              "          + ' to learn more about interactive tables.';\n",
              "        element.innerHTML = '';\n",
              "        dataTable['output_type'] = 'display_data';\n",
              "        await google.colab.output.renderOutput(dataTable, element);\n",
              "        const docLink = document.createElement('div');\n",
              "        docLink.innerHTML = docLinkHtml;\n",
              "        element.appendChild(docLink);\n",
              "      }\n",
              "    </script>\n",
              "  </div>\n",
              "\n",
              "\n",
              "<div id=\"df-a1fe371b-e4be-47f4-acdb-3e7b2bc9eefa\">\n",
              "  <button class=\"colab-df-quickchart\" onclick=\"quickchart('df-a1fe371b-e4be-47f4-acdb-3e7b2bc9eefa')\"\n",
              "            title=\"Suggest charts\"\n",
              "            style=\"display:none;\">\n",
              "\n",
              "<svg xmlns=\"http://www.w3.org/2000/svg\" height=\"24px\"viewBox=\"0 0 24 24\"\n",
              "     width=\"24px\">\n",
              "    <g>\n",
              "        <path d=\"M19 3H5c-1.1 0-2 .9-2 2v14c0 1.1.9 2 2 2h14c1.1 0 2-.9 2-2V5c0-1.1-.9-2-2-2zM9 17H7v-7h2v7zm4 0h-2V7h2v10zm4 0h-2v-4h2v4z\"/>\n",
              "    </g>\n",
              "</svg>\n",
              "  </button>\n",
              "\n",
              "<style>\n",
              "  .colab-df-quickchart {\n",
              "      --bg-color: #E8F0FE;\n",
              "      --fill-color: #1967D2;\n",
              "      --hover-bg-color: #E2EBFA;\n",
              "      --hover-fill-color: #174EA6;\n",
              "      --disabled-fill-color: #AAA;\n",
              "      --disabled-bg-color: #DDD;\n",
              "  }\n",
              "\n",
              "  [theme=dark] .colab-df-quickchart {\n",
              "      --bg-color: #3B4455;\n",
              "      --fill-color: #D2E3FC;\n",
              "      --hover-bg-color: #434B5C;\n",
              "      --hover-fill-color: #FFFFFF;\n",
              "      --disabled-bg-color: #3B4455;\n",
              "      --disabled-fill-color: #666;\n",
              "  }\n",
              "\n",
              "  .colab-df-quickchart {\n",
              "    background-color: var(--bg-color);\n",
              "    border: none;\n",
              "    border-radius: 50%;\n",
              "    cursor: pointer;\n",
              "    display: none;\n",
              "    fill: var(--fill-color);\n",
              "    height: 32px;\n",
              "    padding: 0;\n",
              "    width: 32px;\n",
              "  }\n",
              "\n",
              "  .colab-df-quickchart:hover {\n",
              "    background-color: var(--hover-bg-color);\n",
              "    box-shadow: 0 1px 2px rgba(60, 64, 67, 0.3), 0 1px 3px 1px rgba(60, 64, 67, 0.15);\n",
              "    fill: var(--button-hover-fill-color);\n",
              "  }\n",
              "\n",
              "  .colab-df-quickchart-complete:disabled,\n",
              "  .colab-df-quickchart-complete:disabled:hover {\n",
              "    background-color: var(--disabled-bg-color);\n",
              "    fill: var(--disabled-fill-color);\n",
              "    box-shadow: none;\n",
              "  }\n",
              "\n",
              "  .colab-df-spinner {\n",
              "    border: 2px solid var(--fill-color);\n",
              "    border-color: transparent;\n",
              "    border-bottom-color: var(--fill-color);\n",
              "    animation:\n",
              "      spin 1s steps(1) infinite;\n",
              "  }\n",
              "\n",
              "  @keyframes spin {\n",
              "    0% {\n",
              "      border-color: transparent;\n",
              "      border-bottom-color: var(--fill-color);\n",
              "      border-left-color: var(--fill-color);\n",
              "    }\n",
              "    20% {\n",
              "      border-color: transparent;\n",
              "      border-left-color: var(--fill-color);\n",
              "      border-top-color: var(--fill-color);\n",
              "    }\n",
              "    30% {\n",
              "      border-color: transparent;\n",
              "      border-left-color: var(--fill-color);\n",
              "      border-top-color: var(--fill-color);\n",
              "      border-right-color: var(--fill-color);\n",
              "    }\n",
              "    40% {\n",
              "      border-color: transparent;\n",
              "      border-right-color: var(--fill-color);\n",
              "      border-top-color: var(--fill-color);\n",
              "    }\n",
              "    60% {\n",
              "      border-color: transparent;\n",
              "      border-right-color: var(--fill-color);\n",
              "    }\n",
              "    80% {\n",
              "      border-color: transparent;\n",
              "      border-right-color: var(--fill-color);\n",
              "      border-bottom-color: var(--fill-color);\n",
              "    }\n",
              "    90% {\n",
              "      border-color: transparent;\n",
              "      border-bottom-color: var(--fill-color);\n",
              "    }\n",
              "  }\n",
              "</style>\n",
              "\n",
              "  <script>\n",
              "    async function quickchart(key) {\n",
              "      const quickchartButtonEl =\n",
              "        document.querySelector('#' + key + ' button');\n",
              "      quickchartButtonEl.disabled = true;  // To prevent multiple clicks.\n",
              "      quickchartButtonEl.classList.add('colab-df-spinner');\n",
              "      try {\n",
              "        const charts = await google.colab.kernel.invokeFunction(\n",
              "            'suggestCharts', [key], {});\n",
              "      } catch (error) {\n",
              "        console.error('Error during call to suggestCharts:', error);\n",
              "      }\n",
              "      quickchartButtonEl.classList.remove('colab-df-spinner');\n",
              "      quickchartButtonEl.classList.add('colab-df-quickchart-complete');\n",
              "    }\n",
              "    (() => {\n",
              "      let quickchartButtonEl =\n",
              "        document.querySelector('#df-a1fe371b-e4be-47f4-acdb-3e7b2bc9eefa button');\n",
              "      quickchartButtonEl.style.display =\n",
              "        google.colab.kernel.accessAllowed ? 'block' : 'none';\n",
              "    })();\n",
              "  </script>\n",
              "</div>\n",
              "    </div>\n",
              "  </div>\n"
            ],
            "application/vnd.google.colaboratory.intrinsic+json": {
              "type": "dataframe",
              "variable_name": "data"
            }
          },
          "metadata": {},
          "execution_count": 4
        }
      ],
      "source": [
        "data.head()"
      ]
    },
    {
      "cell_type": "code",
      "source": [
        "data.shape"
      ],
      "metadata": {
        "colab": {
          "base_uri": "https://localhost:8080/"
        },
        "id": "KcxjhUl0SayJ",
        "outputId": "a9e0f280-de50-4b1b-b83e-a964b11b0a5a"
      },
      "execution_count": 5,
      "outputs": [
        {
          "output_type": "execute_result",
          "data": {
            "text/plain": [
              "(15067, 52)"
            ]
          },
          "metadata": {},
          "execution_count": 5
        }
      ]
    },
    {
      "cell_type": "markdown",
      "metadata": {
        "id": "L0-ogRLBQXFN"
      },
      "source": [
        "## Предобработка"
      ]
    },
    {
      "cell_type": "markdown",
      "metadata": {
        "id": "yb9INgfdQXFN"
      },
      "source": [
        "Давайте сначала поработаем только с числовыми признаками (включая целевую переменную):"
      ]
    },
    {
      "cell_type": "code",
      "source": [
        "data_num = data.drop(columns=data.columns[data.dtypes == 'object'])"
      ],
      "metadata": {
        "id": "-4gRyKMgS5u6"
      },
      "execution_count": 39,
      "outputs": []
    },
    {
      "cell_type": "code",
      "source": [
        "data_num.columns"
      ],
      "metadata": {
        "colab": {
          "base_uri": "https://localhost:8080/"
        },
        "id": "2tOvyjkPTZmD",
        "outputId": "15fc9dcc-cd5b-463f-de3c-8ae7e6bf0867"
      },
      "execution_count": 40,
      "outputs": [
        {
          "output_type": "execute_result",
          "data": {
            "text/plain": [
              "Index(['AGE', 'AGREEMENT_RK', 'AUTO_RUS_FL', 'CHILD_TOTAL', 'COT_PRESENCE_FL',\n",
              "       'CREDIT', 'DEPENDANTS', 'DL_DOCUMENT_FL', 'FACT_LIVING_TERM',\n",
              "       'FACT_PHONE_FL', 'FACT_POST_FL', 'FL_PRESENCE_FL', 'FST_PAYMENT',\n",
              "       'GAR_PRESENCE_FL', 'GENDER', 'GEN_PHONE_FL', 'GPF_DOCUMENT_FL',\n",
              "       'HS_PRESENCE_FL', 'LAND_PRESENCE_FL', 'LOAN_AVG_DLQ_AMT',\n",
              "       'LOAN_DLQ_NUM', 'LOAN_MAX_DLQ', 'LOAN_MAX_DLQ_AMT', 'LOAN_NUM_CLOSED',\n",
              "       'LOAN_NUM_PAYM', 'LOAN_NUM_TOTAL', 'OWN_AUTO', 'PERSONAL_INCOME',\n",
              "       'PREVIOUS_CARD_NUM_UTILIZED', 'REG_FACT_FL', 'REG_FACT_POST_FL',\n",
              "       'REG_FACT_POST_TP_FL', 'REG_PHONE_FL', 'REG_POST_FL',\n",
              "       'SOCSTATUS_PENS_FL', 'SOCSTATUS_WORK_FL', 'TARGET', 'TERM',\n",
              "       'WORK_TIME'],\n",
              "      dtype='object')"
            ]
          },
          "metadata": {},
          "execution_count": 40
        }
      ]
    },
    {
      "cell_type": "markdown",
      "source": [
        "Какой еще признак надо удалить? Почему?"
      ],
      "metadata": {
        "id": "_0T9toaAT2d-"
      }
    },
    {
      "cell_type": "code",
      "source": [
        "data_num = data_num.drop(columns=['AGREEMENT_RK']) # Ибо он уникальный идентификатор\n",
        "data_num.columns"
      ],
      "metadata": {
        "colab": {
          "base_uri": "https://localhost:8080/"
        },
        "id": "MrC4-hK0Tall",
        "outputId": "b8f6720d-c3ca-4318-aa16-6c0816d492da"
      },
      "execution_count": 41,
      "outputs": [
        {
          "output_type": "execute_result",
          "data": {
            "text/plain": [
              "Index(['AGE', 'AUTO_RUS_FL', 'CHILD_TOTAL', 'COT_PRESENCE_FL', 'CREDIT',\n",
              "       'DEPENDANTS', 'DL_DOCUMENT_FL', 'FACT_LIVING_TERM', 'FACT_PHONE_FL',\n",
              "       'FACT_POST_FL', 'FL_PRESENCE_FL', 'FST_PAYMENT', 'GAR_PRESENCE_FL',\n",
              "       'GENDER', 'GEN_PHONE_FL', 'GPF_DOCUMENT_FL', 'HS_PRESENCE_FL',\n",
              "       'LAND_PRESENCE_FL', 'LOAN_AVG_DLQ_AMT', 'LOAN_DLQ_NUM', 'LOAN_MAX_DLQ',\n",
              "       'LOAN_MAX_DLQ_AMT', 'LOAN_NUM_CLOSED', 'LOAN_NUM_PAYM',\n",
              "       'LOAN_NUM_TOTAL', 'OWN_AUTO', 'PERSONAL_INCOME',\n",
              "       'PREVIOUS_CARD_NUM_UTILIZED', 'REG_FACT_FL', 'REG_FACT_POST_FL',\n",
              "       'REG_FACT_POST_TP_FL', 'REG_PHONE_FL', 'REG_POST_FL',\n",
              "       'SOCSTATUS_PENS_FL', 'SOCSTATUS_WORK_FL', 'TARGET', 'TERM',\n",
              "       'WORK_TIME'],\n",
              "      dtype='object')"
            ]
          },
          "metadata": {},
          "execution_count": 41
        }
      ]
    },
    {
      "cell_type": "markdown",
      "source": [
        "Выделим целевую переменную:"
      ],
      "metadata": {
        "id": "ZJK1geezX3i8"
      }
    },
    {
      "cell_type": "code",
      "execution_count": 9,
      "metadata": {
        "id": "FbbWXs1AQXFO"
      },
      "outputs": [],
      "source": [
        "target_col_name = 'TARGET' #Таргет в переменной таргет\n",
        "\n",
        "X = data_num.drop(columns=[target_col_name]).values\n",
        "y = data_num.loc[:, target_col_name].values"
      ]
    },
    {
      "cell_type": "markdown",
      "source": [
        "Поделим на обучающую и тестовую выборки"
      ],
      "metadata": {
        "id": "gR78xxCEYSt_"
      }
    },
    {
      "cell_type": "code",
      "source": [
        "from sklearn.model_selection import train_test_split\n",
        "\n",
        "# Split data into train and test samples\n",
        "X_train, X_test, y_train, y_test = train_test_split(X, y, test_size=0.3, random_state=42)\n",
        "\n",
        "X_train[:2]"
      ],
      "metadata": {
        "colab": {
          "base_uri": "https://localhost:8080/"
        },
        "id": "aqrZ22JkYLFQ",
        "outputId": "21de7517-4382-4d00-9e50-9dd3c901b633"
      },
      "execution_count": 10,
      "outputs": [
        {
          "output_type": "execute_result",
          "data": {
            "text/plain": [
              "array([[2.200e+01, 0.000e+00, 0.000e+00, 0.000e+00, 9.574e+03, 0.000e+00,\n",
              "        0.000e+00, 8.000e+00, 0.000e+00, 1.000e+00, 0.000e+00, 1.064e+03,\n",
              "        0.000e+00, 1.000e+00, 1.000e+00, 1.000e+00, 0.000e+00, 0.000e+00,\n",
              "        0.000e+00, 0.000e+00, 0.000e+00, 0.000e+00, 0.000e+00, 6.000e+00,\n",
              "        1.000e+00, 0.000e+00, 7.000e+03,       nan, 0.000e+00, 0.000e+00,\n",
              "        1.000e+00, 1.000e+00, 0.000e+00, 0.000e+00, 1.000e+00, 1.200e+01,\n",
              "        8.000e+00],\n",
              "       [5.100e+01, 0.000e+00, 0.000e+00, 0.000e+00, 2.180e+04, 0.000e+00,\n",
              "        0.000e+00, 3.420e+02, 1.000e+00, 1.000e+00, 0.000e+00, 1.200e+03,\n",
              "        0.000e+00, 1.000e+00, 1.000e+00, 0.000e+00, 0.000e+00, 0.000e+00,\n",
              "        0.000e+00, 0.000e+00, 0.000e+00, 0.000e+00, 0.000e+00, 4.000e+00,\n",
              "        1.000e+00, 0.000e+00, 1.400e+04,       nan, 1.000e+00, 1.000e+00,\n",
              "        1.000e+00, 0.000e+00, 1.000e+00, 0.000e+00, 1.000e+00, 1.000e+01,\n",
              "        2.450e+02]])"
            ]
          },
          "metadata": {},
          "execution_count": 10
        }
      ]
    },
    {
      "cell_type": "markdown",
      "source": [
        "$⇑$ Уже видны проблемы с пропущенными значениями (nan).\n",
        "\n",
        "Можем посмотреть, в каких они признаках. Почему пропуски именно в этих столбцах? Это важно или просто ошибки? На что стоит заменить их?"
      ],
      "metadata": {
        "id": "aGUaigBcWDY0"
      }
    },
    {
      "cell_type": "code",
      "source": [
        "data_num.isna().sum().sort_values(ascending=False)"
      ],
      "metadata": {
        "colab": {
          "base_uri": "https://localhost:8080/",
          "height": 1000
        },
        "id": "5zfWtO4OWHMD",
        "outputId": "9b4b40f1-7978-4cab-a3fa-0a2e86bebece"
      },
      "execution_count": 11,
      "outputs": [
        {
          "output_type": "execute_result",
          "data": {
            "text/plain": [
              "PREVIOUS_CARD_NUM_UTILIZED    14763\n",
              "WORK_TIME                      1386\n",
              "REG_FACT_FL                       0\n",
              "LOAN_MAX_DLQ_AMT                  0\n",
              "LOAN_NUM_CLOSED                   0\n",
              "LOAN_NUM_PAYM                     0\n",
              "LOAN_NUM_TOTAL                    0\n",
              "OWN_AUTO                          0\n",
              "PERSONAL_INCOME                   0\n",
              "REG_FACT_POST_FL                  0\n",
              "AUTO_RUS_FL                       0\n",
              "REG_FACT_POST_TP_FL               0\n",
              "REG_PHONE_FL                      0\n",
              "REG_POST_FL                       0\n",
              "SOCSTATUS_PENS_FL                 0\n",
              "SOCSTATUS_WORK_FL                 0\n",
              "TARGET                            0\n",
              "TERM                              0\n",
              "LOAN_MAX_DLQ                      0\n",
              "AGE                               0\n",
              "LOAN_AVG_DLQ_AMT                  0\n",
              "LAND_PRESENCE_FL                  0\n",
              "CHILD_TOTAL                       0\n",
              "COT_PRESENCE_FL                   0\n",
              "CREDIT                            0\n",
              "DEPENDANTS                        0\n",
              "DL_DOCUMENT_FL                    0\n",
              "FACT_LIVING_TERM                  0\n",
              "FACT_PHONE_FL                     0\n",
              "FACT_POST_FL                      0\n",
              "FL_PRESENCE_FL                    0\n",
              "FST_PAYMENT                       0\n",
              "GAR_PRESENCE_FL                   0\n",
              "GENDER                            0\n",
              "GEN_PHONE_FL                      0\n",
              "GPF_DOCUMENT_FL                   0\n",
              "HS_PRESENCE_FL                    0\n",
              "LOAN_DLQ_NUM                      0\n",
              "dtype: int64"
            ],
            "text/html": [
              "<div>\n",
              "<style scoped>\n",
              "    .dataframe tbody tr th:only-of-type {\n",
              "        vertical-align: middle;\n",
              "    }\n",
              "\n",
              "    .dataframe tbody tr th {\n",
              "        vertical-align: top;\n",
              "    }\n",
              "\n",
              "    .dataframe thead th {\n",
              "        text-align: right;\n",
              "    }\n",
              "</style>\n",
              "<table border=\"1\" class=\"dataframe\">\n",
              "  <thead>\n",
              "    <tr style=\"text-align: right;\">\n",
              "      <th></th>\n",
              "      <th>0</th>\n",
              "    </tr>\n",
              "  </thead>\n",
              "  <tbody>\n",
              "    <tr>\n",
              "      <th>PREVIOUS_CARD_NUM_UTILIZED</th>\n",
              "      <td>14763</td>\n",
              "    </tr>\n",
              "    <tr>\n",
              "      <th>WORK_TIME</th>\n",
              "      <td>1386</td>\n",
              "    </tr>\n",
              "    <tr>\n",
              "      <th>REG_FACT_FL</th>\n",
              "      <td>0</td>\n",
              "    </tr>\n",
              "    <tr>\n",
              "      <th>LOAN_MAX_DLQ_AMT</th>\n",
              "      <td>0</td>\n",
              "    </tr>\n",
              "    <tr>\n",
              "      <th>LOAN_NUM_CLOSED</th>\n",
              "      <td>0</td>\n",
              "    </tr>\n",
              "    <tr>\n",
              "      <th>LOAN_NUM_PAYM</th>\n",
              "      <td>0</td>\n",
              "    </tr>\n",
              "    <tr>\n",
              "      <th>LOAN_NUM_TOTAL</th>\n",
              "      <td>0</td>\n",
              "    </tr>\n",
              "    <tr>\n",
              "      <th>OWN_AUTO</th>\n",
              "      <td>0</td>\n",
              "    </tr>\n",
              "    <tr>\n",
              "      <th>PERSONAL_INCOME</th>\n",
              "      <td>0</td>\n",
              "    </tr>\n",
              "    <tr>\n",
              "      <th>REG_FACT_POST_FL</th>\n",
              "      <td>0</td>\n",
              "    </tr>\n",
              "    <tr>\n",
              "      <th>AUTO_RUS_FL</th>\n",
              "      <td>0</td>\n",
              "    </tr>\n",
              "    <tr>\n",
              "      <th>REG_FACT_POST_TP_FL</th>\n",
              "      <td>0</td>\n",
              "    </tr>\n",
              "    <tr>\n",
              "      <th>REG_PHONE_FL</th>\n",
              "      <td>0</td>\n",
              "    </tr>\n",
              "    <tr>\n",
              "      <th>REG_POST_FL</th>\n",
              "      <td>0</td>\n",
              "    </tr>\n",
              "    <tr>\n",
              "      <th>SOCSTATUS_PENS_FL</th>\n",
              "      <td>0</td>\n",
              "    </tr>\n",
              "    <tr>\n",
              "      <th>SOCSTATUS_WORK_FL</th>\n",
              "      <td>0</td>\n",
              "    </tr>\n",
              "    <tr>\n",
              "      <th>TARGET</th>\n",
              "      <td>0</td>\n",
              "    </tr>\n",
              "    <tr>\n",
              "      <th>TERM</th>\n",
              "      <td>0</td>\n",
              "    </tr>\n",
              "    <tr>\n",
              "      <th>LOAN_MAX_DLQ</th>\n",
              "      <td>0</td>\n",
              "    </tr>\n",
              "    <tr>\n",
              "      <th>AGE</th>\n",
              "      <td>0</td>\n",
              "    </tr>\n",
              "    <tr>\n",
              "      <th>LOAN_AVG_DLQ_AMT</th>\n",
              "      <td>0</td>\n",
              "    </tr>\n",
              "    <tr>\n",
              "      <th>LAND_PRESENCE_FL</th>\n",
              "      <td>0</td>\n",
              "    </tr>\n",
              "    <tr>\n",
              "      <th>CHILD_TOTAL</th>\n",
              "      <td>0</td>\n",
              "    </tr>\n",
              "    <tr>\n",
              "      <th>COT_PRESENCE_FL</th>\n",
              "      <td>0</td>\n",
              "    </tr>\n",
              "    <tr>\n",
              "      <th>CREDIT</th>\n",
              "      <td>0</td>\n",
              "    </tr>\n",
              "    <tr>\n",
              "      <th>DEPENDANTS</th>\n",
              "      <td>0</td>\n",
              "    </tr>\n",
              "    <tr>\n",
              "      <th>DL_DOCUMENT_FL</th>\n",
              "      <td>0</td>\n",
              "    </tr>\n",
              "    <tr>\n",
              "      <th>FACT_LIVING_TERM</th>\n",
              "      <td>0</td>\n",
              "    </tr>\n",
              "    <tr>\n",
              "      <th>FACT_PHONE_FL</th>\n",
              "      <td>0</td>\n",
              "    </tr>\n",
              "    <tr>\n",
              "      <th>FACT_POST_FL</th>\n",
              "      <td>0</td>\n",
              "    </tr>\n",
              "    <tr>\n",
              "      <th>FL_PRESENCE_FL</th>\n",
              "      <td>0</td>\n",
              "    </tr>\n",
              "    <tr>\n",
              "      <th>FST_PAYMENT</th>\n",
              "      <td>0</td>\n",
              "    </tr>\n",
              "    <tr>\n",
              "      <th>GAR_PRESENCE_FL</th>\n",
              "      <td>0</td>\n",
              "    </tr>\n",
              "    <tr>\n",
              "      <th>GENDER</th>\n",
              "      <td>0</td>\n",
              "    </tr>\n",
              "    <tr>\n",
              "      <th>GEN_PHONE_FL</th>\n",
              "      <td>0</td>\n",
              "    </tr>\n",
              "    <tr>\n",
              "      <th>GPF_DOCUMENT_FL</th>\n",
              "      <td>0</td>\n",
              "    </tr>\n",
              "    <tr>\n",
              "      <th>HS_PRESENCE_FL</th>\n",
              "      <td>0</td>\n",
              "    </tr>\n",
              "    <tr>\n",
              "      <th>LOAN_DLQ_NUM</th>\n",
              "      <td>0</td>\n",
              "    </tr>\n",
              "  </tbody>\n",
              "</table>\n",
              "</div><br><label><b>dtype:</b> int64</label>"
            ]
          },
          "metadata": {},
          "execution_count": 11
        }
      ]
    },
    {
      "cell_type": "markdown",
      "source": [
        "Смотрим на признак `PREVIOUS_CARD_NUM_UTILIZED`"
      ],
      "metadata": {
        "id": "_4FbesBCYeZy"
      }
    },
    {
      "cell_type": "code",
      "source": [
        "##Ответ: PREVIOUS_CARD_NUM_UTILIZED - в описании данных сказано, что nan, если ни разу не пользовались\n",
        "#(Можем чекнуть, что в датасете только 1 и 2). Замена на 0\n",
        "data_num['PREVIOUS_CARD_NUM_UTILIZED'].value_counts()"
      ],
      "metadata": {
        "colab": {
          "base_uri": "https://localhost:8080/",
          "height": 178
        },
        "id": "FjlOIggBWQ-7",
        "outputId": "82e58580-c6bc-402f-ca76-c93ebbbe6a85"
      },
      "execution_count": 12,
      "outputs": [
        {
          "output_type": "execute_result",
          "data": {
            "text/plain": [
              "PREVIOUS_CARD_NUM_UTILIZED\n",
              "1.0    301\n",
              "2.0      3\n",
              "Name: count, dtype: int64"
            ],
            "text/html": [
              "<div>\n",
              "<style scoped>\n",
              "    .dataframe tbody tr th:only-of-type {\n",
              "        vertical-align: middle;\n",
              "    }\n",
              "\n",
              "    .dataframe tbody tr th {\n",
              "        vertical-align: top;\n",
              "    }\n",
              "\n",
              "    .dataframe thead th {\n",
              "        text-align: right;\n",
              "    }\n",
              "</style>\n",
              "<table border=\"1\" class=\"dataframe\">\n",
              "  <thead>\n",
              "    <tr style=\"text-align: right;\">\n",
              "      <th></th>\n",
              "      <th>count</th>\n",
              "    </tr>\n",
              "    <tr>\n",
              "      <th>PREVIOUS_CARD_NUM_UTILIZED</th>\n",
              "      <th></th>\n",
              "    </tr>\n",
              "  </thead>\n",
              "  <tbody>\n",
              "    <tr>\n",
              "      <th>1.0</th>\n",
              "      <td>301</td>\n",
              "    </tr>\n",
              "    <tr>\n",
              "      <th>2.0</th>\n",
              "      <td>3</td>\n",
              "    </tr>\n",
              "  </tbody>\n",
              "</table>\n",
              "</div><br><label><b>dtype:</b> int64</label>"
            ]
          },
          "metadata": {},
          "execution_count": 12
        }
      ]
    },
    {
      "cell_type": "markdown",
      "source": [
        "Посмотрим на признак `WORK_TIME`"
      ],
      "metadata": {
        "id": "5EDjHrebYlPS"
      }
    },
    {
      "cell_type": "code",
      "source": [
        "##Ответ: WORK_TIME - сколько работает на текущей работе. предположение - если не работает, то пропуск. Замена на 0\n",
        "#Если nan, то у большинства людей будет статус безработного (и, возможно, есть 1 ошибка-пропуск)\n",
        "data_num[data_num['WORK_TIME'].isna()]['SOCSTATUS_WORK_FL'].value_counts()"
      ],
      "metadata": {
        "colab": {
          "base_uri": "https://localhost:8080/",
          "height": 178
        },
        "id": "GjNxSqp8WzhO",
        "outputId": "ae476f03-1652-41bf-9747-d98ee5eb2a19"
      },
      "execution_count": 13,
      "outputs": [
        {
          "output_type": "execute_result",
          "data": {
            "text/plain": [
              "SOCSTATUS_WORK_FL\n",
              "0    1385\n",
              "1       1\n",
              "Name: count, dtype: int64"
            ],
            "text/html": [
              "<div>\n",
              "<style scoped>\n",
              "    .dataframe tbody tr th:only-of-type {\n",
              "        vertical-align: middle;\n",
              "    }\n",
              "\n",
              "    .dataframe tbody tr th {\n",
              "        vertical-align: top;\n",
              "    }\n",
              "\n",
              "    .dataframe thead th {\n",
              "        text-align: right;\n",
              "    }\n",
              "</style>\n",
              "<table border=\"1\" class=\"dataframe\">\n",
              "  <thead>\n",
              "    <tr style=\"text-align: right;\">\n",
              "      <th></th>\n",
              "      <th>count</th>\n",
              "    </tr>\n",
              "    <tr>\n",
              "      <th>SOCSTATUS_WORK_FL</th>\n",
              "      <th></th>\n",
              "    </tr>\n",
              "  </thead>\n",
              "  <tbody>\n",
              "    <tr>\n",
              "      <th>0</th>\n",
              "      <td>1385</td>\n",
              "    </tr>\n",
              "    <tr>\n",
              "      <th>1</th>\n",
              "      <td>1</td>\n",
              "    </tr>\n",
              "  </tbody>\n",
              "</table>\n",
              "</div><br><label><b>dtype:</b> int64</label>"
            ]
          },
          "metadata": {},
          "execution_count": 13
        }
      ]
    },
    {
      "cell_type": "code",
      "source": [
        "#Если не nan, то у большинства людей будет статус работающего (и, возможно, есть 9 ошибок-пропусков, или люди работают, но не оф.)\n",
        "data_num[~data_num['WORK_TIME'].isna()]['SOCSTATUS_WORK_FL'].value_counts()"
      ],
      "metadata": {
        "colab": {
          "base_uri": "https://localhost:8080/",
          "height": 178
        },
        "id": "LRoA2bAtW9W0",
        "outputId": "b7ea8448-9652-4017-efff-b36c3e9e7d21"
      },
      "execution_count": 14,
      "outputs": [
        {
          "output_type": "execute_result",
          "data": {
            "text/plain": [
              "SOCSTATUS_WORK_FL\n",
              "1    13672\n",
              "0        9\n",
              "Name: count, dtype: int64"
            ],
            "text/html": [
              "<div>\n",
              "<style scoped>\n",
              "    .dataframe tbody tr th:only-of-type {\n",
              "        vertical-align: middle;\n",
              "    }\n",
              "\n",
              "    .dataframe tbody tr th {\n",
              "        vertical-align: top;\n",
              "    }\n",
              "\n",
              "    .dataframe thead th {\n",
              "        text-align: right;\n",
              "    }\n",
              "</style>\n",
              "<table border=\"1\" class=\"dataframe\">\n",
              "  <thead>\n",
              "    <tr style=\"text-align: right;\">\n",
              "      <th></th>\n",
              "      <th>count</th>\n",
              "    </tr>\n",
              "    <tr>\n",
              "      <th>SOCSTATUS_WORK_FL</th>\n",
              "      <th></th>\n",
              "    </tr>\n",
              "  </thead>\n",
              "  <tbody>\n",
              "    <tr>\n",
              "      <th>1</th>\n",
              "      <td>13672</td>\n",
              "    </tr>\n",
              "    <tr>\n",
              "      <th>0</th>\n",
              "      <td>9</td>\n",
              "    </tr>\n",
              "  </tbody>\n",
              "</table>\n",
              "</div><br><label><b>dtype:</b> int64</label>"
            ]
          },
          "metadata": {},
          "execution_count": 14
        }
      ]
    },
    {
      "cell_type": "markdown",
      "source": [
        "Теперь произведем замену пропусков.\n",
        "\n",
        "Note: если заменять на константу, то можно и изначальную таблицу менять. Если значение - среднее, медиана и т.д., требуется подсчитать его на **обучающей** выборке"
      ],
      "metadata": {
        "id": "IUU_22JfYoYH"
      }
    },
    {
      "cell_type": "code",
      "source": [
        "from sklearn.impute import SimpleImputer\n",
        "\n",
        "\n",
        "imp = SimpleImputer(missing_values=np.nan,\n",
        "                    strategy=\"constant\",\n",
        "                    fill_value=0\n",
        "                    )\n",
        "imp.fit(X_train)\n",
        "\n",
        "\n",
        "X_train = imp.transform(X_train)\n",
        "X_test = imp.transform(X_test)"
      ],
      "metadata": {
        "id": "PW2M9RO5XpBZ"
      },
      "execution_count": 15,
      "outputs": []
    },
    {
      "cell_type": "markdown",
      "metadata": {
        "id": "GcF0Iv0pQXFP"
      },
      "source": [
        "Отмасштабируем данные с помощью StandardScaler:\n",
        "$$\n",
        "X_{new} = \\frac{X - \\mu}{\\sigma}\n",
        "$$"
      ]
    },
    {
      "cell_type": "code",
      "execution_count": 16,
      "metadata": {
        "id": "c28ScJcYQXFP"
      },
      "outputs": [],
      "source": [
        "from sklearn.preprocessing import StandardScaler\n",
        "\n",
        "ss = StandardScaler()\n",
        "ss.fit(X_train)\n",
        "\n",
        "\n",
        "X_train = ss.transform(X_train)\n",
        "X_test = ss.transform(X_test)"
      ]
    },
    {
      "cell_type": "markdown",
      "metadata": {
        "id": "Xv2nHC6OQXFP"
      },
      "source": [
        "## Обучение классификаторов\n",
        "\n",
        "Мы сравним три классификатора:\n",
        "* KNN\n",
        "* Логистическая регрессия\n",
        "* Древо решений (вы еще его не знаете, но так интереснее)\n",
        "\n",
        "Мы будем использовать scikit-learn реализацию этих классификаторов. Их описания: [kNN](https://scikit-learn.org/stable/modules/generated/sklearn.neighbors.KNeighborsClassifier.html), [Decision Tree](https://scikit-learn.org/stable/modules/generated/sklearn.tree.DecisionTreeClassifier.html), [Logistic Regression](https://scikit-learn.org/stable/modules/generated/sklearn.linear_model.LogisticRegression.html).\n",
        "\n",
        "\n",
        "[Пример:](https://scikit-learn.org/stable/auto_examples/classification/plot_classifier_comparison.html)\n",
        "<center><img src=\"img/clfs.png\" width=\"800\"></center>"
      ]
    },
    {
      "cell_type": "code",
      "execution_count": 17,
      "metadata": {
        "id": "Cce4BX4JQXFP"
      },
      "outputs": [],
      "source": [
        "from sklearn.neighbors import KNeighborsClassifier\n",
        "from sklearn.linear_model import LogisticRegression\n",
        "from sklearn.tree import DecisionTreeClassifier\n",
        "\n",
        "#KNN\n",
        "knn = KNeighborsClassifier(n_neighbors=5).fit(X_train, y_train)\n",
        "\n",
        "#Логистическая регрессия\n",
        "logreg = LogisticRegression(penalty='l2', C=1.0, max_iter=2000, class_weight=None).fit(X_train, y_train)\n",
        "\n",
        "#Древо решений\n",
        "dt = DecisionTreeClassifier(criterion='gini', splitter='best', max_depth=None,\n",
        "                            min_samples_split=2, min_samples_leaf=10, class_weight=None).fit(X_train, y_train)"
      ]
    },
    {
      "cell_type": "markdown",
      "metadata": {
        "id": "LymHoTG6QXFQ"
      },
      "source": [
        "## Прогнозы"
      ]
    },
    {
      "cell_type": "markdown",
      "metadata": {
        "id": "EqMg-7ksQXFQ"
      },
      "source": [
        "Сделаем прогноз **метки** классов."
      ]
    },
    {
      "cell_type": "code",
      "execution_count": 18,
      "metadata": {
        "id": "2NzRPCysQXFQ"
      },
      "outputs": [],
      "source": [
        "# kNN\n",
        "y_test_knn = knn.predict(X_test)\n",
        "\n",
        "# Logistic Regression\n",
        "y_test_logreg = logreg.predict(X_test)\n",
        "\n",
        "# Decision Tree\n",
        "y_test_dt = dt.predict(X_test)"
      ]
    },
    {
      "cell_type": "code",
      "execution_count": 19,
      "metadata": {
        "colab": {
          "base_uri": "https://localhost:8080/"
        },
        "id": "mvHIB2HzQXFQ",
        "outputId": "adb7236a-2bad-4648-ece2-1070c7d87fd4"
      },
      "outputs": [
        {
          "output_type": "stream",
          "name": "stdout",
          "text": [
            "Truth  :  [0 0 0 1 0 0 0 0 0 0]\n",
            "kNN    :  [0 0 0 0 0 0 0 0 0 0]\n",
            "LogReg :  [0 0 0 0 0 0 0 0 0 0]\n",
            "DT     :  [0 0 0 0 0 0 0 0 0 0]\n"
          ]
        }
      ],
      "source": [
        "print(\"Truth  : \", y_test[:10])\n",
        "print(\"kNN    : \", y_test_knn[:10])\n",
        "print(\"LogReg : \", y_test_logreg[:10])\n",
        "print(\"DT     : \", y_test_dt[:10])"
      ]
    },
    {
      "cell_type": "markdown",
      "metadata": {
        "id": "4psa-lrMQXFQ"
      },
      "source": [
        "Сделаем прогноз **вероятности** положительного ответа клиентов."
      ]
    },
    {
      "cell_type": "code",
      "execution_count": 20,
      "metadata": {
        "id": "QxsDcbGKQXFQ"
      },
      "outputs": [],
      "source": [
        "# kNN\n",
        "y_test_proba_knn = knn.predict_proba(X_test)[:, 1]\n",
        "\n",
        "# Logistic Regression\n",
        "y_test_proba_logreg = logreg.predict_proba(X_test)[:, 1]\n",
        "\n",
        "# Decision Tree\n",
        "y_test_proba_dt = dt.predict_proba(X_test)[:, 1]"
      ]
    },
    {
      "cell_type": "code",
      "execution_count": 21,
      "metadata": {
        "colab": {
          "base_uri": "https://localhost:8080/"
        },
        "id": "9HBCR5xyQXFQ",
        "outputId": "e7f79c61-de72-44e9-90df-8cab70f16ea6"
      },
      "outputs": [
        {
          "output_type": "stream",
          "name": "stdout",
          "text": [
            "Truth  :  [0 0 0 1 0 0 0 0 0 0]\n",
            "kNN    :  [0.  0.  0.2 0.4 0.  0.  0.2 0.  0.2 0. ]\n",
            "LogReg :  [0.06767744 0.07946532 0.04831312 0.16113967 0.07853168 0.08236206\n",
            " 0.07567943 0.21419868 0.02265617 0.09264687]\n",
            "DT     :  [0.         0.         0.1875     0.         0.         0.\n",
            " 0.1        0.33333333 0.         0.07692308]\n"
          ]
        }
      ],
      "source": [
        "print(\"Truth  : \", y_test[:10])\n",
        "print(\"kNN    : \", y_test_proba_knn[:10])\n",
        "print(\"LogReg : \", y_test_proba_logreg[:10])\n",
        "print(\"DT     : \", y_test_proba_dt[:10])"
      ]
    },
    {
      "cell_type": "markdown",
      "metadata": {
        "id": "Dr0V9gnSQXFR"
      },
      "source": [
        "## Метрики качества для прогнозов меток"
      ]
    },
    {
      "cell_type": "markdown",
      "metadata": {
        "id": "xNXcNCZTQXFR"
      },
      "source": [
        "Матрица ошибок:\n",
        "\n",
        "<center><img src='img/binary_conf.png'></center>\n",
        "\n",
        "* TP (true positive) - правильно предсказали: клиент среагирует на рассылку, что модель и предсказала\n",
        "* FP (false positive) - неправильно предсказали: клиент не среагирует на рассылку,  а модель предсказала, что среагирует (1st order error)\n",
        "* FN (false negative) - неправильно предсказали: клиент среагировал бы на рассылку,  а модель предсказала, что нет (2nd order error)\n",
        "* TN (true negative) - правильно предсказали: клиент не среагирует на рассылку, что модель и предсказала\n",
        "\n",
        "\n",
        "Pos/Neg - общее количество объектов класса 1/0\n",
        "\n",
        "Метрики:\n",
        "\n",
        "* $ \\text{Accuracy} = \\frac{TP + TN}{Pos+Neg}$ - Доля правильных ответов\n",
        "* $ \\text{Error rate} = 1 -\\text{accuracy}$ - Доля ошибок\n",
        "* $ \\text{Precision} =\\frac{TP}{TP + FP}$ - Точность\n",
        "* $ \\text{Recall} =\\frac{TP}{TP + FN} = \\frac{TP}{Pos}$ - Полнота\n",
        "* $ \\text{F}_\\beta \\text{-score} = (1 + \\beta^2) \\cdot \\frac{\\mathrm{precision} \\cdot \\mathrm{recall}}{(\\beta^2 \\cdot \\mathrm{precision}) + \\mathrm{recall}}$ F-мера (часто используют F1-меру, где $\\beta=1$)"
      ]
    },
    {
      "cell_type": "code",
      "execution_count": 22,
      "metadata": {
        "id": "ZkiMewhdQXFR"
      },
      "outputs": [],
      "source": [
        "from sklearn.metrics import accuracy_score, precision_score, recall_score, f1_score\n",
        "\n",
        "def quality_metrics_report(y_true, y_pred):\n",
        "\n",
        "    tp = np.sum( (y_true == 1) * (y_pred == 1) )\n",
        "    fp = np.sum( (y_true == 0) * (y_pred == 1) )\n",
        "    fn = np.sum( (y_true == 1) * (y_pred == 0) )\n",
        "    tn = np.sum( (y_true == 0) * (y_pred == 0) )\n",
        "\n",
        "    accuracy = accuracy_score(y_true, y_pred)\n",
        "    error_rate = 1 - accuracy\n",
        "    precision = precision_score(y_true, y_pred)\n",
        "    recall = recall_score(y_true, y_pred)\n",
        "    f1 = f1_score(y_true, y_pred)\n",
        "\n",
        "    return [tp, fp, fn, tn, accuracy, error_rate, precision, recall, f1]"
      ]
    },
    {
      "cell_type": "code",
      "execution_count": 23,
      "metadata": {
        "colab": {
          "base_uri": "https://localhost:8080/",
          "height": 143
        },
        "id": "4tXOMUyrQXFR",
        "outputId": "c97b84a0-31b3-4524-8bec-3a5f2c34871a"
      },
      "outputs": [
        {
          "output_type": "execute_result",
          "data": {
            "text/plain": [
              "        TP   FP   FN    TN  Accuracy Error rate Precision    Recall        F1\n",
              "kNN     23   80  508  3910   0.86994    0.13006  0.223301  0.043315  0.072555\n",
              "LogReg   5   12  526  3978     0.881      0.119  0.294118  0.009416  0.018248\n",
              "DT      30  143  501  3847  0.857554   0.142446   0.17341  0.056497  0.085227"
            ],
            "text/html": [
              "\n",
              "  <div id=\"df-067d22aa-0f0f-462e-8863-42b4a23e9ba9\" class=\"colab-df-container\">\n",
              "    <div>\n",
              "<style scoped>\n",
              "    .dataframe tbody tr th:only-of-type {\n",
              "        vertical-align: middle;\n",
              "    }\n",
              "\n",
              "    .dataframe tbody tr th {\n",
              "        vertical-align: top;\n",
              "    }\n",
              "\n",
              "    .dataframe thead th {\n",
              "        text-align: right;\n",
              "    }\n",
              "</style>\n",
              "<table border=\"1\" class=\"dataframe\">\n",
              "  <thead>\n",
              "    <tr style=\"text-align: right;\">\n",
              "      <th></th>\n",
              "      <th>TP</th>\n",
              "      <th>FP</th>\n",
              "      <th>FN</th>\n",
              "      <th>TN</th>\n",
              "      <th>Accuracy</th>\n",
              "      <th>Error rate</th>\n",
              "      <th>Precision</th>\n",
              "      <th>Recall</th>\n",
              "      <th>F1</th>\n",
              "    </tr>\n",
              "  </thead>\n",
              "  <tbody>\n",
              "    <tr>\n",
              "      <th>kNN</th>\n",
              "      <td>23</td>\n",
              "      <td>80</td>\n",
              "      <td>508</td>\n",
              "      <td>3910</td>\n",
              "      <td>0.86994</td>\n",
              "      <td>0.13006</td>\n",
              "      <td>0.223301</td>\n",
              "      <td>0.043315</td>\n",
              "      <td>0.072555</td>\n",
              "    </tr>\n",
              "    <tr>\n",
              "      <th>LogReg</th>\n",
              "      <td>5</td>\n",
              "      <td>12</td>\n",
              "      <td>526</td>\n",
              "      <td>3978</td>\n",
              "      <td>0.881</td>\n",
              "      <td>0.119</td>\n",
              "      <td>0.294118</td>\n",
              "      <td>0.009416</td>\n",
              "      <td>0.018248</td>\n",
              "    </tr>\n",
              "    <tr>\n",
              "      <th>DT</th>\n",
              "      <td>30</td>\n",
              "      <td>143</td>\n",
              "      <td>501</td>\n",
              "      <td>3847</td>\n",
              "      <td>0.857554</td>\n",
              "      <td>0.142446</td>\n",
              "      <td>0.17341</td>\n",
              "      <td>0.056497</td>\n",
              "      <td>0.085227</td>\n",
              "    </tr>\n",
              "  </tbody>\n",
              "</table>\n",
              "</div>\n",
              "    <div class=\"colab-df-buttons\">\n",
              "\n",
              "  <div class=\"colab-df-container\">\n",
              "    <button class=\"colab-df-convert\" onclick=\"convertToInteractive('df-067d22aa-0f0f-462e-8863-42b4a23e9ba9')\"\n",
              "            title=\"Convert this dataframe to an interactive table.\"\n",
              "            style=\"display:none;\">\n",
              "\n",
              "  <svg xmlns=\"http://www.w3.org/2000/svg\" height=\"24px\" viewBox=\"0 -960 960 960\">\n",
              "    <path d=\"M120-120v-720h720v720H120Zm60-500h600v-160H180v160Zm220 220h160v-160H400v160Zm0 220h160v-160H400v160ZM180-400h160v-160H180v160Zm440 0h160v-160H620v160ZM180-180h160v-160H180v160Zm440 0h160v-160H620v160Z\"/>\n",
              "  </svg>\n",
              "    </button>\n",
              "\n",
              "  <style>\n",
              "    .colab-df-container {\n",
              "      display:flex;\n",
              "      gap: 12px;\n",
              "    }\n",
              "\n",
              "    .colab-df-convert {\n",
              "      background-color: #E8F0FE;\n",
              "      border: none;\n",
              "      border-radius: 50%;\n",
              "      cursor: pointer;\n",
              "      display: none;\n",
              "      fill: #1967D2;\n",
              "      height: 32px;\n",
              "      padding: 0 0 0 0;\n",
              "      width: 32px;\n",
              "    }\n",
              "\n",
              "    .colab-df-convert:hover {\n",
              "      background-color: #E2EBFA;\n",
              "      box-shadow: 0px 1px 2px rgba(60, 64, 67, 0.3), 0px 1px 3px 1px rgba(60, 64, 67, 0.15);\n",
              "      fill: #174EA6;\n",
              "    }\n",
              "\n",
              "    .colab-df-buttons div {\n",
              "      margin-bottom: 4px;\n",
              "    }\n",
              "\n",
              "    [theme=dark] .colab-df-convert {\n",
              "      background-color: #3B4455;\n",
              "      fill: #D2E3FC;\n",
              "    }\n",
              "\n",
              "    [theme=dark] .colab-df-convert:hover {\n",
              "      background-color: #434B5C;\n",
              "      box-shadow: 0px 1px 3px 1px rgba(0, 0, 0, 0.15);\n",
              "      filter: drop-shadow(0px 1px 2px rgba(0, 0, 0, 0.3));\n",
              "      fill: #FFFFFF;\n",
              "    }\n",
              "  </style>\n",
              "\n",
              "    <script>\n",
              "      const buttonEl =\n",
              "        document.querySelector('#df-067d22aa-0f0f-462e-8863-42b4a23e9ba9 button.colab-df-convert');\n",
              "      buttonEl.style.display =\n",
              "        google.colab.kernel.accessAllowed ? 'block' : 'none';\n",
              "\n",
              "      async function convertToInteractive(key) {\n",
              "        const element = document.querySelector('#df-067d22aa-0f0f-462e-8863-42b4a23e9ba9');\n",
              "        const dataTable =\n",
              "          await google.colab.kernel.invokeFunction('convertToInteractive',\n",
              "                                                    [key], {});\n",
              "        if (!dataTable) return;\n",
              "\n",
              "        const docLinkHtml = 'Like what you see? Visit the ' +\n",
              "          '<a target=\"_blank\" href=https://colab.research.google.com/notebooks/data_table.ipynb>data table notebook</a>'\n",
              "          + ' to learn more about interactive tables.';\n",
              "        element.innerHTML = '';\n",
              "        dataTable['output_type'] = 'display_data';\n",
              "        await google.colab.output.renderOutput(dataTable, element);\n",
              "        const docLink = document.createElement('div');\n",
              "        docLink.innerHTML = docLinkHtml;\n",
              "        element.appendChild(docLink);\n",
              "      }\n",
              "    </script>\n",
              "  </div>\n",
              "\n",
              "\n",
              "<div id=\"df-6a131fae-aa09-4714-b263-8c22353f3d63\">\n",
              "  <button class=\"colab-df-quickchart\" onclick=\"quickchart('df-6a131fae-aa09-4714-b263-8c22353f3d63')\"\n",
              "            title=\"Suggest charts\"\n",
              "            style=\"display:none;\">\n",
              "\n",
              "<svg xmlns=\"http://www.w3.org/2000/svg\" height=\"24px\"viewBox=\"0 0 24 24\"\n",
              "     width=\"24px\">\n",
              "    <g>\n",
              "        <path d=\"M19 3H5c-1.1 0-2 .9-2 2v14c0 1.1.9 2 2 2h14c1.1 0 2-.9 2-2V5c0-1.1-.9-2-2-2zM9 17H7v-7h2v7zm4 0h-2V7h2v10zm4 0h-2v-4h2v4z\"/>\n",
              "    </g>\n",
              "</svg>\n",
              "  </button>\n",
              "\n",
              "<style>\n",
              "  .colab-df-quickchart {\n",
              "      --bg-color: #E8F0FE;\n",
              "      --fill-color: #1967D2;\n",
              "      --hover-bg-color: #E2EBFA;\n",
              "      --hover-fill-color: #174EA6;\n",
              "      --disabled-fill-color: #AAA;\n",
              "      --disabled-bg-color: #DDD;\n",
              "  }\n",
              "\n",
              "  [theme=dark] .colab-df-quickchart {\n",
              "      --bg-color: #3B4455;\n",
              "      --fill-color: #D2E3FC;\n",
              "      --hover-bg-color: #434B5C;\n",
              "      --hover-fill-color: #FFFFFF;\n",
              "      --disabled-bg-color: #3B4455;\n",
              "      --disabled-fill-color: #666;\n",
              "  }\n",
              "\n",
              "  .colab-df-quickchart {\n",
              "    background-color: var(--bg-color);\n",
              "    border: none;\n",
              "    border-radius: 50%;\n",
              "    cursor: pointer;\n",
              "    display: none;\n",
              "    fill: var(--fill-color);\n",
              "    height: 32px;\n",
              "    padding: 0;\n",
              "    width: 32px;\n",
              "  }\n",
              "\n",
              "  .colab-df-quickchart:hover {\n",
              "    background-color: var(--hover-bg-color);\n",
              "    box-shadow: 0 1px 2px rgba(60, 64, 67, 0.3), 0 1px 3px 1px rgba(60, 64, 67, 0.15);\n",
              "    fill: var(--button-hover-fill-color);\n",
              "  }\n",
              "\n",
              "  .colab-df-quickchart-complete:disabled,\n",
              "  .colab-df-quickchart-complete:disabled:hover {\n",
              "    background-color: var(--disabled-bg-color);\n",
              "    fill: var(--disabled-fill-color);\n",
              "    box-shadow: none;\n",
              "  }\n",
              "\n",
              "  .colab-df-spinner {\n",
              "    border: 2px solid var(--fill-color);\n",
              "    border-color: transparent;\n",
              "    border-bottom-color: var(--fill-color);\n",
              "    animation:\n",
              "      spin 1s steps(1) infinite;\n",
              "  }\n",
              "\n",
              "  @keyframes spin {\n",
              "    0% {\n",
              "      border-color: transparent;\n",
              "      border-bottom-color: var(--fill-color);\n",
              "      border-left-color: var(--fill-color);\n",
              "    }\n",
              "    20% {\n",
              "      border-color: transparent;\n",
              "      border-left-color: var(--fill-color);\n",
              "      border-top-color: var(--fill-color);\n",
              "    }\n",
              "    30% {\n",
              "      border-color: transparent;\n",
              "      border-left-color: var(--fill-color);\n",
              "      border-top-color: var(--fill-color);\n",
              "      border-right-color: var(--fill-color);\n",
              "    }\n",
              "    40% {\n",
              "      border-color: transparent;\n",
              "      border-right-color: var(--fill-color);\n",
              "      border-top-color: var(--fill-color);\n",
              "    }\n",
              "    60% {\n",
              "      border-color: transparent;\n",
              "      border-right-color: var(--fill-color);\n",
              "    }\n",
              "    80% {\n",
              "      border-color: transparent;\n",
              "      border-right-color: var(--fill-color);\n",
              "      border-bottom-color: var(--fill-color);\n",
              "    }\n",
              "    90% {\n",
              "      border-color: transparent;\n",
              "      border-bottom-color: var(--fill-color);\n",
              "    }\n",
              "  }\n",
              "</style>\n",
              "\n",
              "  <script>\n",
              "    async function quickchart(key) {\n",
              "      const quickchartButtonEl =\n",
              "        document.querySelector('#' + key + ' button');\n",
              "      quickchartButtonEl.disabled = true;  // To prevent multiple clicks.\n",
              "      quickchartButtonEl.classList.add('colab-df-spinner');\n",
              "      try {\n",
              "        const charts = await google.colab.kernel.invokeFunction(\n",
              "            'suggestCharts', [key], {});\n",
              "      } catch (error) {\n",
              "        console.error('Error during call to suggestCharts:', error);\n",
              "      }\n",
              "      quickchartButtonEl.classList.remove('colab-df-spinner');\n",
              "      quickchartButtonEl.classList.add('colab-df-quickchart-complete');\n",
              "    }\n",
              "    (() => {\n",
              "      let quickchartButtonEl =\n",
              "        document.querySelector('#df-6a131fae-aa09-4714-b263-8c22353f3d63 button');\n",
              "      quickchartButtonEl.style.display =\n",
              "        google.colab.kernel.accessAllowed ? 'block' : 'none';\n",
              "    })();\n",
              "  </script>\n",
              "</div>\n",
              "    </div>\n",
              "  </div>\n"
            ],
            "application/vnd.google.colaboratory.intrinsic+json": {
              "type": "dataframe",
              "variable_name": "metrics_report",
              "summary": "{\n  \"name\": \"metrics_report\",\n  \"rows\": 3,\n  \"fields\": [\n    {\n      \"column\": \"TP\",\n      \"properties\": {\n        \"dtype\": \"date\",\n        \"min\": \"5\",\n        \"max\": \"30\",\n        \"num_unique_values\": 3,\n        \"samples\": [\n          \"23\",\n          \"5\",\n          \"30\"\n        ],\n        \"semantic_type\": \"\",\n        \"description\": \"\"\n      }\n    },\n    {\n      \"column\": \"FP\",\n      \"properties\": {\n        \"dtype\": \"date\",\n        \"min\": \"12\",\n        \"max\": \"143\",\n        \"num_unique_values\": 3,\n        \"samples\": [\n          \"80\",\n          \"12\",\n          \"143\"\n        ],\n        \"semantic_type\": \"\",\n        \"description\": \"\"\n      }\n    },\n    {\n      \"column\": \"FN\",\n      \"properties\": {\n        \"dtype\": \"date\",\n        \"min\": \"501\",\n        \"max\": \"526\",\n        \"num_unique_values\": 3,\n        \"samples\": [\n          \"508\",\n          \"526\",\n          \"501\"\n        ],\n        \"semantic_type\": \"\",\n        \"description\": \"\"\n      }\n    },\n    {\n      \"column\": \"TN\",\n      \"properties\": {\n        \"dtype\": \"date\",\n        \"min\": \"3847\",\n        \"max\": \"3978\",\n        \"num_unique_values\": 3,\n        \"samples\": [\n          \"3910\",\n          \"3978\",\n          \"3847\"\n        ],\n        \"semantic_type\": \"\",\n        \"description\": \"\"\n      }\n    },\n    {\n      \"column\": \"Accuracy\",\n      \"properties\": {\n        \"dtype\": \"date\",\n        \"min\": 0.8575536385755363,\n        \"max\": 0.8809997788099978,\n        \"num_unique_values\": 3,\n        \"samples\": [\n          0.8699402786994028,\n          0.8809997788099978,\n          0.8575536385755363\n        ],\n        \"semantic_type\": \"\",\n        \"description\": \"\"\n      }\n    },\n    {\n      \"column\": \"Error rate\",\n      \"properties\": {\n        \"dtype\": \"date\",\n        \"min\": 0.1190002211900022,\n        \"max\": 0.14244636142446365,\n        \"num_unique_values\": 3,\n        \"samples\": [\n          0.13005972130059718,\n          0.1190002211900022,\n          0.14244636142446365\n        ],\n        \"semantic_type\": \"\",\n        \"description\": \"\"\n      }\n    },\n    {\n      \"column\": \"Precision\",\n      \"properties\": {\n        \"dtype\": \"date\",\n        \"min\": 0.17341040462427745,\n        \"max\": 0.29411764705882354,\n        \"num_unique_values\": 3,\n        \"samples\": [\n          0.22330097087378642,\n          0.29411764705882354,\n          0.17341040462427745\n        ],\n        \"semantic_type\": \"\",\n        \"description\": \"\"\n      }\n    },\n    {\n      \"column\": \"Recall\",\n      \"properties\": {\n        \"dtype\": \"date\",\n        \"min\": 0.009416195856873822,\n        \"max\": 0.05649717514124294,\n        \"num_unique_values\": 3,\n        \"samples\": [\n          0.04331450094161959,\n          0.009416195856873822,\n          0.05649717514124294\n        ],\n        \"semantic_type\": \"\",\n        \"description\": \"\"\n      }\n    },\n    {\n      \"column\": \"F1\",\n      \"properties\": {\n        \"dtype\": \"date\",\n        \"min\": 0.01824817518248175,\n        \"max\": 0.08522727272727272,\n        \"num_unique_values\": 3,\n        \"samples\": [\n          0.07255520504731862,\n          0.01824817518248175,\n          0.08522727272727272\n        ],\n        \"semantic_type\": \"\",\n        \"description\": \"\"\n      }\n    }\n  ]\n}"
            }
          },
          "metadata": {},
          "execution_count": 23
        }
      ],
      "source": [
        "metrics_report = pd.DataFrame(columns=['TP', 'FP', 'FN', 'TN', 'Accuracy', 'Error rate', 'Precision', 'Recall', 'F1'])\n",
        "\n",
        "metrics_report.loc['kNN', :] = quality_metrics_report(y_test, y_test_knn)\n",
        "metrics_report.loc['LogReg', :] = quality_metrics_report(y_test, y_test_logreg)\n",
        "metrics_report.loc['DT', :] = quality_metrics_report(y_test, y_test_dt)\n",
        "\n",
        "\n",
        "metrics_report"
      ]
    },
    {
      "cell_type": "markdown",
      "source": [
        "Согласуются ли метрики? В чем может быть проблема accuracy?"
      ],
      "metadata": {
        "id": "UoTgDKUMcO2c"
      }
    },
    {
      "cell_type": "code",
      "source": [
        "#Классы не сбалансированы...\n",
        "np.unique(y_test, return_counts=True)"
      ],
      "metadata": {
        "colab": {
          "base_uri": "https://localhost:8080/"
        },
        "id": "95U7Cye8cSzP",
        "outputId": "c098b4ec-adea-4ea7-e4a9-8d3b29f3ee2e"
      },
      "execution_count": 24,
      "outputs": [
        {
          "output_type": "execute_result",
          "data": {
            "text/plain": [
              "(array([0, 1]), array([3990,  531]))"
            ]
          },
          "metadata": {},
          "execution_count": 24
        }
      ]
    },
    {
      "cell_type": "markdown",
      "metadata": {
        "id": "Kaa6QQJPQXFR"
      },
      "source": [
        "## Метрики качества на основе вероятностей"
      ]
    },
    {
      "cell_type": "markdown",
      "metadata": {
        "id": "S7DuxqV5QXFR"
      },
      "source": [
        "### ROC кривая\n",
        "\n",
        "ROC кривая измеряет насколько хорошо классификатор разделяет два класса.\n",
        "\n",
        "Пусть $y_{\\rm i}$ - истинная метрка и $\\hat{y}_{\\rm i}$ - прогноз вероятности для $i^{\\rm th}$ объекта.\n",
        "\n",
        "Число положительных и отрицательных объектов: $\\mathcal{I}_{\\rm 1} = \\{i: y_{\\rm i}=1\\}$ and $\\mathcal{I}_{\\rm 0} = \\{i: y_{\\rm i}=0\\}$.\n",
        "\n",
        "Для каждого порогового значения вероятности $\\tau$ считаем True Positive Rate (TPR) и False Positive Rate (FPR):\n",
        "\n",
        "\\begin{equation}\n",
        "TPR(\\tau) = \\frac{1}{I_{\\rm 1}} \\sum_{i \\in \\mathcal{I}_{\\rm 1}} I[\\hat{y}_{\\rm i} \\ge \\tau] = \\frac{TP(\\tau)}{TP(\\tau) + FN(\\tau)} = \\frac{TP(\\tau)}{Pos}\n",
        "\\end{equation}\n",
        "\n",
        "\\begin{equation}\n",
        "FPR(\\tau) = \\frac{1}{I_{\\rm 0}} \\sum_{i \\in \\mathcal{I}_{\\rm 0}} I[\\hat{y}_{\\rm i} \\ge \\tau]= \\frac{FP(\\tau)}{FP(\\tau) + TN(\\tau)} = \\frac{FP(\\tau)}{Neg}\n",
        "\\end{equation}"
      ]
    },
    {
      "cell_type": "code",
      "execution_count": 25,
      "metadata": {
        "id": "UzpwaTI1QXFR"
      },
      "outputs": [],
      "source": [
        "from sklearn.metrics import roc_curve, auc\n",
        "\n",
        "fpr_knn, tpr_knn, _ = roc_curve(y_test, y_test_proba_knn)\n",
        "auc_knn = auc(fpr_knn, tpr_knn)\n",
        "\n",
        "fpr_dt, tpr_dt, _ = roc_curve(y_test, y_test_proba_dt)\n",
        "auc_dt = auc(fpr_dt, tpr_dt)\n",
        "\n",
        "fpr_logreg, tpr_logreg, _ = roc_curve(y_test, y_test_proba_logreg)\n",
        "auc_logreg = auc(fpr_logreg, tpr_logreg)"
      ]
    },
    {
      "cell_type": "code",
      "execution_count": 26,
      "metadata": {
        "colab": {
          "base_uri": "https://localhost:8080/",
          "height": 604
        },
        "id": "XfCc24yPQXFR",
        "outputId": "a0a4d725-5c44-4949-d850-1eb35db3b43e"
      },
      "outputs": [
        {
          "output_type": "display_data",
          "data": {
            "text/plain": [
              "<Figure size 900x600 with 1 Axes>"
            ],
            "image/png": "[encoded data removed]"
          },
          "metadata": {}
        },
        {
          "output_type": "stream",
          "name": "stdout",
          "text": [
            "kNN ROC AUC    : 0.5706075452284194\n",
            "LogReg ROC AUC : 0.6750256054448739\n",
            "DT ROC AUC     : 0.5551942473887166\n"
          ]
        }
      ],
      "source": [
        "plt.figure(figsize=(9, 6))\n",
        "plt.plot(fpr_knn, tpr_knn, linewidth=3, label='kNN')\n",
        "plt.plot(fpr_logreg, tpr_logreg, linewidth=3, label='LogReg')\n",
        "plt.plot(fpr_dt, tpr_dt, linewidth=3, label='DT')\n",
        "\n",
        "plt.plot([0, 1], [0, 1], linestyle='--')\n",
        "\n",
        "plt.xlabel('FPR', size=18)\n",
        "plt.ylabel('TPR', size=18)\n",
        "\n",
        "plt.legend(loc='best', fontsize=14)\n",
        "plt.grid()\n",
        "plt.show()\n",
        "\n",
        "print('kNN ROC AUC    :', auc_knn)\n",
        "print('LogReg ROC AUC :', auc_logreg)\n",
        "print('DT ROC AUC     :', auc_dt)"
      ]
    },
    {
      "cell_type": "markdown",
      "metadata": {
        "id": "KeNHR7-GQXFV"
      },
      "source": [
        "### Precision-Recall curve\n",
        "\n",
        "Аналогично ROC кривой."
      ]
    },
    {
      "cell_type": "code",
      "execution_count": 27,
      "metadata": {
        "id": "EPaNmoClQXFV"
      },
      "outputs": [],
      "source": [
        "from sklearn.metrics import precision_recall_curve, average_precision_score\n",
        "\n",
        "precision_knn, recall_knn, _ = precision_recall_curve(y_test, y_test_proba_knn)\n",
        "ap_knn = average_precision_score(y_test, y_test_proba_knn)\n",
        "\n",
        "precision_logreg, recall_logreg, _ = precision_recall_curve(y_test, y_test_proba_logreg)\n",
        "ap_logreg = average_precision_score(y_test, y_test_proba_logreg)\n",
        "\n",
        "precision_dt, recall_dt, _ = precision_recall_curve(y_test, y_test_proba_dt)\n",
        "ap_dt = average_precision_score(y_test, y_test_proba_dt)"
      ]
    },
    {
      "cell_type": "code",
      "execution_count": 28,
      "metadata": {
        "colab": {
          "base_uri": "https://localhost:8080/",
          "height": 604
        },
        "id": "EjB11ok_QXFV",
        "outputId": "acda15cb-7b22-470f-cc79-f2cf9d046c9b"
      },
      "outputs": [
        {
          "output_type": "display_data",
          "data": {
            "text/plain": [
              "<Figure size 900x600 with 1 Axes>"
            ],
            "image/png": "[encoded data removed]"
          },
          "metadata": {}
        },
        {
          "output_type": "stream",
          "name": "stdout",
          "text": [
            "kNN AP    : 0.13999759412272134\n",
            "DT AP     : 0.13834864771131963\n",
            "LogReg AP : 0.21044078479951897\n"
          ]
        }
      ],
      "source": [
        "plt.figure(figsize=(9, 6))\n",
        "plt.plot(recall_knn, precision_knn, linewidth=3, label='kNN')\n",
        "plt.plot(recall_logreg, precision_logreg, linewidth=3, label='LogReg')\n",
        "plt.plot(recall_dt, precision_dt, linewidth=3, label='DT')\n",
        "\n",
        "\n",
        "\n",
        "plt.xlabel('Recall', size=18)\n",
        "plt.ylabel('Precision', size=18)\n",
        "\n",
        "plt.legend(loc='best', fontsize=14)\n",
        "plt.grid()\n",
        "plt.show()\n",
        "\n",
        "print('kNN AP    :', ap_knn)\n",
        "print('DT AP     :', ap_dt)\n",
        "print('LogReg AP :', ap_logreg)"
      ]
    },
    {
      "cell_type": "markdown",
      "metadata": {
        "id": "LB3rbh4UQXFV"
      },
      "source": [
        "**Вопросы**:\n",
        "* Какой классификатор лучше?\n",
        "* Как можно улучшить качество моделей?"
      ]
    },
    {
      "cell_type": "markdown",
      "metadata": {
        "id": "PqTGxx7LQXFV"
      },
      "source": [
        "---"
      ]
    },
    {
      "cell_type": "markdown",
      "metadata": {
        "id": "pRV-oQoJQXFV"
      },
      "source": [
        "# Дополнительно: метрики качества для регрессии"
      ]
    },
    {
      "cell_type": "markdown",
      "metadata": {
        "id": "r1q-NDIvQXFV"
      },
      "source": [
        "## Генерируем данные"
      ]
    },
    {
      "cell_type": "code",
      "execution_count": 29,
      "metadata": {
        "id": "038me7iWQXFW"
      },
      "outputs": [],
      "source": [
        "X = np.linspace(0, 6, 200)[:, np.newaxis]\n",
        "y = np.sin(X).ravel() + np.sin(6 * X).ravel() + np.random.RandomState(1).normal(0, 0.1, X.shape[0]) + 3"
      ]
    },
    {
      "cell_type": "code",
      "execution_count": 30,
      "metadata": {
        "colab": {
          "base_uri": "https://localhost:8080/"
        },
        "id": "qSEulAuvQXFW",
        "outputId": "6f1b991c-441c-4053-dcc2-47caf45d7f28"
      },
      "outputs": [
        {
          "output_type": "execute_result",
          "data": {
            "text/plain": [
              "array([[0.        ],\n",
              "       [0.03015075],\n",
              "       [0.06030151],\n",
              "       [0.09045226],\n",
              "       [0.12060302]])"
            ]
          },
          "metadata": {},
          "execution_count": 30
        }
      ],
      "source": [
        "X[:5]"
      ]
    },
    {
      "cell_type": "code",
      "execution_count": 31,
      "metadata": {
        "colab": {
          "base_uri": "https://localhost:8080/"
        },
        "id": "Q2ohwLadQXFW",
        "outputId": "519968b4-e4b1-47f8-9c07-e264c7ec43f2"
      },
      "outputs": [
        {
          "output_type": "execute_result",
          "data": {
            "text/plain": [
              "array([3.16243454, 3.14888995, 3.36141453, 3.49949366, 3.86895208])"
            ]
          },
          "metadata": {},
          "execution_count": 31
        }
      ],
      "source": [
        "y[:5]"
      ]
    },
    {
      "cell_type": "code",
      "execution_count": 32,
      "metadata": {
        "colab": {
          "base_uri": "https://localhost:8080/",
          "height": 552
        },
        "id": "PCl2TPNEQXFW",
        "outputId": "4591a87b-ab9f-48f3-c0d0-d4d717d6da9a"
      },
      "outputs": [
        {
          "output_type": "display_data",
          "data": {
            "text/plain": [
              "<Figure size 900x600 with 1 Axes>"
            ],
            "image/png": "[encoded data removed]"
          },
          "metadata": {}
        }
      ],
      "source": [
        "plt.figure(figsize=(9, 6))\n",
        "plt.scatter(X[:, 0], y)\n",
        "\n",
        "plt.xlabel('X', size=18)\n",
        "plt.ylabel('y', size=18)\n",
        "plt.grid()\n",
        "plt.show()"
      ]
    },
    {
      "cell_type": "code",
      "execution_count": 33,
      "metadata": {
        "id": "3REBpPEcQXFW"
      },
      "outputs": [],
      "source": [
        "from sklearn.model_selection import train_test_split\n",
        "\n",
        "X_train, X_test, y_train, y_test = train_test_split(X, y, test_size=0.5, random_state=42)"
      ]
    },
    {
      "cell_type": "markdown",
      "metadata": {
        "id": "fHdebEIMQXFW"
      },
      "source": [
        "## Обучаем регрессоры\n",
        "\n",
        "Будем использовать три модели:\n",
        "* kNN\n",
        "* Линейная регрессия\n",
        "* Древо решений (данная модель подходит и для регрессии)\n",
        "\n",
        "\n",
        "Мы будем использовать scikit-learn реализацию этих регрессоров. Их описания: [kNN](https://scikit-learn.org/stable/modules/generated/sklearn.neighbors.KNeighborsRegressor.html), [Decision Tree](https://scikit-learn.org/stable/modules/generated/sklearn.tree.DecisionTreeRegressor.html), [Logistic Regression](https://scikit-learn.org/stable/modules/generated/sklearn.linear_model.LinearRegression.html).\n",
        "\n"
      ]
    },
    {
      "cell_type": "code",
      "execution_count": 34,
      "metadata": {
        "id": "mTstLnGqQXFW"
      },
      "outputs": [],
      "source": [
        "from sklearn.neighbors import KNeighborsRegressor\n",
        "from sklearn.linear_model import LinearRegression\n",
        "from sklearn.tree import DecisionTreeRegressor\n",
        "\n",
        "\n",
        "knn_reg = KNeighborsRegressor(n_neighbors=10).fit(X_train, y_train)\n",
        "\n",
        "linreg = LinearRegression().fit(X_train, y_train)\n",
        "\n",
        "dt_reg = DecisionTreeRegressor(criterion='squared_error', splitter='best', max_depth=4,\n",
        "                            min_samples_split=2, min_samples_leaf=1).fit(X_train, y_train)\n"
      ]
    },
    {
      "cell_type": "markdown",
      "metadata": {
        "id": "ehwCHvNwQXFX"
      },
      "source": [
        "## Прогнозы"
      ]
    },
    {
      "cell_type": "code",
      "execution_count": 35,
      "metadata": {
        "id": "02qgU8j8QXFX"
      },
      "outputs": [],
      "source": [
        "# kNN\n",
        "y_test_knn_reg = knn_reg.predict(X_test)\n",
        "\n",
        "# LinReg\n",
        "y_test_linreg = linreg.predict(X_test)\n",
        "\n",
        "# DT\n",
        "y_test_dt_reg = dt_reg.predict(X_test)"
      ]
    },
    {
      "cell_type": "code",
      "execution_count": 36,
      "metadata": {
        "colab": {
          "base_uri": "https://localhost:8080/",
          "height": 496
        },
        "id": "AspmdYpbQXFX",
        "outputId": "adac8c9d-aa5c-45af-fb26-e34b2f1b244d"
      },
      "outputs": [
        {
          "output_type": "display_data",
          "data": {
            "text/plain": [
              "<Figure size 1500x600 with 1 Axes>"
            ],
            "image/png": "[encoded data removed]"
          },
          "metadata": {}
        }
      ],
      "source": [
        "plt.figure(figsize=(15, 6))\n",
        "plt.scatter(X_test[:, 0], y_test, color='0', label='Truth')\n",
        "\n",
        "sortd_inds = np.argsort(X_test[:, 0])\n",
        "plt.plot(X_test[sortd_inds, 0], y_test_knn_reg[sortd_inds], linewidth=3, label='kNN')\n",
        "plt.plot(X_test[sortd_inds, 0], y_test_linreg[sortd_inds], linewidth=3, label='LinReg')\n",
        "plt.plot(X_test[sortd_inds, 0], y_test_dt_reg[sortd_inds], linewidth=3,label='DT')\n",
        "\n",
        "\n",
        "plt.xlabel('X', size=18)\n",
        "plt.ylabel('y', size=18)\n",
        "plt.legend(loc='best', fontsize=14)\n",
        "plt.grid()\n",
        "plt.show()"
      ]
    },
    {
      "cell_type": "markdown",
      "metadata": {
        "id": "jIdxop9HQXFX"
      },
      "source": [
        "**Вопросы**:\n",
        "* Как вы можете объяснить поведение регрессоров?\n",
        "* Что будет, если изменить их гиперпараметры?"
      ]
    },
    {
      "cell_type": "markdown",
      "metadata": {
        "id": "ftmTjUWwQXFX"
      },
      "source": [
        "## Метрики качества"
      ]
    },
    {
      "cell_type": "markdown",
      "metadata": {
        "id": "-fiSWUFzQXFX"
      },
      "source": [
        "**1. (R)MSE ((Root) Mean Squared Error)**\n",
        "\n",
        "$$ L(\\hat{y}, y) = \\frac{1}{N}\\sum\\limits_{n=1}^N (y_n - \\hat{y}_n)^2$$\n",
        "\n",
        "**2. MAE (Mean Absolute Error)**\n",
        "\n",
        "$$ L(\\hat{y}, y) = \\frac{1}{N}\\sum\\limits_{n=1}^N |y_n - \\hat{y}_n|$$\n",
        "\n",
        "**3. RSE (Relative Squared Error)**\n",
        "\n",
        "$$ L(\\hat{y}, y) = \\sqrt\\frac{\\sum\\limits_{n=1}^N (y_n - \\hat{y}_n)^2}{\\sum\\limits_{n=1}^N (y_n - \\bar{y})^2}$$\n",
        "\n",
        "**4. RAE (Relative Absolute Error)**\n",
        "\n",
        "$$ L(\\hat{y}, y) = \\frac{\\sum\\limits_{n=1}^N |y_n - \\hat{y}_n|}{\\sum\\limits_{n=1}^N |y_n - \\bar{y}|}$$\n",
        "\n",
        "**5. MAPE (Mean Absolute Persentage Error)**\n",
        "\n",
        "$$ L(\\hat{y}, y) = \\frac{100}{N} \\sum\\limits_{n=1}^N\\left|\\frac{ y_n - \\hat{y}_n}{y_n}\\right|$$\n",
        "\n",
        "\n",
        "**6. RMSLE (Root Mean Squared Logarithmic Error)**\n",
        "\n",
        "$$ L(\\hat{y}, y) = \\sqrt{\\frac{1}{N}\\sum\\limits_{n=1}^N(\\log(y_n + 1) - \\log(\\hat{y}_n + 1))^2}$$"
      ]
    },
    {
      "cell_type": "code",
      "execution_count": 37,
      "metadata": {
        "id": "LphAOilFQXFY"
      },
      "outputs": [],
      "source": [
        "from sklearn.metrics import mean_squared_error, mean_absolute_error, mean_squared_log_error, r2_score\n",
        "\n",
        "def regression_quality_metrics_report(y_true, y_pred):\n",
        "\n",
        "    rmse = np.sqrt( mean_squared_error(y_true, y_pred) )\n",
        "    mae = mean_absolute_error(y_true, y_pred)\n",
        "    rse = np.sqrt( ( (y_true - y_pred)**2 ).sum() / ( (y_true - y_true.mean())**2 ).sum() )\n",
        "    rae = np.abs( y_true - y_pred ).sum() / np.abs( y_true - y_true.mean() ).sum()\n",
        "    mape = 100. / len(y_true) * np.abs( 1. - y_pred/y_true ).sum()\n",
        "    rmsle = np.sqrt( mean_squared_log_error(y_true, y_pred) )\n",
        "\n",
        "    return [rmse, mae, rse, rae, mape, rmsle]"
      ]
    },
    {
      "cell_type": "code",
      "execution_count": 38,
      "metadata": {
        "colab": {
          "base_uri": "https://localhost:8080/",
          "height": 143
        },
        "id": "hs4YcdukQXFY",
        "outputId": "3896fd78-03f5-41f4-d779-1162bfb2120f"
      },
      "outputs": [
        {
          "output_type": "execute_result",
          "data": {
            "text/plain": [
              "            RMSE       MAE       RSE       RAE       MAPE     RMSLE\n",
              "kNN     0.419685  0.355651  0.407936  0.420862  15.254016  0.120888\n",
              "LinReg   0.80769  0.685106  0.785079  0.810726  29.634749  0.223014\n",
              "DT       0.42662  0.326301  0.414677  0.386131  11.914812  0.112371"
            ],
            "text/html": [
              "\n",
              "  <div id=\"df-1b0fd984-76cb-4ff8-b8b9-f27c50c6dc72\" class=\"colab-df-container\">\n",
              "    <div>\n",
              "<style scoped>\n",
              "    .dataframe tbody tr th:only-of-type {\n",
              "        vertical-align: middle;\n",
              "    }\n",
              "\n",
              "    .dataframe tbody tr th {\n",
              "        vertical-align: top;\n",
              "    }\n",
              "\n",
              "    .dataframe thead th {\n",
              "        text-align: right;\n",
              "    }\n",
              "</style>\n",
              "<table border=\"1\" class=\"dataframe\">\n",
              "  <thead>\n",
              "    <tr style=\"text-align: right;\">\n",
              "      <th></th>\n",
              "      <th>RMSE</th>\n",
              "      <th>MAE</th>\n",
              "      <th>RSE</th>\n",
              "      <th>RAE</th>\n",
              "      <th>MAPE</th>\n",
              "      <th>RMSLE</th>\n",
              "    </tr>\n",
              "  </thead>\n",
              "  <tbody>\n",
              "    <tr>\n",
              "      <th>kNN</th>\n",
              "      <td>0.419685</td>\n",
              "      <td>0.355651</td>\n",
              "      <td>0.407936</td>\n",
              "      <td>0.420862</td>\n",
              "      <td>15.254016</td>\n",
              "      <td>0.120888</td>\n",
              "    </tr>\n",
              "    <tr>\n",
              "      <th>LinReg</th>\n",
              "      <td>0.80769</td>\n",
              "      <td>0.685106</td>\n",
              "      <td>0.785079</td>\n",
              "      <td>0.810726</td>\n",
              "      <td>29.634749</td>\n",
              "      <td>0.223014</td>\n",
              "    </tr>\n",
              "    <tr>\n",
              "      <th>DT</th>\n",
              "      <td>0.42662</td>\n",
              "      <td>0.326301</td>\n",
              "      <td>0.414677</td>\n",
              "      <td>0.386131</td>\n",
              "      <td>11.914812</td>\n",
              "      <td>0.112371</td>\n",
              "    </tr>\n",
              "  </tbody>\n",
              "</table>\n",
              "</div>\n",
              "    <div class=\"colab-df-buttons\">\n",
              "\n",
              "  <div class=\"colab-df-container\">\n",
              "    <button class=\"colab-df-convert\" onclick=\"convertToInteractive('df-1b0fd984-76cb-4ff8-b8b9-f27c50c6dc72')\"\n",
              "            title=\"Convert this dataframe to an interactive table.\"\n",
              "            style=\"display:none;\">\n",
              "\n",
              "  <svg xmlns=\"http://www.w3.org/2000/svg\" height=\"24px\" viewBox=\"0 -960 960 960\">\n",
              "    <path d=\"M120-120v-720h720v720H120Zm60-500h600v-160H180v160Zm220 220h160v-160H400v160Zm0 220h160v-160H400v160ZM180-400h160v-160H180v160Zm440 0h160v-160H620v160ZM180-180h160v-160H180v160Zm440 0h160v-160H620v160Z\"/>\n",
              "  </svg>\n",
              "    </button>\n",
              "\n",
              "  <style>\n",
              "    .colab-df-container {\n",
              "      display:flex;\n",
              "      gap: 12px;\n",
              "    }\n",
              "\n",
              "    .colab-df-convert {\n",
              "      background-color: #E8F0FE;\n",
              "      border: none;\n",
              "      border-radius: 50%;\n",
              "      cursor: pointer;\n",
              "      display: none;\n",
              "      fill: #1967D2;\n",
              "      height: 32px;\n",
              "      padding: 0 0 0 0;\n",
              "      width: 32px;\n",
              "    }\n",
              "\n",
              "    .colab-df-convert:hover {\n",
              "      background-color: #E2EBFA;\n",
              "      box-shadow: 0px 1px 2px rgba(60, 64, 67, 0.3), 0px 1px 3px 1px rgba(60, 64, 67, 0.15);\n",
              "      fill: #174EA6;\n",
              "    }\n",
              "\n",
              "    .colab-df-buttons div {\n",
              "      margin-bottom: 4px;\n",
              "    }\n",
              "\n",
              "    [theme=dark] .colab-df-convert {\n",
              "      background-color: #3B4455;\n",
              "      fill: #D2E3FC;\n",
              "    }\n",
              "\n",
              "    [theme=dark] .colab-df-convert:hover {\n",
              "      background-color: #434B5C;\n",
              "      box-shadow: 0px 1px 3px 1px rgba(0, 0, 0, 0.15);\n",
              "      filter: drop-shadow(0px 1px 2px rgba(0, 0, 0, 0.3));\n",
              "      fill: #FFFFFF;\n",
              "    }\n",
              "  </style>\n",
              "\n",
              "    <script>\n",
              "      const buttonEl =\n",
              "        document.querySelector('#df-1b0fd984-76cb-4ff8-b8b9-f27c50c6dc72 button.colab-df-convert');\n",
              "      buttonEl.style.display =\n",
              "        google.colab.kernel.accessAllowed ? 'block' : 'none';\n",
              "\n",
              "      async function convertToInteractive(key) {\n",
              "        const element = document.querySelector('#df-1b0fd984-76cb-4ff8-b8b9-f27c50c6dc72');\n",
              "        const dataTable =\n",
              "          await google.colab.kernel.invokeFunction('convertToInteractive',\n",
              "                                                    [key], {});\n",
              "        if (!dataTable) return;\n",
              "\n",
              "        const docLinkHtml = 'Like what you see? Visit the ' +\n",
              "          '<a target=\"_blank\" href=https://colab.research.google.com/notebooks/data_table.ipynb>data table notebook</a>'\n",
              "          + ' to learn more about interactive tables.';\n",
              "        element.innerHTML = '';\n",
              "        dataTable['output_type'] = 'display_data';\n",
              "        await google.colab.output.renderOutput(dataTable, element);\n",
              "        const docLink = document.createElement('div');\n",
              "        docLink.innerHTML = docLinkHtml;\n",
              "        element.appendChild(docLink);\n",
              "      }\n",
              "    </script>\n",
              "  </div>\n",
              "\n",
              "\n",
              "<div id=\"df-3380d188-437f-4767-b024-44213a9a6731\">\n",
              "  <button class=\"colab-df-quickchart\" onclick=\"quickchart('df-3380d188-437f-4767-b024-44213a9a6731')\"\n",
              "            title=\"Suggest charts\"\n",
              "            style=\"display:none;\">\n",
              "\n",
              "<svg xmlns=\"http://www.w3.org/2000/svg\" height=\"24px\"viewBox=\"0 0 24 24\"\n",
              "     width=\"24px\">\n",
              "    <g>\n",
              "        <path d=\"M19 3H5c-1.1 0-2 .9-2 2v14c0 1.1.9 2 2 2h14c1.1 0 2-.9 2-2V5c0-1.1-.9-2-2-2zM9 17H7v-7h2v7zm4 0h-2V7h2v10zm4 0h-2v-4h2v4z\"/>\n",
              "    </g>\n",
              "</svg>\n",
              "  </button>\n",
              "\n",
              "<style>\n",
              "  .colab-df-quickchart {\n",
              "      --bg-color: #E8F0FE;\n",
              "      --fill-color: #1967D2;\n",
              "      --hover-bg-color: #E2EBFA;\n",
              "      --hover-fill-color: #174EA6;\n",
              "      --disabled-fill-color: #AAA;\n",
              "      --disabled-bg-color: #DDD;\n",
              "  }\n",
              "\n",
              "  [theme=dark] .colab-df-quickchart {\n",
              "      --bg-color: #3B4455;\n",
              "      --fill-color: #D2E3FC;\n",
              "      --hover-bg-color: #434B5C;\n",
              "      --hover-fill-color: #FFFFFF;\n",
              "      --disabled-bg-color: #3B4455;\n",
              "      --disabled-fill-color: #666;\n",
              "  }\n",
              "\n",
              "  .colab-df-quickchart {\n",
              "    background-color: var(--bg-color);\n",
              "    border: none;\n",
              "    border-radius: 50%;\n",
              "    cursor: pointer;\n",
              "    display: none;\n",
              "    fill: var(--fill-color);\n",
              "    height: 32px;\n",
              "    padding: 0;\n",
              "    width: 32px;\n",
              "  }\n",
              "\n",
              "  .colab-df-quickchart:hover {\n",
              "    background-color: var(--hover-bg-color);\n",
              "    box-shadow: 0 1px 2px rgba(60, 64, 67, 0.3), 0 1px 3px 1px rgba(60, 64, 67, 0.15);\n",
              "    fill: var(--button-hover-fill-color);\n",
              "  }\n",
              "\n",
              "  .colab-df-quickchart-complete:disabled,\n",
              "  .colab-df-quickchart-complete:disabled:hover {\n",
              "    background-color: var(--disabled-bg-color);\n",
              "    fill: var(--disabled-fill-color);\n",
              "    box-shadow: none;\n",
              "  }\n",
              "\n",
              "  .colab-df-spinner {\n",
              "    border: 2px solid var(--fill-color);\n",
              "    border-color: transparent;\n",
              "    border-bottom-color: var(--fill-color);\n",
              "    animation:\n",
              "      spin 1s steps(1) infinite;\n",
              "  }\n",
              "\n",
              "  @keyframes spin {\n",
              "    0% {\n",
              "      border-color: transparent;\n",
              "      border-bottom-color: var(--fill-color);\n",
              "      border-left-color: var(--fill-color);\n",
              "    }\n",
              "    20% {\n",
              "      border-color: transparent;\n",
              "      border-left-color: var(--fill-color);\n",
              "      border-top-color: var(--fill-color);\n",
              "    }\n",
              "    30% {\n",
              "      border-color: transparent;\n",
              "      border-left-color: var(--fill-color);\n",
              "      border-top-color: var(--fill-color);\n",
              "      border-right-color: var(--fill-color);\n",
              "    }\n",
              "    40% {\n",
              "      border-color: transparent;\n",
              "      border-right-color: var(--fill-color);\n",
              "      border-top-color: var(--fill-color);\n",
              "    }\n",
              "    60% {\n",
              "      border-color: transparent;\n",
              "      border-right-color: var(--fill-color);\n",
              "    }\n",
              "    80% {\n",
              "      border-color: transparent;\n",
              "      border-right-color: var(--fill-color);\n",
              "      border-bottom-color: var(--fill-color);\n",
              "    }\n",
              "    90% {\n",
              "      border-color: transparent;\n",
              "      border-bottom-color: var(--fill-color);\n",
              "    }\n",
              "  }\n",
              "</style>\n",
              "\n",
              "  <script>\n",
              "    async function quickchart(key) {\n",
              "      const quickchartButtonEl =\n",
              "        document.querySelector('#' + key + ' button');\n",
              "      quickchartButtonEl.disabled = true;  // To prevent multiple clicks.\n",
              "      quickchartButtonEl.classList.add('colab-df-spinner');\n",
              "      try {\n",
              "        const charts = await google.colab.kernel.invokeFunction(\n",
              "            'suggestCharts', [key], {});\n",
              "      } catch (error) {\n",
              "        console.error('Error during call to suggestCharts:', error);\n",
              "      }\n",
              "      quickchartButtonEl.classList.remove('colab-df-spinner');\n",
              "      quickchartButtonEl.classList.add('colab-df-quickchart-complete');\n",
              "    }\n",
              "    (() => {\n",
              "      let quickchartButtonEl =\n",
              "        document.querySelector('#df-3380d188-437f-4767-b024-44213a9a6731 button');\n",
              "      quickchartButtonEl.style.display =\n",
              "        google.colab.kernel.accessAllowed ? 'block' : 'none';\n",
              "    })();\n",
              "  </script>\n",
              "</div>\n",
              "    </div>\n",
              "  </div>\n"
            ],
            "application/vnd.google.colaboratory.intrinsic+json": {
              "type": "dataframe",
              "variable_name": "metrics_report",
              "summary": "{\n  \"name\": \"metrics_report\",\n  \"rows\": 3,\n  \"fields\": [\n    {\n      \"column\": \"RMSE\",\n      \"properties\": {\n        \"dtype\": \"date\",\n        \"min\": 0.4196852114012421,\n        \"max\": 0.8076899021597924,\n        \"num_unique_values\": 3,\n        \"samples\": [\n          0.4196852114012421,\n          0.8076899021597924,\n          0.42661980082239565\n        ],\n        \"semantic_type\": \"\",\n        \"description\": \"\"\n      }\n    },\n    {\n      \"column\": \"MAE\",\n      \"properties\": {\n        \"dtype\": \"date\",\n        \"min\": 0.3263007079378177,\n        \"max\": 0.6851055642060057,\n        \"num_unique_values\": 3,\n        \"samples\": [\n          0.3556505918176435,\n          0.6851055642060057,\n          0.3263007079378177\n        ],\n        \"semantic_type\": \"\",\n        \"description\": \"\"\n      }\n    },\n    {\n      \"column\": \"RSE\",\n      \"properties\": {\n        \"dtype\": \"date\",\n        \"min\": 0.4079360998928598,\n        \"max\": 0.785078577131241,\n        \"num_unique_values\": 3,\n        \"samples\": [\n          0.4079360998928598,\n          0.785078577131241,\n          0.4146765550863575\n        ],\n        \"semantic_type\": \"\",\n        \"description\": \"\"\n      }\n    },\n    {\n      \"column\": \"RAE\",\n      \"properties\": {\n        \"dtype\": \"date\",\n        \"min\": 0.38613088042053595,\n        \"max\": 0.8107258374023688,\n        \"num_unique_values\": 3,\n        \"samples\": [\n          0.42086232974646676,\n          0.8107258374023688,\n          0.38613088042053595\n        ],\n        \"semantic_type\": \"\",\n        \"description\": \"\"\n      }\n    },\n    {\n      \"column\": \"MAPE\",\n      \"properties\": {\n        \"dtype\": \"date\",\n        \"min\": 11.914812337846351,\n        \"max\": 29.634749024687267,\n        \"num_unique_values\": 3,\n        \"samples\": [\n          15.25401606916973,\n          29.634749024687267,\n          11.914812337846351\n        ],\n        \"semantic_type\": \"\",\n        \"description\": \"\"\n      }\n    },\n    {\n      \"column\": \"RMSLE\",\n      \"properties\": {\n        \"dtype\": \"date\",\n        \"min\": 0.11237137470622646,\n        \"max\": 0.22301402015722577,\n        \"num_unique_values\": 3,\n        \"samples\": [\n          0.12088820707298521,\n          0.22301402015722577,\n          0.11237137470622646\n        ],\n        \"semantic_type\": \"\",\n        \"description\": \"\"\n      }\n    }\n  ]\n}"
            }
          },
          "metadata": {},
          "execution_count": 38
        }
      ],
      "source": [
        "metrics_report = pd.DataFrame(columns=['RMSE', 'MAE', 'RSE', 'RAE', 'MAPE', 'RMSLE'])\n",
        "\n",
        "metrics_report.loc['kNN', :] = regression_quality_metrics_report(y_test, y_test_knn_reg)\n",
        "metrics_report.loc['LinReg', :] = regression_quality_metrics_report(y_test, y_test_linreg)\n",
        "metrics_report.loc['DT', :] = regression_quality_metrics_report(y_test, y_test_dt_reg)\n",
        "\n",
        "metrics_report"
      ]
    },
    {
      "cell_type": "markdown",
      "metadata": {
        "id": "qIo8GFLBQXFY"
      },
      "source": [
        "**Вопросы**:\n",
        "* Какой регрессор лучше?\n",
        "* Как вы можете улучшить качество моделей?"
      ]
    }
  ],
  "metadata": {
    "kernelspec": {
      "display_name": "pyoadfe",
      "language": "python",
      "name": "pyoadfe"
    },
    "language_info": {
      "codemirror_mode": {
        "name": "ipython",
        "version": 3
      },
      "file_extension": ".py",
      "mimetype": "text/x-python",
      "name": "python",
      "nbconvert_exporter": "python",
      "pygments_lexer": "ipython3",
      "version": "3.10.10"
    },
    "colab": {
      "provenance": [],
      "toc_visible": true
    }
  },
  "nbformat": 4,
  "nbformat_minor": 0
}