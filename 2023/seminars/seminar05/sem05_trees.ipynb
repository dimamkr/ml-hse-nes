{
 "cells": [
  {
   "cell_type": "markdown",
   "metadata": {
    "id": "D7BeHe7Hk_SQ"
   },
   "source": [
    "# Семинар 6. Решающие деревья"
   ]
  },
  {
   "cell_type": "markdown",
   "metadata": {
    "id": "MzexosCsk_ST"
   },
   "source": [
    "![](https://i0.wp.com/docs.microsoft.com/en-us/azure/machine-learning/studio/media/algorithm-choice/image5.png?resize=495%2C706&ssl=1)"
   ]
  },
  {
   "cell_type": "markdown",
   "metadata": {
    "id": "3Jzd2sXfk_SU"
   },
   "source": [
    "*Source: https://www.upnxtblog.com/index.php/2017/12/06/17-machine-learning-algorithms-that-you-should-know/*"
   ]
  },
  {
   "cell_type": "markdown",
   "metadata": {
    "id": "OzAr2Oejk_SV"
   },
   "source": [
    "Сами по себе решающие деревья используются в машинном обучении относительно редко, однако очень распространены методы, основанные на их композиции - ансамблях (Random Forest, XGBoost, LightGBM, CatBoost)."
   ]
  },
  {
   "cell_type": "markdown",
   "metadata": {
    "id": "wJx5iz1qk_SW"
   },
   "source": [
    "## Линейные модели или решающие деревья?\n",
    "\n",
    "Можно ли сказать, что какой-то из этих двух типов моделей всегда лучше? Нет. В зависимости от пространственной структуры данных, один из них будет работать лучше:\n",
    "\n",
    "- Линейная модель, если данные хорошо линейно разделимы\n",
    "\n",
    "- Решающие деревья, если данные плохо линейно разделимы (присутствуют только кусочно-линейные или нелинейные зависимости)"
   ]
  },
  {
   "cell_type": "code",
   "execution_count": null,
   "metadata": {
    "executionInfo": {
     "elapsed": 5,
     "status": "ok",
     "timestamp": 1696270542889,
     "user": {
      "displayName": "Sergey Korpachev",
      "userId": "09181340988160569540"
     },
     "user_tz": -180
    },
    "id": "aCZjbfGWk_SW"
   },
   "outputs": [],
   "source": [
    "import matplotlib.pyplot as plt\n",
    "import numpy as np\n",
    "\n",
    "from sklearn.linear_model import LogisticRegression\n",
    "from sklearn.metrics import accuracy_score\n",
    "from sklearn.model_selection import train_test_split\n",
    "\n",
    "\n",
    "%matplotlib inline\n",
    "plt.rcParams[\"figure.figsize\"] = (11, 6.5)"
   ]
  },
  {
   "cell_type": "code",
   "execution_count": null,
   "metadata": {
    "colab": {
     "base_uri": "https://localhost:8080/",
     "height": 564
    },
    "executionInfo": {
     "elapsed": 923,
     "status": "ok",
     "timestamp": 1696253117104,
     "user": {
      "displayName": "Sergey Korpachev",
      "userId": "09181340988160569540"
     },
     "user_tz": -180
    },
    "id": "WN7VGDk6k_Sc",
    "outputId": "0b28751f-9629-4964-cb86-dde37cefe867"
   },
   "outputs": [],
   "source": [
    "np.random.seed(13)\n",
    "n = 500\n",
    "X = np.zeros(shape=(n, 2))\n",
    "X[:, 0] = np.linspace(-5, 5, 500)\n",
    "X[:, 1] = X[:, 0] + 0.5 * np.random.normal(size=n)\n",
    "y = (X[:, 1] > X[:, 0]).astype(int)\n",
    "plt.scatter(X[:, 0], X[:, 1], s=100, c=y, cmap=\"winter\")\n",
    "plt.show()"
   ]
  },
  {
   "cell_type": "code",
   "execution_count": null,
   "metadata": {
    "colab": {
     "base_uri": "https://localhost:8080/"
    },
    "executionInfo": {
     "elapsed": 562,
     "status": "ok",
     "timestamp": 1696253120205,
     "user": {
      "displayName": "Sergey Korpachev",
      "userId": "09181340988160569540"
     },
     "user_tz": -180
    },
    "id": "TcrZmoKDk_Si",
    "outputId": "fcb2ff52-3bf7-4d75-b977-57d9c7883ed1"
   },
   "outputs": [],
   "source": [
    "X_train, X_test, y_train, y_test = train_test_split(X, y, test_size=0.25, random_state=13)\n",
    "\n",
    "lr = LogisticRegression(random_state=13)\n",
    "lr.fit(X_train, y_train)\n",
    "y_pred_lr = lr.predict(X_test)\n",
    "\n",
    "print(f\"Linear model accuracy: {accuracy_score(y_pred_lr, y_test):.2f}\")"
   ]
  },
  {
   "cell_type": "code",
   "execution_count": null,
   "metadata": {
    "colab": {
     "base_uri": "https://localhost:8080/",
     "height": 561
    },
    "executionInfo": {
     "elapsed": 2056,
     "status": "ok",
     "timestamp": 1696253122256,
     "user": {
      "displayName": "Sergey Korpachev",
      "userId": "09181340988160569540"
     },
     "user_tz": -180
    },
    "id": "5D8ZebbVk_Sp",
    "outputId": "b21e8797-2e9b-4098-9700-ecee150c8c3a"
   },
   "outputs": [],
   "source": [
    "# !pip install mlxtend\n",
    "from mlxtend.plotting import plot_decision_regions\n",
    "plot_decision_regions(X_test, y_test, lr)\n",
    "plt.show()"
   ]
  },
  {
   "cell_type": "code",
   "execution_count": null,
   "metadata": {
    "colab": {
     "base_uri": "https://localhost:8080/",
     "height": 578
    },
    "executionInfo": {
     "elapsed": 946,
     "status": "ok",
     "timestamp": 1696253123187,
     "user": {
      "displayName": "Sergey Korpachev",
      "userId": "09181340988160569540"
     },
     "user_tz": -180
    },
    "id": "6kXwTDCgk_Sr",
    "outputId": "c49f042a-a9dc-4054-bb1a-e51f4d3c4f82"
   },
   "outputs": [],
   "source": [
    "from sklearn.tree import DecisionTreeClassifier\n",
    "\n",
    "dt = DecisionTreeClassifier(random_state=13)\n",
    "dt.fit(X_train, y_train)\n",
    "y_pred_dt = dt.predict(X_test)\n",
    "\n",
    "print(f\"Decision tree accuracy: {accuracy_score(y_pred_dt, y_test):.2f}\")\n",
    "\n",
    "plot_decision_regions(X_test, y_test, dt)\n",
    "plt.show()"
   ]
  },
  {
   "cell_type": "code",
   "execution_count": null,
   "metadata": {
    "colab": {
     "base_uri": "https://localhost:8080/",
     "height": 578
    },
    "executionInfo": {
     "elapsed": 8417,
     "status": "ok",
     "timestamp": 1696253131596,
     "user": {
      "displayName": "Sergey Korpachev",
      "userId": "09181340988160569540"
     },
     "user_tz": -180
    },
    "id": "huUrqBbXW3eC",
    "outputId": "d9403538-5783-41ea-f609-7fd3cb60f7c4"
   },
   "outputs": [],
   "source": [
    "#!pip install catboost\n",
    "from catboost import CatBoostClassifier\n",
    "\n",
    "dt = CatBoostClassifier(random_state=13, verbose=False)\n",
    "dt.fit(X_train, y_train)\n",
    "y_pred_dt = dt.predict(X_test)\n",
    "print(f\"Catboost accuracy: {accuracy_score(y_pred_dt, y_test):.2f}\")\n",
    "\n",
    "plot_decision_regions(X_test, y_test, dt)\n",
    "plt.show()"
   ]
  },
  {
   "cell_type": "code",
   "execution_count": null,
   "metadata": {
    "colab": {
     "base_uri": "https://localhost:8080/",
     "height": 561
    },
    "executionInfo": {
     "elapsed": 519,
     "status": "ok",
     "timestamp": 1696253132109,
     "user": {
      "displayName": "Sergey Korpachev",
      "userId": "09181340988160569540"
     },
     "user_tz": -180
    },
    "id": "4_ORHFUPk_Sy",
    "outputId": "376666c8-f0d0-4724-d68a-549397b730a6"
   },
   "outputs": [],
   "source": [
    "np.random.seed(13)\n",
    "X = np.random.randn(500, 2)\n",
    "y = np.logical_xor(X[:, 0] > 0, X[:, 1] > 0).astype(int)\n",
    "plt.scatter(X[:, 0], X[:, 1], s=100, c=y, cmap=\"winter\")\n",
    "plt.show()"
   ]
  },
  {
   "cell_type": "code",
   "execution_count": null,
   "metadata": {
    "colab": {
     "base_uri": "https://localhost:8080/",
     "height": 578
    },
    "executionInfo": {
     "elapsed": 628,
     "status": "ok",
     "timestamp": 1696253132716,
     "user": {
      "displayName": "Sergey Korpachev",
      "userId": "09181340988160569540"
     },
     "user_tz": -180
    },
    "id": "emxtn3_Xk_S2",
    "outputId": "894e6671-ba68-48f3-ba99-3a560f6f6c5f"
   },
   "outputs": [],
   "source": [
    "X_train, X_test, y_train, y_test = train_test_split(X, y, test_size=0.25, random_state=13)\n",
    "\n",
    "lr = LogisticRegression(random_state=13)\n",
    "lr.fit(X_train, y_train)\n",
    "y_pred_lr = lr.predict(X_test)\n",
    "\n",
    "print(f\"Linear model accuracy: {accuracy_score(y_pred_lr, y_test):.2f}\")\n",
    "\n",
    "plot_decision_regions(X_test, y_test, lr)\n",
    "plt.show()"
   ]
  },
  {
   "cell_type": "code",
   "execution_count": null,
   "metadata": {
    "colab": {
     "base_uri": "https://localhost:8080/",
     "height": 578
    },
    "executionInfo": {
     "elapsed": 687,
     "status": "ok",
     "timestamp": 1696253133386,
     "user": {
      "displayName": "Sergey Korpachev",
      "userId": "09181340988160569540"
     },
     "user_tz": -180
    },
    "id": "ZyvCcc5-k_S7",
    "outputId": "d72229e6-a935-4a26-f927-1e6a65b6d3e8"
   },
   "outputs": [],
   "source": [
    "dt = DecisionTreeClassifier(random_state=13)\n",
    "dt.fit(X_train, y_train)\n",
    "y_pred_dt = dt.predict(X_test)\n",
    "\n",
    "print(f\"Decision tree accuracy: {accuracy_score(y_pred_dt, y_test):.2f}\")\n",
    "\n",
    "plot_decision_regions(X_test, y_test, dt)\n",
    "plt.show()"
   ]
  },
  {
   "cell_type": "code",
   "execution_count": null,
   "metadata": {
    "colab": {
     "base_uri": "https://localhost:8080/",
     "height": 578
    },
    "executionInfo": {
     "elapsed": 7030,
     "status": "ok",
     "timestamp": 1696253140404,
     "user": {
      "displayName": "Sergey Korpachev",
      "userId": "09181340988160569540"
     },
     "user_tz": -180
    },
    "id": "_ICfU57HW3eE",
    "outputId": "4cefc653-f83e-41ce-f4d8-173d2f5fd5a9"
   },
   "outputs": [],
   "source": [
    "dt = CatBoostClassifier(random_state=13, verbose=False)\n",
    "dt.fit(X_train, y_train)\n",
    "y_pred_dt = dt.predict(X_test)\n",
    "\n",
    "print(f\"Catboost accuracy: {accuracy_score(y_pred_dt, y_test):.2f}\")\n",
    "\n",
    "plot_decision_regions(X_test, y_test, dt)\n",
    "plt.show()"
   ]
  },
  {
   "cell_type": "markdown",
   "metadata": {
    "id": "oSgebfwWk_S_"
   },
   "source": [
    "## Переобучение"
   ]
  },
  {
   "cell_type": "markdown",
   "metadata": {
    "id": "rfV4OicDW3eE"
   },
   "source": [
    "Без регуляризации решающие деревья обладают фантастической способность к переобучению: можно построить решающее дерево, которое имеет нулевую ошибку на данной выборке, выделив для каждого объекта отдельный листик."
   ]
  },
  {
   "cell_type": "code",
   "execution_count": null,
   "metadata": {
    "colab": {
     "base_uri": "https://localhost:8080/",
     "height": 561
    },
    "executionInfo": {
     "elapsed": 703,
     "status": "ok",
     "timestamp": 1696253141094,
     "user": {
      "displayName": "Sergey Korpachev",
      "userId": "09181340988160569540"
     },
     "user_tz": -180
    },
    "id": "l3CDXRcmk_TA",
    "outputId": "16b93820-a93d-46f2-ea96-0a06be87bdf5"
   },
   "outputs": [],
   "source": [
    "np.random.seed(13)\n",
    "n = 100\n",
    "X = np.random.normal(size=(n, 2))\n",
    "X[:50, :] += 0.25\n",
    "X[50:, :] -= 0.25\n",
    "y = np.array([1] * 50 + [0] * 50)\n",
    "plt.scatter(X[:, 0], X[:, 1], s=100, c=y, cmap=\"winter\")\n",
    "plt.show()"
   ]
  },
  {
   "cell_type": "markdown",
   "metadata": {
    "id": "XgBTDhINk_TC"
   },
   "source": [
    "Посмотрим, как влияют разные значения гиперпараметров решающего дерева на его структуру:\n",
    "\n",
    "- `max_depth`: максимальная глубина дерева\n",
    "- `min_samples_leaf`: минимальное число объектов в вершине дерева, необходимое для того, чтобы она могла быть листовой. Другими словами, когда мы будем перебирать пороги для разбиения в конкретной вершине, мы будем рассматривать только такие пороги, после разбиения по которым каждая из двух новых вершин будет содержать не менее `min_samples_leaf` объектов.\n",
    "- `min_samples_split`: минимальное число объектов во внутреннем узле, при котором мы будем делать разбиение этого листа."
   ]
  },
  {
   "cell_type": "code",
   "execution_count": null,
   "metadata": {
    "colab": {
     "base_uri": "https://localhost:8080/",
     "height": 983
    },
    "executionInfo": {
     "elapsed": 6550,
     "status": "ok",
     "timestamp": 1696253147636,
     "user": {
      "displayName": "Sergey Korpachev",
      "userId": "09181340988160569540"
     },
     "user_tz": -180
    },
    "id": "bFdroxCGk_TD",
    "outputId": "0cfe1405-03c2-4d80-f3fc-6ea78aa9e2b7"
   },
   "outputs": [],
   "source": [
    "fig, ax = plt.subplots(nrows=3, ncols=3, figsize=(15, 12))\n",
    "\n",
    "for i, max_depth in enumerate([3, 5, None]):\n",
    "    for j, min_samples_leaf in enumerate([15, 5, 1]):\n",
    "        dt = DecisionTreeClassifier(max_depth=max_depth, min_samples_leaf=min_samples_leaf, random_state=13)\n",
    "        dt.fit(X, y)\n",
    "        ax[i][j].set_title(\"max_depth = {} | min_samples_leaf = {}\".format(max_depth, min_samples_leaf))\n",
    "        ax[i][j].axis(\"off\")\n",
    "        plot_decision_regions(X, y, dt, ax=ax[i][j])\n",
    "\n",
    "plt.show()"
   ]
  },
  {
   "cell_type": "markdown",
   "metadata": {
    "id": "rDSA2oeDk_TF"
   },
   "source": [
    "На любой выборке (исключая те, где есть объекты с одинаковыми значениями признаков, но разными ответами) можно получить нулевую ошибку - с помощью максимально переобученного дерева:"
   ]
  },
  {
   "cell_type": "code",
   "execution_count": null,
   "metadata": {
    "colab": {
     "base_uri": "https://localhost:8080/",
     "height": 578
    },
    "executionInfo": {
     "elapsed": 1071,
     "status": "ok",
     "timestamp": 1696253152415,
     "user": {
      "displayName": "Sergey Korpachev",
      "userId": "09181340988160569540"
     },
     "user_tz": -180
    },
    "id": "hdlvbWRik_TF",
    "outputId": "3a22cf1f-cefa-4eee-f717-40a3f976df9a"
   },
   "outputs": [],
   "source": [
    "dt = DecisionTreeClassifier(max_depth=None, min_samples_leaf=1, min_samples_split=2, random_state=13)\n",
    "dt.fit(X, y)\n",
    "\n",
    "print(f\"Decision tree accuracy: {accuracy_score(y, dt.predict(X)):.2f}\")\n",
    "\n",
    "plot_decision_regions(X, y, dt)\n",
    "plt.show()"
   ]
  },
  {
   "cell_type": "markdown",
   "metadata": {
    "id": "xvmfSXRak_TJ"
   },
   "source": [
    "## Неустойчивость"
   ]
  },
  {
   "cell_type": "markdown",
   "metadata": {
    "id": "ATJDz_KMk_TK"
   },
   "source": [
    "Посмотрим, как будет меняться структура дерева без регуляризации, если брать для обучения разные 90%-ые подвыборки исходной выборки."
   ]
  },
  {
   "cell_type": "code",
   "execution_count": null,
   "metadata": {
    "colab": {
     "base_uri": "https://localhost:8080/",
     "height": 983
    },
    "executionInfo": {
     "elapsed": 5402,
     "status": "ok",
     "timestamp": 1696253158213,
     "user": {
      "displayName": "Sergey Korpachev",
      "userId": "09181340988160569540"
     },
     "user_tz": -180
    },
    "id": "BFYd1Rauk_TL",
    "outputId": "2976885a-f641-4b58-ddfb-cb7f04c9996b"
   },
   "outputs": [],
   "source": [
    "fig, ax = plt.subplots(nrows=3, ncols=3, figsize=(15, 12))\n",
    "\n",
    "for i in range(3):\n",
    "    for j in range(3):\n",
    "        seed_idx = 3 * i + j\n",
    "        np.random.seed(seed_idx)\n",
    "        dt = DecisionTreeClassifier(max_depth=5, min_samples_leaf=6, random_state=13)\n",
    "        idx_part = np.random.choice(len(X), replace=False, size=int(0.9 * len(X)))\n",
    "        X_part, y_part = X[idx_part, :], y[idx_part]\n",
    "        dt.fit(X_part, y_part)\n",
    "        ax[i][j].set_title(\"sample #{}\".format(seed_idx))\n",
    "        ax[i][j].axis(\"off\")\n",
    "        plot_decision_regions(X_part, y_part, dt, ax=ax[i][j])\n",
    "\n",
    "plt.show()"
   ]
  },
  {
   "cell_type": "markdown",
   "metadata": {
    "id": "UF027SV0k_TO"
   },
   "source": [
    "## Решающее дерево из sklearn"
   ]
  },
  {
   "cell_type": "code",
   "execution_count": null,
   "metadata": {
    "executionInfo": {
     "elapsed": 278,
     "status": "ok",
     "timestamp": 1696270880512,
     "user": {
      "displayName": "Sergey Korpachev",
      "userId": "09181340988160569540"
     },
     "user_tz": -180
    },
    "id": "fjRVwIE7k_TP"
   },
   "outputs": [],
   "source": [
    "import pandas as pd\n",
    "\n",
    "from sklearn.datasets import fetch_california_housing\n",
    "from sklearn.metrics import mean_squared_error\n",
    "from sklearn.tree import DecisionTreeRegressor, plot_tree"
   ]
  },
  {
   "cell_type": "code",
   "execution_count": null,
   "metadata": {
    "executionInfo": {
     "elapsed": 3,
     "status": "ok",
     "timestamp": 1696270881554,
     "user": {
      "displayName": "Sergey Korpachev",
      "userId": "09181340988160569540"
     },
     "user_tz": -180
    },
    "id": "G8v0AA7oi7yG"
   },
   "outputs": [],
   "source": [
    "housing = fetch_california_housing()"
   ]
  },
  {
   "cell_type": "code",
   "execution_count": null,
   "metadata": {
    "executionInfo": {
     "elapsed": 4,
     "status": "ok",
     "timestamp": 1696270881798,
     "user": {
      "displayName": "Sergey Korpachev",
      "userId": "09181340988160569540"
     },
     "user_tz": -180
    },
    "id": "OGTvn0g-awpZ"
   },
   "outputs": [],
   "source": [
    "X = pd.DataFrame(data=housing[\"data\"], columns=housing[\"feature_names\"])\n",
    "y = housing[\"target\"]"
   ]
  },
  {
   "cell_type": "code",
   "execution_count": null,
   "metadata": {
    "colab": {
     "base_uri": "https://localhost:8080/"
    },
    "executionInfo": {
     "elapsed": 5,
     "status": "ok",
     "timestamp": 1696270883747,
     "user": {
      "displayName": "Sergey Korpachev",
      "userId": "09181340988160569540"
     },
     "user_tz": -180
    },
    "id": "mUvDko7FjbuE",
    "outputId": "4bbfcd88-171a-4a49-e657-eeb49bb38d75"
   },
   "outputs": [],
   "source": [
    "print(housing.DESCR)"
   ]
  },
  {
   "cell_type": "code",
   "execution_count": null,
   "metadata": {
    "colab": {
     "base_uri": "https://localhost:8080/",
     "height": 204
    },
    "executionInfo": {
     "elapsed": 308,
     "status": "ok",
     "timestamp": 1696270887370,
     "user": {
      "displayName": "Sergey Korpachev",
      "userId": "09181340988160569540"
     },
     "user_tz": -180
    },
    "id": "XxyIC-6XdRgW",
    "outputId": "19c39358-2d02-40cb-d554-43382ed4ba99"
   },
   "outputs": [],
   "source": [
    "X.head()"
   ]
  },
  {
   "cell_type": "code",
   "execution_count": null,
   "metadata": {
    "colab": {
     "base_uri": "https://localhost:8080/"
    },
    "executionInfo": {
     "elapsed": 5,
     "status": "ok",
     "timestamp": 1696270888285,
     "user": {
      "displayName": "Sergey Korpachev",
      "userId": "09181340988160569540"
     },
     "user_tz": -180
    },
    "id": "xFWOrDacmRcw",
    "outputId": "0d4212d8-3070-4dff-fa8b-a4206117f54a"
   },
   "outputs": [],
   "source": [
    "X.shape"
   ]
  },
  {
   "cell_type": "code",
   "execution_count": null,
   "metadata": {
    "colab": {
     "base_uri": "https://localhost:8080/",
     "height": 603
    },
    "executionInfo": {
     "elapsed": 555,
     "status": "ok",
     "timestamp": 1696270890085,
     "user": {
      "displayName": "Sergey Korpachev",
      "userId": "09181340988160569540"
     },
     "user_tz": -180
    },
    "id": "4sjlJ_U_k_Th",
    "outputId": "05a04a23-bb65-4ec1-bf7d-ed6c8f51b892"
   },
   "outputs": [],
   "source": [
    "plt.title(\"House price distribution\")\n",
    "plt.xlabel(\"price\")\n",
    "plt.ylabel(\"# samples\")\n",
    "plt.hist(y, bins=20)\n",
    "plt.show()"
   ]
  },
  {
   "cell_type": "code",
   "execution_count": null,
   "metadata": {
    "executionInfo": {
     "elapsed": 279,
     "status": "ok",
     "timestamp": 1696270909660,
     "user": {
      "displayName": "Sergey Korpachev",
      "userId": "09181340988160569540"
     },
     "user_tz": -180
    },
    "id": "aIfOQbH3k_Tk"
   },
   "outputs": [],
   "source": [
    "X_train, X_test, y_train, y_test = train_test_split(X, y, test_size=0.25, random_state=13)"
   ]
  },
  {
   "cell_type": "code",
   "execution_count": null,
   "metadata": {
    "colab": {
     "base_uri": "https://localhost:8080/",
     "height": 537
    },
    "executionInfo": {
     "elapsed": 1369,
     "status": "ok",
     "timestamp": 1696270911475,
     "user": {
      "displayName": "Sergey Korpachev",
      "userId": "09181340988160569540"
     },
     "user_tz": -180
    },
    "id": "3YbPFyUyk_T9",
    "outputId": "b4cf8238-3227-4d3b-b511-b110fc541273"
   },
   "outputs": [],
   "source": [
    "dt = DecisionTreeRegressor(max_depth=3, random_state=13)\n",
    "dt.fit(X_train, y_train)\n",
    "\n",
    "plot_tree(dt, feature_names=X.columns, filled=True, rounded=True)\n",
    "plt.show()"
   ]
  },
  {
   "cell_type": "code",
   "execution_count": null,
   "metadata": {
    "colab": {
     "base_uri": "https://localhost:8080/",
     "height": 603
    },
    "executionInfo": {
     "elapsed": 3408,
     "status": "ok",
     "timestamp": 1696270920192,
     "user": {
      "displayName": "Sergey Korpachev",
      "userId": "09181340988160569540"
     },
     "user_tz": -180
    },
    "id": "v8ou_FlUmcBu",
    "outputId": "a520430f-85c5-47c7-9e1a-0396c9fe5b64"
   },
   "outputs": [],
   "source": [
    "max_depth_array = range(2, 20)\n",
    "mse_array = []\n",
    "\n",
    "for max_depth in max_depth_array:\n",
    "    dt = DecisionTreeRegressor(max_depth=max_depth, random_state=13)\n",
    "    dt.fit(X_train, y_train)\n",
    "    mse_array.append(mean_squared_error(y_test, dt.predict(X_test)))\n",
    "\n",
    "plt.plot(max_depth_array, mse_array)\n",
    "plt.title(\"Dependence of MSE on max depth\")\n",
    "plt.xlabel(\"max depth\")\n",
    "plt.ylabel(\"MSE\")\n",
    "plt.show()"
   ]
  },
  {
   "cell_type": "code",
   "execution_count": null,
   "metadata": {
    "colab": {
     "base_uri": "https://localhost:8080/",
     "height": 607
    },
    "executionInfo": {
     "elapsed": 331,
     "status": "ok",
     "timestamp": 1696270967152,
     "user": {
      "displayName": "Sergey Korpachev",
      "userId": "09181340988160569540"
     },
     "user_tz": -180
    },
    "id": "GQKZpyxsmysH",
    "outputId": "54c14865-e2dd-4ab9-bb8d-26e78707cf6e"
   },
   "outputs": [],
   "source": [
    "pd.DataFrame({\n",
    "    \"max_depth\": max_depth_array,\n",
    "    \"MSE\": mse_array\n",
    "}).sort_values(by=\"MSE\").reset_index(drop=True)"
   ]
  },
  {
   "cell_type": "code",
   "execution_count": null,
   "metadata": {
    "colab": {
     "base_uri": "https://localhost:8080/",
     "height": 603
    },
    "executionInfo": {
     "elapsed": 2501,
     "status": "ok",
     "timestamp": 1696271046769,
     "user": {
      "displayName": "Sergey Korpachev",
      "userId": "09181340988160569540"
     },
     "user_tz": -180
    },
    "id": "eJKzzKpcnI4-",
    "outputId": "4d181e19-4394-4f13-ba56-5ba66baf7f7c"
   },
   "outputs": [],
   "source": [
    "min_samples_leaf_array = range(1, 20)\n",
    "mse_array = []\n",
    "\n",
    "for min_samples_leaf in min_samples_leaf_array:\n",
    "    dt = DecisionTreeRegressor(max_depth=6, min_samples_leaf=min_samples_leaf, random_state=13)\n",
    "    dt.fit(X_train, y_train)\n",
    "    mse_array.append(mean_squared_error(y_test, dt.predict(X_test)))\n",
    "\n",
    "plt.plot(min_samples_leaf_array, mse_array)\n",
    "plt.title(\"Dependence of MSE on min samples leaf\")\n",
    "plt.xlabel(\"min samples leaf\")\n",
    "plt.ylabel(\"MSE\")\n",
    "plt.show()"
   ]
  },
  {
   "cell_type": "code",
   "execution_count": null,
   "metadata": {
    "colab": {
     "base_uri": "https://localhost:8080/",
     "height": 638
    },
    "executionInfo": {
     "elapsed": 275,
     "status": "ok",
     "timestamp": 1696271054345,
     "user": {
      "displayName": "Sergey Korpachev",
      "userId": "09181340988160569540"
     },
     "user_tz": -180
    },
    "id": "dBb6MEVvW3eM",
    "outputId": "31b1b275-c619-4bf5-93c9-9fc65fc2f553"
   },
   "outputs": [],
   "source": [
    "pd.DataFrame({\n",
    "    \"min_samples_leaf\": min_samples_leaf_array,\n",
    "    \"MSE\": mse_array\n",
    "}).sort_values(by=\"MSE\").reset_index(drop=True)"
   ]
  },
  {
   "cell_type": "code",
   "execution_count": null,
   "metadata": {
    "colab": {
     "base_uri": "https://localhost:8080/",
     "height": 603
    },
    "executionInfo": {
     "elapsed": 2474,
     "status": "ok",
     "timestamp": 1696271060719,
     "user": {
      "displayName": "Sergey Korpachev",
      "userId": "09181340988160569540"
     },
     "user_tz": -180
    },
    "id": "J7_8aCDknl7u",
    "outputId": "9ba5e380-bdf8-43d5-95dd-e8d13cd4089d"
   },
   "outputs": [],
   "source": [
    "min_samples_split_array = range(2, 20)\n",
    "mse_array = []\n",
    "\n",
    "for min_samples_split in min_samples_split_array:\n",
    "    dt = DecisionTreeRegressor(max_depth=6, min_samples_leaf=1, min_samples_split=min_samples_split, random_state=13)\n",
    "    dt.fit(X_train, y_train)\n",
    "    mse_array.append(mean_squared_error(y_test, dt.predict(X_test)))\n",
    "\n",
    "plt.plot(min_samples_split_array, mse_array)\n",
    "plt.title(\"Dependence of MSE on min samples split\")\n",
    "plt.xlabel(\"min samples split\")\n",
    "plt.ylabel(\"MSE\")\n",
    "plt.show()"
   ]
  },
  {
   "cell_type": "code",
   "execution_count": null,
   "metadata": {
    "colab": {
     "base_uri": "https://localhost:8080/",
     "height": 607
    },
    "executionInfo": {
     "elapsed": 388,
     "status": "ok",
     "timestamp": 1696271078561,
     "user": {
      "displayName": "Sergey Korpachev",
      "userId": "09181340988160569540"
     },
     "user_tz": -180
    },
    "id": "abHqb8s1W3eN",
    "outputId": "51c8779b-6efb-4697-ae17-27804b41562f"
   },
   "outputs": [],
   "source": [
    "pd.DataFrame({\n",
    "    \"min_samples_split\": min_samples_split_array,\n",
    "    \"MSE\": mse_array\n",
    "}).sort_values(by=\"MSE\").reset_index(drop=True)"
   ]
  },
  {
   "cell_type": "code",
   "execution_count": null,
   "metadata": {
    "colab": {
     "base_uri": "https://localhost:8080/",
     "height": 1000
    },
    "executionInfo": {
     "elapsed": 302174,
     "status": "ok",
     "timestamp": 1696271447678,
     "user": {
      "displayName": "Sergey Korpachev",
      "userId": "09181340988160569540"
     },
     "user_tz": -180
    },
    "id": "RnL5ArcZW3eN",
    "outputId": "f56e34df-43aa-4aa6-bac6-8f3ef9d1636f"
   },
   "outputs": [],
   "source": [
    "%%time\n",
    "from sklearn.model_selection import GridSearchCV\n",
    "gs = GridSearchCV(DecisionTreeRegressor(random_state=13),\n",
    "                  param_grid={\n",
    "                      'max_features': ['auto', 'log2', 'sqrt'],\n",
    "                      'max_depth': list(range(2, 20)) + [None],\n",
    "                      'min_samples_leaf': list(range(1, 20)) + [None]\n",
    "                  },\n",
    "                  cv=5,\n",
    "                  scoring='neg_mean_squared_error')\n",
    "gs.fit(X_train, y_train)"
   ]
  },
  {
   "cell_type": "code",
   "execution_count": null,
   "metadata": {
    "colab": {
     "base_uri": "https://localhost:8080/"
    },
    "executionInfo": {
     "elapsed": 449,
     "status": "ok",
     "timestamp": 1696271455654,
     "user": {
      "displayName": "Sergey Korpachev",
      "userId": "09181340988160569540"
     },
     "user_tz": -180
    },
    "id": "5czDf3bnW3eO",
    "outputId": "f2503408-fd67-4034-8523-329270d31189"
   },
   "outputs": [],
   "source": [
    "gs.best_params_"
   ]
  },
  {
   "cell_type": "code",
   "execution_count": null,
   "metadata": {
    "colab": {
     "base_uri": "https://localhost:8080/",
     "height": 554
    },
    "executionInfo": {
     "elapsed": 5806,
     "status": "ok",
     "timestamp": 1696271474863,
     "user": {
      "displayName": "Sergey Korpachev",
      "userId": "09181340988160569540"
     },
     "user_tz": -180
    },
    "id": "OPAgS05sk_UC",
    "outputId": "d76bd29d-b945-4331-cddf-8b2ff2d5c1fa"
   },
   "outputs": [],
   "source": [
    "dt_our_best = DecisionTreeRegressor(max_depth=6, random_state=13)\n",
    "dt_our_best.fit(X_train, y_train)\n",
    "print(mean_squared_error(y_test, dt_our_best.predict(X_test)))\n",
    "\n",
    "plot_tree(dt_our_best, feature_names=X.columns, filled=True, rounded=True)\n",
    "plt.show()"
   ]
  },
  {
   "cell_type": "code",
   "execution_count": null,
   "metadata": {
    "colab": {
     "base_uri": "https://localhost:8080/"
    },
    "executionInfo": {
     "elapsed": 388,
     "status": "ok",
     "timestamp": 1696271489874,
     "user": {
      "displayName": "Sergey Korpachev",
      "userId": "09181340988160569540"
     },
     "user_tz": -180
    },
    "id": "PMJhSWDeW3eP",
    "outputId": "65d59b9f-108f-4d07-fbac-3c2ce7769447"
   },
   "outputs": [],
   "source": [
    "dt_gs_best = DecisionTreeRegressor(max_depth=11,  min_samples_leaf=3, random_state=13)\n",
    "dt_gs_best.fit(X_train, y_train)\n",
    "mean_squared_error(y_test, dt_gs_best.predict(X_test))"
   ]
  },
  {
   "cell_type": "markdown",
   "metadata": {
    "id": "vz0qh4hKW3eP"
   },
   "source": [
    "### Важность признаков"
   ]
  },
  {
   "cell_type": "code",
   "execution_count": null,
   "metadata": {
    "executionInfo": {
     "elapsed": 4,
     "status": "ok",
     "timestamp": 1696271492209,
     "user": {
      "displayName": "Sergey Korpachev",
      "userId": "09181340988160569540"
     },
     "user_tz": -180
    },
    "id": "9GtCb9qgk_UH"
   },
   "outputs": [],
   "source": [
    "df_importances = pd.DataFrame({\n",
    "    \"feature\": X.columns,\n",
    "    \"importance\": dt.feature_importances_\n",
    "}).sort_values(by=\"importance\", ascending=False).reset_index(drop=True)"
   ]
  },
  {
   "cell_type": "code",
   "execution_count": null,
   "metadata": {
    "colab": {
     "base_uri": "https://localhost:8080/",
     "height": 561
    },
    "executionInfo": {
     "elapsed": 423,
     "status": "ok",
     "timestamp": 1696271495230,
     "user": {
      "displayName": "Sergey Korpachev",
      "userId": "09181340988160569540"
     },
     "user_tz": -180
    },
    "id": "H4dmlNlhW3eQ",
    "outputId": "6c67ce3c-25bc-4287-857b-25c6c858894b"
   },
   "outputs": [],
   "source": [
    "plt.bar(df_importances['feature'], df_importances['importance'])\n",
    "plt.show()"
   ]
  },
  {
   "cell_type": "markdown",
   "metadata": {
    "id": "exMPZsN_k_UJ"
   },
   "source": [
    "Влияет ли стандартизация (масштабирование) признаков на результат работы решающего дерева?"
   ]
  },
  {
   "cell_type": "code",
   "execution_count": null,
   "metadata": {
    "colab": {
     "base_uri": "https://localhost:8080/",
     "height": 204
    },
    "executionInfo": {
     "elapsed": 325,
     "status": "ok",
     "timestamp": 1696271621004,
     "user": {
      "displayName": "Sergey Korpachev",
      "userId": "09181340988160569540"
     },
     "user_tz": -180
    },
    "id": "fA9sNUrNk_UL",
    "outputId": "695e7128-3b41-49e0-b448-93d562e12140"
   },
   "outputs": [],
   "source": [
    "from sklearn.preprocessing import StandardScaler\n",
    "\n",
    "sc = StandardScaler()\n",
    "X_train_scaled = pd.DataFrame(sc.fit_transform(X_train), columns=X_train.columns, index=X_train.index)\n",
    "X_test_scaled = pd.DataFrame(sc.transform(X_test), columns=X_test.columns, index=X_test.index)\n",
    "X_train_scaled.head()"
   ]
  },
  {
   "cell_type": "code",
   "execution_count": null,
   "metadata": {
    "colab": {
     "base_uri": "https://localhost:8080/"
    },
    "executionInfo": {
     "elapsed": 456,
     "status": "ok",
     "timestamp": 1696271623848,
     "user": {
      "displayName": "Sergey Korpachev",
      "userId": "09181340988160569540"
     },
     "user_tz": -180
    },
    "id": "q_nS3aRgk_UM",
    "outputId": "9b212805-4fa1-4bee-f837-55abefd83a30"
   },
   "outputs": [],
   "source": [
    "print(\"No scaling is applied\\n\")\n",
    "\n",
    "for max_depth in [3, 6]:\n",
    "    dt = DecisionTreeRegressor(max_depth=max_depth, random_state=13)\n",
    "    dt.fit(X_train, y_train)\n",
    "    print(f\"MSE on test set for depth {max_depth}: {mean_squared_error(y_test, dt.predict(X_test)):.2f}\")"
   ]
  },
  {
   "cell_type": "code",
   "execution_count": null,
   "metadata": {
    "colab": {
     "base_uri": "https://localhost:8080/"
    },
    "executionInfo": {
     "elapsed": 288,
     "status": "ok",
     "timestamp": 1696271625510,
     "user": {
      "displayName": "Sergey Korpachev",
      "userId": "09181340988160569540"
     },
     "user_tz": -180
    },
    "id": "C7OkLotck_UN",
    "outputId": "647d0a38-62ac-45da-c308-746d555fba84"
   },
   "outputs": [],
   "source": [
    "print(\"Standard scaling is applied\\n\")\n",
    "\n",
    "for max_depth in [3, 6]:\n",
    "    dt = DecisionTreeRegressor(max_depth=max_depth, random_state=13)\n",
    "    dt.fit(X_train_scaled, y_train)\n",
    "    print(f\"MSE on test set for depth {max_depth}: {mean_squared_error(y_test, dt.predict(X_test_scaled)):.2f}\")"
   ]
  },
  {
   "cell_type": "code",
   "execution_count": null,
   "metadata": {
    "id": "rKJ2ZeKgW3ed"
   },
   "outputs": [],
   "source": []
  }
 ],
 "metadata": {
  "colab": {
   "provenance": []
  },
  "kernelspec": {
   "display_name": "Python 3",
   "language": "python",
   "name": "python3"
  },
  "language_info": {
   "codemirror_mode": {
    "name": "ipython",
    "version": 3
   },
   "file_extension": ".py",
   "mimetype": "text/x-python",
   "name": "python",
   "nbconvert_exporter": "python",
   "pygments_lexer": "ipython3",
   "version": "3.8.10"
  }
 },
 "nbformat": 4,
 "nbformat_minor": 1
}
