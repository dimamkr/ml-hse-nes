{
 "cells": [
  {
   "cell_type": "markdown",
   "id": "african-marble",
   "metadata": {
    "id": "african-marble"
   },
   "source": [
    "# Семинар 3. Логистическая регрессия"
   ]
  },
  {
   "cell_type": "markdown",
   "id": "separate-gateway",
   "metadata": {
    "id": "separate-gateway"
   },
   "source": [
    "## Логистическая регрессия"
   ]
  },
  {
   "cell_type": "markdown",
   "id": "sought-brooklyn",
   "metadata": {
    "id": "sought-brooklyn"
   },
   "source": [
    "Модель логистической регрессии:\n",
    "$$\n",
    "\\hat y = \\sigma (Xw).\n",
    "$$\n",
    "Сигмоида меняется в пределах от 0 до 1 и имеет вид:\n",
    "$$\n",
    "\\sigma(x) = \\frac{1}{1+e^{-x}}.\n",
    "$$\n",
    "\n",
    "Функция потерь log-loss:\n",
    "$$\n",
    "L = -\\frac{1}{\\ell}\\sum_{i = 1}^{\\ell}(y_i\\log(\\hat y_i) + (1 - y_i)\\log(1 - \\hat y_i)),\n",
    "$$\n",
    "где $\\ell$ - количество объектов.\n"
   ]
  },
  {
   "cell_type": "markdown",
   "id": "armed-piano",
   "metadata": {
    "id": "armed-piano"
   },
   "source": [
    "Регуляризация вводится таким же образом, как это было в случае линейной регрессии. Например, функция потерь для $L$-$2$ регуляризации выглядит так:\n",
    "\n",
    "$$\n",
    "\\bar{L}(X, w) = L(X, w) + \\frac{1}{2}\\lambda\\|w\\|^2_2.\n",
    "$$"
   ]
  },
  {
   "cell_type": "code",
   "execution_count": null,
   "id": "manual-launch",
   "metadata": {
    "id": "manual-launch"
   },
   "outputs": [],
   "source": [
    "import numpy as np\n",
    "import pandas as pd\n",
    "import matplotlib.pyplot as plt"
   ]
  },
  {
   "cell_type": "markdown",
   "id": "union-darwin",
   "metadata": {
    "id": "union-darwin"
   },
   "source": [
    "## Практика"
   ]
  },
  {
   "cell_type": "markdown",
   "id": "abroad-hamburg",
   "metadata": {
    "id": "abroad-hamburg"
   },
   "source": [
    "Рассмотрим свойства логистической регрессии и метода опорных векторов на примере классического набора данных [\"Ирисы Фишера\"](https://ru.wikipedia.org/wiki/Ирисы_Фишера). Этот набор состоит из 150 наблюдений, каждое из которых представляет собой четыре измерения: длина наружной доли околоцветника (`sepal length`), ширина наружной доли околоцветника (`sepal width`), длина внутренней доли околоцветника (`petal length`), ширина внутренней доли околоцветника (`petal width`). Каждое наблюдение относится к одному из трёх классов ириса: `setosa`, `versicolor` или `virginica`. Задача состоит в том, чтобы по измерениям предсказать класс цветка.\n",
    "\n",
    "[<img src=\"https://www.embedded-robotics.com/wp-content/uploads/2022/01/Iris-Dataset-Classification.png\" alt=\"drawing\" width=\"800\"/>](https://www.embedded-robotics.com/wp-content/uploads/2022/01/Iris-Dataset-Classification.png)"
   ]
  },
  {
   "cell_type": "code",
   "execution_count": null,
   "id": "several-bradford",
   "metadata": {
    "id": "several-bradford"
   },
   "outputs": [],
   "source": [
    "from sklearn.datasets import load_iris\n",
    "iris = load_iris(as_frame=True)\n",
    "\n",
    "data = iris['data']\n",
    "y = iris['target'].values"
   ]
  },
  {
   "cell_type": "code",
   "execution_count": null,
   "id": "77068ebd-7569-4672-b6e6-fdfc55460fc5",
   "metadata": {
    "colab": {
     "base_uri": "https://localhost:8080/",
     "height": 204
    },
    "executionInfo": {
     "elapsed": 429,
     "status": "ok",
     "timestamp": 1694978156125,
     "user": {
      "displayName": "Sergey Korpachev",
      "userId": "09181340988160569540"
     },
     "user_tz": -180
    },
    "id": "77068ebd-7569-4672-b6e6-fdfc55460fc5",
    "outputId": "b4727ad6-f798-4d20-f682-c0f742d39174"
   },
   "outputs": [],
   "source": [
    "data.head()"
   ]
  },
  {
   "cell_type": "code",
   "execution_count": null,
   "id": "0dc8d8b2-e5fa-4bc4-9614-675d61e4f606",
   "metadata": {
    "colab": {
     "base_uri": "https://localhost:8080/"
    },
    "executionInfo": {
     "elapsed": 561,
     "status": "ok",
     "timestamp": 1694978158940,
     "user": {
      "displayName": "Sergey Korpachev",
      "userId": "09181340988160569540"
     },
     "user_tz": -180
    },
    "id": "0dc8d8b2-e5fa-4bc4-9614-675d61e4f606",
    "outputId": "d10e35a8-506a-4b2c-e040-c3b060d1f9bb"
   },
   "outputs": [],
   "source": [
    "y[:5]"
   ]
  },
  {
   "cell_type": "markdown",
   "id": "velvet-macintosh",
   "metadata": {
    "id": "velvet-macintosh"
   },
   "source": [
    "### Задание 1.\n",
    "\n",
    "Перейдём к задаче бинарной классификации: будем предсказывать принадлежность цветка к виду `versicolor` против принадлежности ко всем прочим видам. Перекодируйте зависимую переменную так, чтобы цветки вида `versicolor` (y=1) имели метку 1, а прочих видов – метку 0."
   ]
  },
  {
   "cell_type": "code",
   "execution_count": null,
   "id": "balanced-uzbekistan",
   "metadata": {
    "id": "balanced-uzbekistan"
   },
   "outputs": [],
   "source": [
    "y[y!=1] = 0 # YOUR CODE HERE"
   ]
  },
  {
   "cell_type": "markdown",
   "id": "imported-symphony",
   "metadata": {
    "id": "imported-symphony"
   },
   "source": [
    "### Задание 2.\n",
    "\n",
    "Будем работать с двумя признаками: `sepal length (cm)` и `sepal width (cm)`. Построим диаграмму рассеяния по тренировочной выборке и убедитесь, что данные линейно не разделимы."
   ]
  },
  {
   "cell_type": "code",
   "execution_count": null,
   "id": "imperial-dealer",
   "metadata": {
    "id": "imperial-dealer"
   },
   "outputs": [],
   "source": [
    "# YOUR CODE HERE\n",
    "x_cols = ['sepal length (cm)', 'sepal width (cm)']\n",
    "X = data[x_cols].values"
   ]
  },
  {
   "cell_type": "code",
   "execution_count": null,
   "id": "8be2eb00-a2f4-43e7-8ec0-4e823cac218f",
   "metadata": {
    "id": "8be2eb00-a2f4-43e7-8ec0-4e823cac218f"
   },
   "outputs": [],
   "source": [
    "from sklearn.model_selection import train_test_split\n",
    "\n",
    "# делим данные на обучающую и тестовую выборки\n",
    "X_train, X_test, y_train, y_test = train_test_split(X, y, test_size=0.3, random_state=123)"
   ]
  },
  {
   "cell_type": "markdown",
   "id": "a705849e-fc58-416b-9e70-3b7bf9644036",
   "metadata": {
    "id": "a705849e-fc58-416b-9e70-3b7bf9644036"
   },
   "source": [
    "Приведем значения всех входных признаков к одному масштабу. Для этого применим функцию `StandardScaler`. Это преобразование приводит значения каждого признака к нулевому среднему и единичной дисперсии:\n",
    "\n",
    "$$\n",
    "X_{new} = \\frac{X - \\mu}{\\sigma}\n",
    "$$\n",
    "\n",
    "где, $\\mu$ - среднее значение признака\n",
    "\n",
    "$\\sigma$ - стандартное отклонение значений признака"
   ]
  },
  {
   "cell_type": "code",
   "execution_count": null,
   "id": "78f784c6-5811-4d69-828c-f46aa70fcc60",
   "metadata": {
    "id": "78f784c6-5811-4d69-828c-f46aa70fcc60"
   },
   "outputs": [],
   "source": [
    "from sklearn.preprocessing import StandardScaler\n",
    "\n",
    "ss = StandardScaler()\n",
    "ss.fit(X_train, y_train) # считаем \\mu и \\sigma\n",
    "\n",
    "# делаем преобразование данных\n",
    "X_train_ss = ss.transform(X_train)\n",
    "X_test_ss = ss.transform(X_test)"
   ]
  },
  {
   "cell_type": "code",
   "execution_count": null,
   "id": "443a2c2b",
   "metadata": {
    "colab": {
     "base_uri": "https://localhost:8080/",
     "height": 430
    },
    "executionInfo": {
     "elapsed": 530,
     "status": "ok",
     "timestamp": 1694978312662,
     "user": {
      "displayName": "Sergey Korpachev",
      "userId": "09181340988160569540"
     },
     "user_tz": -180
    },
    "id": "443a2c2b",
    "outputId": "1771433e-79d8-4539-ae7a-80df1afe7a25"
   },
   "outputs": [],
   "source": [
    "plt.scatter(X_train_ss[:, 0], X_train_ss[:, 1], c=y_train)\n",
    "plt.show()"
   ]
  },
  {
   "cell_type": "markdown",
   "id": "nominated-nightmare",
   "metadata": {
    "id": "nominated-nightmare"
   },
   "source": [
    "### Задание 3.\n",
    "\n",
    "Сравним качество для KNN и логрега."
   ]
  },
  {
   "cell_type": "code",
   "execution_count": null,
   "id": "7dccb88b-70ee-41ac-aaec-4f9bb7fe5f0c",
   "metadata": {
    "id": "7dccb88b-70ee-41ac-aaec-4f9bb7fe5f0c"
   },
   "outputs": [],
   "source": [
    "from sklearn.linear_model import LogisticRegression\n",
    "from sklearn.neighbors import KNeighborsClassifier"
   ]
  },
  {
   "cell_type": "code",
   "execution_count": null,
   "id": "imperial-saskatchewan",
   "metadata": {
    "id": "imperial-saskatchewan"
   },
   "outputs": [],
   "source": [
    "knn = KNeighborsClassifier(n_neighbors=5)\n",
    "logreg = LogisticRegression()"
   ]
  },
  {
   "cell_type": "markdown",
   "id": "cb6f9b02-3f7f-4118-bf07-19b64a12af90",
   "metadata": {
    "id": "cb6f9b02-3f7f-4118-bf07-19b64a12af90"
   },
   "source": [
    "#### Обучение"
   ]
  },
  {
   "cell_type": "code",
   "execution_count": null,
   "id": "b2132597",
   "metadata": {
    "colab": {
     "base_uri": "https://localhost:8080/",
     "height": 74
    },
    "executionInfo": {
     "elapsed": 393,
     "status": "ok",
     "timestamp": 1694978380567,
     "user": {
      "displayName": "Sergey Korpachev",
      "userId": "09181340988160569540"
     },
     "user_tz": -180
    },
    "id": "b2132597",
    "outputId": "f5a6dba3-1993-47a8-d943-31839ca39aad"
   },
   "outputs": [],
   "source": [
    "# обучите классификаторы\n",
    "\n",
    "# YOUR CODE HERE\n",
    "knn.fit(X_train_ss, y_train)\n",
    "logreg.fit(X_train_ss, y_train)"
   ]
  },
  {
   "cell_type": "markdown",
   "id": "d3e6625e-dbce-4798-9369-66e56165f8cf",
   "metadata": {
    "id": "d3e6625e-dbce-4798-9369-66e56165f8cf"
   },
   "source": [
    "#### Прогноз метки класса"
   ]
  },
  {
   "cell_type": "code",
   "execution_count": null,
   "id": "62965ba0",
   "metadata": {
    "id": "62965ba0"
   },
   "outputs": [],
   "source": [
    "# получите прогнозы для тестовой выборки\n",
    "\n",
    "y_test_pred_knn = knn.predict(X_test_ss) # YOUR CODE HERE\n",
    "y_test_pred_logreg = logreg.predict(X_test_ss) # YOUR CODE HERE"
   ]
  },
  {
   "cell_type": "code",
   "execution_count": null,
   "id": "b3177ed4-f6a8-4652-bb64-e10825f1842f",
   "metadata": {
    "colab": {
     "base_uri": "https://localhost:8080/"
    },
    "executionInfo": {
     "elapsed": 6,
     "status": "ok",
     "timestamp": 1694978399424,
     "user": {
      "displayName": "Sergey Korpachev",
      "userId": "09181340988160569540"
     },
     "user_tz": -180
    },
    "id": "b3177ed4-f6a8-4652-bb64-e10825f1842f",
    "outputId": "aa04ed47-d14e-4eb4-d608-b5aae0990207"
   },
   "outputs": [],
   "source": [
    "y_test_pred_knn[:5], y_test_pred_logreg[:5]"
   ]
  },
  {
   "cell_type": "markdown",
   "id": "aa87f46c-c6b4-46c3-822e-9fa4477695b6",
   "metadata": {
    "id": "aa87f46c-c6b4-46c3-822e-9fa4477695b6"
   },
   "source": [
    "#### Прогноз вероятности класса"
   ]
  },
  {
   "cell_type": "code",
   "execution_count": null,
   "id": "10378dd9-b25d-4feb-9751-d15af7327212",
   "metadata": {
    "id": "10378dd9-b25d-4feb-9751-d15af7327212"
   },
   "outputs": [],
   "source": [
    "y_test_proba_knn = knn.predict_proba(X_test_ss)\n",
    "y_test_proba_logreg = logreg.predict_proba(X_test_ss)"
   ]
  },
  {
   "cell_type": "code",
   "execution_count": null,
   "id": "a15978f3-0774-4920-9239-c0c9892fcb0a",
   "metadata": {
    "colab": {
     "base_uri": "https://localhost:8080/"
    },
    "executionInfo": {
     "elapsed": 12,
     "status": "ok",
     "timestamp": 1694978420123,
     "user": {
      "displayName": "Sergey Korpachev",
      "userId": "09181340988160569540"
     },
     "user_tz": -180
    },
    "id": "a15978f3-0774-4920-9239-c0c9892fcb0a",
    "outputId": "3377eceb-e916-4c1d-cb7a-ee5d637cc1d1"
   },
   "outputs": [],
   "source": [
    "y_test_proba_knn[:5]"
   ]
  },
  {
   "cell_type": "code",
   "execution_count": null,
   "id": "e3f7fb61-be17-470a-99ff-f243959908b4",
   "metadata": {
    "colab": {
     "base_uri": "https://localhost:8080/"
    },
    "executionInfo": {
     "elapsed": 11,
     "status": "ok",
     "timestamp": 1694978420124,
     "user": {
      "displayName": "Sergey Korpachev",
      "userId": "09181340988160569540"
     },
     "user_tz": -180
    },
    "id": "e3f7fb61-be17-470a-99ff-f243959908b4",
    "outputId": "0de7cdc7-513d-4d72-df6a-1892fc31764b"
   },
   "outputs": [],
   "source": [
    "y_test_proba_logreg[:5]"
   ]
  },
  {
   "cell_type": "markdown",
   "id": "c03f07c6-7fe2-4d10-9a56-bd657d373f3a",
   "metadata": {
    "id": "c03f07c6-7fe2-4d10-9a56-bd657d373f3a"
   },
   "source": [
    "#### Метрика качества"
   ]
  },
  {
   "cell_type": "code",
   "execution_count": null,
   "id": "exact-bailey",
   "metadata": {
    "colab": {
     "base_uri": "https://localhost:8080/"
    },
    "executionInfo": {
     "elapsed": 5,
     "status": "ok",
     "timestamp": 1694978421393,
     "user": {
      "displayName": "Sergey Korpachev",
      "userId": "09181340988160569540"
     },
     "user_tz": -180
    },
    "id": "exact-bailey",
    "outputId": "cd2f8c20-6138-4944-acab-ea53d39b6d94"
   },
   "outputs": [],
   "source": [
    "from sklearn.metrics import accuracy_score\n",
    "print(f'KNN: {accuracy_score(y_test, y_test_pred_knn)}')\n",
    "print(f'LogReg: {accuracy_score(y_test, y_test_pred_logreg)}')"
   ]
  },
  {
   "cell_type": "markdown",
   "id": "945470c3-3cee-440b-b2df-b152e0626621",
   "metadata": {
    "id": "945470c3-3cee-440b-b2df-b152e0626621"
   },
   "source": [
    "#### Строим разделяющую поверность"
   ]
  },
  {
   "cell_type": "code",
   "execution_count": null,
   "id": "014fcc56-d6a4-45bf-8d4c-944ef222d591",
   "metadata": {
    "id": "014fcc56-d6a4-45bf-8d4c-944ef222d591"
   },
   "outputs": [],
   "source": [
    "#!pip install mlxtend"
   ]
  },
  {
   "cell_type": "code",
   "execution_count": null,
   "id": "04bdac20",
   "metadata": {
    "colab": {
     "base_uri": "https://localhost:8080/",
     "height": 716
    },
    "executionInfo": {
     "elapsed": 55205,
     "status": "ok",
     "timestamp": 1694978503375,
     "user": {
      "displayName": "Sergey Korpachev",
      "userId": "09181340988160569540"
     },
     "user_tz": -180
    },
    "id": "04bdac20",
    "outputId": "c6a19f97-e090-489d-f9ac-44b6c8cc9da5"
   },
   "outputs": [],
   "source": [
    "from mlxtend.plotting import plot_decision_regions\n",
    "\n",
    "plt.figure(figsize=(12,8))\n",
    "plot_decision_regions(X_train_ss, y_train, clf=knn, legend=2)\n",
    "plt.title('Разделяющая поверхность для KNN')"
   ]
  },
  {
   "cell_type": "code",
   "execution_count": null,
   "id": "e862265f",
   "metadata": {
    "colab": {
     "base_uri": "https://localhost:8080/",
     "height": 716
    },
    "executionInfo": {
     "elapsed": 569,
     "status": "ok",
     "timestamp": 1694978503937,
     "user": {
      "displayName": "Sergey Korpachev",
      "userId": "09181340988160569540"
     },
     "user_tz": -180
    },
    "id": "e862265f",
    "outputId": "f571debf-4b07-467c-a147-320e674958ef"
   },
   "outputs": [],
   "source": [
    "plt.figure(figsize=(12,8))\n",
    "plot_decision_regions(X_train_ss, y_train, clf=logreg, legend=2)\n",
    "plt.title('Разделяющая поверхность для логрега')"
   ]
  },
  {
   "cell_type": "markdown",
   "id": "unsigned-petite",
   "metadata": {
    "id": "unsigned-petite"
   },
   "source": [
    "Теперь изучим свойства каждого классификатора по-отдельности. Начнём с логистической регрессии.\n",
    "\n",
    "### Задание 4.\n",
    "\n",
    "Обучите три различные логистические регрессии с разным параметром регуляризации $C$."
   ]
  },
  {
   "cell_type": "code",
   "execution_count": null,
   "id": "happy-origin",
   "metadata": {
    "id": "happy-origin"
   },
   "outputs": [],
   "source": [
    "# YOUR CODE HERE\n",
    "\n",
    "logreg_1 = LogisticRegression(C=0.01) # C=0.01\n",
    "logreg_2 = LogisticRegression(C=0.05) # C=0.05\n",
    "logreg_3 = LogisticRegression(C=10) # C=10"
   ]
  },
  {
   "cell_type": "code",
   "execution_count": null,
   "id": "victorian-danger",
   "metadata": {
    "colab": {
     "base_uri": "https://localhost:8080/",
     "height": 752
    },
    "executionInfo": {
     "elapsed": 1620,
     "status": "ok",
     "timestamp": 1694978793949,
     "user": {
      "displayName": "Sergey Korpachev",
      "userId": "09181340988160569540"
     },
     "user_tz": -180
    },
    "id": "victorian-danger",
    "outputId": "f2fe97c4-395c-43e3-c31c-b67d787e5345"
   },
   "outputs": [],
   "source": [
    "fig, axes = plt.subplots(ncols=3, figsize=(12, 8))\n",
    "pipes = [logreg_1, logreg_2, logreg_3]\n",
    "\n",
    "\n",
    "for ind, clf in enumerate(pipes):\n",
    "    clf.fit(X_train_ss, y_train)\n",
    "    y_test_pred = clf.predict(X_test_ss)\n",
    "    score = accuracy_score(y_test, y_test_pred)\n",
    "    print(f\"Acc., C={clf.get_params()['C']}: \", score)\n",
    "    fig = plot_decision_regions(X_train_ss, y_train, clf=clf, legend=2, ax=axes[ind])\n",
    "    fig.set_title(f\"C={clf.get_params()['C']}\", fontsize=16)\n"
   ]
  },
  {
   "cell_type": "markdown",
   "id": "handy-bolivia",
   "metadata": {
    "id": "handy-bolivia"
   },
   "source": [
    "Перейдём к KNN.\n",
    "\n",
    "### Задание 5.\n",
    "\n",
    "Обучите три KNN с разным числом соседей."
   ]
  },
  {
   "cell_type": "code",
   "execution_count": null,
   "id": "patent-chess",
   "metadata": {
    "id": "patent-chess"
   },
   "outputs": [],
   "source": [
    "# YOUR CODE HERE\n",
    "\n",
    "knn_1 = KNeighborsClassifier(n_neighbors=1) # n_neighbors=1\n",
    "knn_2 = KNeighborsClassifier(n_neighbors=5) # n_neighbors=5\n",
    "knn_3 = KNeighborsClassifier(n_neighbors=50) # n_neighbors=50"
   ]
  },
  {
   "cell_type": "code",
   "execution_count": null,
   "id": "local-revolution",
   "metadata": {
    "colab": {
     "base_uri": "https://localhost:8080/",
     "height": 752
    },
    "executionInfo": {
     "elapsed": 176659,
     "status": "ok",
     "timestamp": 1694979216181,
     "user": {
      "displayName": "Sergey Korpachev",
      "userId": "09181340988160569540"
     },
     "user_tz": -180
    },
    "id": "local-revolution",
    "outputId": "ef16c43e-6beb-4446-e831-cd002e039883"
   },
   "outputs": [],
   "source": [
    "fig, axes = plt.subplots(ncols=3, figsize=(12, 8))\n",
    "pipes = [knn_1, knn_2, knn_3]\n",
    "\n",
    "\n",
    "for ind, clf in enumerate(pipes):\n",
    "    clf.fit(X_train_ss, y_train)\n",
    "    y_test_pred = clf.predict(X_test_ss)\n",
    "    score = accuracy_score(y_test, y_test_pred)\n",
    "    print(f\"Acc., n_neighbors={clf.get_params()['n_neighbors']}: \", score)\n",
    "    fig = plot_decision_regions(X_train_ss, y_train, clf=clf, legend=2, ax=axes[ind])\n",
    "    fig.set_title(f\"n_neighbors={clf.get_params()['n_neighbors']}\", fontsize=16)"
   ]
  },
  {
   "cell_type": "markdown",
   "id": "b947e7eb-22fb-4287-87a7-e0a9093050a0",
   "metadata": {
    "id": "b947e7eb-22fb-4287-87a7-e0a9093050a0"
   },
   "source": [
    "#### Дополнительное задание\n",
    "Зачем мы используем `StandardScaler`? Что будет, если один из входных признаков умножить на 10^6?"
   ]
  },
  {
   "cell_type": "markdown",
   "id": "110c7923-494d-4aac-b9de-5cf7a7800efa",
   "metadata": {
    "id": "110c7923-494d-4aac-b9de-5cf7a7800efa"
   },
   "source": [
    "## Нелинейные поверхности"
   ]
  },
  {
   "cell_type": "code",
   "execution_count": null,
   "id": "87806867-501d-42e0-b8b1-f07b25346932",
   "metadata": {
    "id": "87806867-501d-42e0-b8b1-f07b25346932"
   },
   "outputs": [],
   "source": [
    "from sklearn.datasets import make_circles\n",
    "\n",
    "X, y = make_circles(n_samples=200, shuffle=True, noise = 0.1, factor=0.1)"
   ]
  },
  {
   "cell_type": "code",
   "execution_count": null,
   "id": "d2932909-b194-482f-88f4-8853f70e8552",
   "metadata": {
    "colab": {
     "base_uri": "https://localhost:8080/",
     "height": 447
    },
    "executionInfo": {
     "elapsed": 600,
     "status": "ok",
     "timestamp": 1694979237125,
     "user": {
      "displayName": "Sergey Korpachev",
      "userId": "09181340988160569540"
     },
     "user_tz": -180
    },
    "id": "d2932909-b194-482f-88f4-8853f70e8552",
    "outputId": "930b8ca6-1ca8-4c8c-bdd6-73aa1590d653"
   },
   "outputs": [],
   "source": [
    "plt.scatter(X[:, 0], X[:, 1], c=y)"
   ]
  },
  {
   "cell_type": "code",
   "execution_count": null,
   "id": "48f677a4-fe0b-4d83-8c69-efed2b1eafcc",
   "metadata": {
    "id": "48f677a4-fe0b-4d83-8c69-efed2b1eafcc"
   },
   "outputs": [],
   "source": [
    "# делим данные на обучение и тест\n",
    "X_train, X_test, y_train, y_test = train_test_split(X, y, test_size=0.3, random_state=123)"
   ]
  },
  {
   "cell_type": "code",
   "execution_count": null,
   "id": "11b83192-2327-4b88-8dce-6611e011bc20",
   "metadata": {
    "colab": {
     "base_uri": "https://localhost:8080/",
     "height": 74
    },
    "executionInfo": {
     "elapsed": 7,
     "status": "ok",
     "timestamp": 1694979241543,
     "user": {
      "displayName": "Sergey Korpachev",
      "userId": "09181340988160569540"
     },
     "user_tz": -180
    },
    "id": "11b83192-2327-4b88-8dce-6611e011bc20",
    "outputId": "a6643ef8-fd5e-447c-a34c-c5dcfc845b33"
   },
   "outputs": [],
   "source": [
    "# обучаем модель\n",
    "logreg = LogisticRegression()\n",
    "logreg.fit(X_train, y_train)"
   ]
  },
  {
   "cell_type": "code",
   "execution_count": null,
   "id": "4191ef82-b0e8-4b4a-9ffd-eec3c683bd1b",
   "metadata": {
    "colab": {
     "base_uri": "https://localhost:8080/",
     "height": 716
    },
    "executionInfo": {
     "elapsed": 586,
     "status": "ok",
     "timestamp": 1694979243494,
     "user": {
      "displayName": "Sergey Korpachev",
      "userId": "09181340988160569540"
     },
     "user_tz": -180
    },
    "id": "4191ef82-b0e8-4b4a-9ffd-eec3c683bd1b",
    "outputId": "6083b823-60aa-4d4d-cc87-7d4af2a09991"
   },
   "outputs": [],
   "source": [
    "plt.figure(figsize=(12,8))\n",
    "plot_decision_regions(X_train, y_train, clf=logreg, legend=2)\n",
    "plt.title('Разделяющая поверхность для логрега')"
   ]
  },
  {
   "cell_type": "markdown",
   "id": "e67aaaf9-74d4-40d4-b6ac-ea2475b04c3e",
   "metadata": {
    "id": "e67aaaf9-74d4-40d4-b6ac-ea2475b04c3e"
   },
   "source": [
    "### Добавим новый признак\n",
    "\n",
    "$$\n",
    "X_3 = X_1^{2} + X_2^{2}\n",
    "$$"
   ]
  },
  {
   "cell_type": "code",
   "execution_count": null,
   "id": "070d9127-d24f-4031-b370-489f0d3e73db",
   "metadata": {
    "id": "070d9127-d24f-4031-b370-489f0d3e73db"
   },
   "outputs": [],
   "source": [
    "X1 = X[:,0]\n",
    "X2 = X[:,1]\n",
    "X3 = X1**2+X2**2\n",
    "\n",
    "X_new = np.c_[X1, X2, X3]"
   ]
  },
  {
   "cell_type": "code",
   "execution_count": null,
   "id": "b983936b-de4a-4b2e-8f80-b9b3c3f67782",
   "metadata": {
    "id": "b983936b-de4a-4b2e-8f80-b9b3c3f67782"
   },
   "outputs": [],
   "source": [
    "# делим данные на обучение и тест\n",
    "X_train, X_test, y_train, y_test = train_test_split(X_new, y, test_size=0.3, random_state=123)"
   ]
  },
  {
   "cell_type": "code",
   "execution_count": null,
   "id": "77b66f97-85d1-43b0-b5a6-a31e32f0fadd",
   "metadata": {
    "colab": {
     "base_uri": "https://localhost:8080/",
     "height": 74
    },
    "executionInfo": {
     "elapsed": 430,
     "status": "ok",
     "timestamp": 1694979318290,
     "user": {
      "displayName": "Sergey Korpachev",
      "userId": "09181340988160569540"
     },
     "user_tz": -180
    },
    "id": "77b66f97-85d1-43b0-b5a6-a31e32f0fadd",
    "outputId": "27f13d1b-5c5f-4c28-c944-0b1f36f6e83c"
   },
   "outputs": [],
   "source": [
    "# обучаем модель\n",
    "logreg = LogisticRegression()\n",
    "logreg.fit(X_train, y_train)"
   ]
  },
  {
   "cell_type": "code",
   "execution_count": null,
   "id": "8be80110-fae1-4287-8b9f-6a5bd964e66f",
   "metadata": {
    "colab": {
     "base_uri": "https://localhost:8080/",
     "height": 699
    },
    "executionInfo": {
     "elapsed": 997,
     "status": "ok",
     "timestamp": 1694979320436,
     "user": {
      "displayName": "Sergey Korpachev",
      "userId": "09181340988160569540"
     },
     "user_tz": -180
    },
    "id": "8be80110-fae1-4287-8b9f-6a5bd964e66f",
    "outputId": "aeea4435-dd07-43ed-92fa-de3cb34ed6f3"
   },
   "outputs": [],
   "source": [
    "# Plot desicion border\n",
    "\n",
    "x0, x1 = np.meshgrid(np.arange(-1.5, 1.5, 0.01), np.arange(-1.5, 1.5, 0.01))\n",
    "xx0, xx1 = x0.ravel(), x1.ravel()\n",
    "X_grid = np.c_[xx0, xx1, xx0**2 + xx1**2]\n",
    "\n",
    "y_pred = logreg.predict(X_grid)\n",
    "y_pred = y_pred.reshape(x0.shape)\n",
    "\n",
    "plt.figure(figsize=(12,8))\n",
    "plt.contourf(x0, x1, y_pred, levels=1, cmap=plt.cm.seismic, alpha=0.2)\n",
    "plt.colorbar()\n",
    "plt.scatter(X[y==0,0], X[y==0, 1], c='b')\n",
    "plt.scatter(X[y==1,0], X[y==1, 1], c='r')"
   ]
  },
  {
   "cell_type": "code",
   "execution_count": null,
   "id": "b6e4c6ae-5684-4f3a-8c83-1d54115e078f",
   "metadata": {
    "colab": {
     "base_uri": "https://localhost:8080/",
     "height": 693
    },
    "executionInfo": {
     "elapsed": 1145,
     "status": "ok",
     "timestamp": 1694979325559,
     "user": {
      "displayName": "Sergey Korpachev",
      "userId": "09181340988160569540"
     },
     "user_tz": -180
    },
    "id": "b6e4c6ae-5684-4f3a-8c83-1d54115e078f",
    "outputId": "48eba74a-3157-44ea-dc8b-2b15630b8e07"
   },
   "outputs": [],
   "source": [
    "# Plot desicion border\n",
    "\n",
    "x0, x1 = np.meshgrid(np.arange(-1.5, 1.5, 0.01), np.arange(-1.5, 1.5, 0.01))\n",
    "xx0, xx1 = x0.ravel(), x1.ravel()\n",
    "X_grid = np.c_[xx0, xx1, xx0**2 + xx1**2]\n",
    "\n",
    "y_pred = logreg.predict_proba(X_grid)[:, 1]\n",
    "y_pred = y_pred.reshape(x0.shape)\n",
    "\n",
    "plt.figure(figsize=(12,8))\n",
    "plt.contourf(x0, x1, y_pred, levels=20, cmap=plt.cm.seismic, alpha=0.5)\n",
    "plt.colorbar()\n",
    "plt.scatter(X[y==0,0], X[y==0, 1], c='0')\n",
    "plt.scatter(X[y==1,0], X[y==1, 1], c='0')"
   ]
  },
  {
   "cell_type": "code",
   "execution_count": null,
   "id": "865ba706-6577-4caa-ba93-dc2af360e506",
   "metadata": {
    "id": "865ba706-6577-4caa-ba93-dc2af360e506"
   },
   "outputs": [],
   "source": []
  },
  {
   "cell_type": "code",
   "execution_count": null,
   "id": "25256879-30be-447a-9e8b-10f5298529ec",
   "metadata": {
    "id": "25256879-30be-447a-9e8b-10f5298529ec"
   },
   "outputs": [],
   "source": []
  }
 ],
 "metadata": {
  "colab": {
   "provenance": []
  },
  "kernelspec": {
   "display_name": "Python 3",
   "language": "python",
   "name": "python3"
  },
  "language_info": {
   "codemirror_mode": {
    "name": "ipython",
    "version": 3
   },
   "file_extension": ".py",
   "mimetype": "text/x-python",
   "name": "python",
   "nbconvert_exporter": "python",
   "pygments_lexer": "ipython3",
   "version": "3.8.10"
  }
 },
 "nbformat": 4,
 "nbformat_minor": 5
}
