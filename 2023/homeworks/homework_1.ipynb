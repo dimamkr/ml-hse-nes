{
 "cells": [
  {
   "cell_type": "markdown",
   "id": "7247b8d4",
   "metadata": {},
   "source": [
    "# Homework 1\n",
    "This homework consists of three parts, each of which is rated at 10 points:\n",
    "* Numpy (10 points)\n",
    "* Matplotlib (10 points)\n",
    "* Linear Regression (10 points)\n",
    "\n",
    "The score for each task is described in the comments before the task.\n",
    "\n",
    "The task is performed independently, otherwise all those involved will receive 0 points :) If you have found a solution to any of the tasks (or part of it) in an open source, you must specify a link to this source in a separate block at the end of your work. Otherwise, **the work will also be rated at 0 points**.\n",
    "\n",
    "**Deadline: FILL_THE_GAP**"
   ]
  },
  {
   "cell_type": "markdown",
   "id": "1966e3d0",
   "metadata": {},
   "source": [
    "## Part 1. Numpy\n",
    "It is forbidden to use **while**, **for**, **if** in this part. All operations must be performed in numpy calculation. Recall that using, for example, max instead of np.max is also a suboptimal step. The solution will be counted if it satisfies the conditions above and passes asserts."
   ]
  },
  {
   "cell_type": "code",
   "execution_count": 1,
   "id": "03cf459c",
   "metadata": {},
   "outputs": [],
   "source": [
    "import numpy as np\n",
    "import matplotlib.pyplot as plt\n",
    "import sklearn"
   ]
  },
  {
   "cell_type": "code",
   "execution_count": null,
   "id": "439425f7",
   "metadata": {},
   "outputs": [],
   "source": [
    "# task 1 (1 point)\n",
    "\n",
    "\"\"\"\n",
    "description: finds the maximum element in the vector among the elements preceded by zero\n",
    "input: np.array([0, 2, 0, 3])\n",
    "output: 3\n",
    "\"\"\"\n",
    "def max_after_zero(x: np.array) -> int:\n",
    "    assert False, 'not implemented'"
   ]
  },
  {
   "cell_type": "code",
   "execution_count": null,
   "id": "a58b05aa",
   "metadata": {},
   "outputs": [],
   "source": [
    "x = np.array([0, 1, 2, 0, 6, 0, 10, 0])\n",
    "assert max_after_zero(x) == 10\n",
    "print(\"OK\")"
   ]
  },
  {
   "cell_type": "code",
   "execution_count": 2,
   "id": "4877567d",
   "metadata": {},
   "outputs": [],
   "source": [
    "# task 2 (1 point)\n",
    "\n",
    "\"\"\"\n",
    "description: given an image (height, width, numChannels) and weights (numChannels)\n",
    "Sums the image channels with the specified weights and return the result as\n",
    "a size matrix (height, width).\n",
    "\n",
    "Give an example of how the function works – convert a color image to shades of \n",
    "gray using np.array coefficients([0.299, 0.587, 0.114]). \n",
    "Take a cool picture for the joy of the assistant and draw it \n",
    "before and after the transformation.\n",
    "\"\"\"\n",
    "def grayscale(img: np.array, weights: np.array) -> np.array:\n",
    "    assert False, 'not implemented'"
   ]
  },
  {
   "cell_type": "code",
   "execution_count": null,
   "id": "5fcc44aa",
   "metadata": {},
   "outputs": [],
   "source": [
    "img = np.arange(1*2*3).reshape(1, 2, 3)\n",
    "weights = np.array([0.299, 0.587, 0.114])\n",
    "res = np.array([[ 0.815,  3.815]])\n",
    "assert np.allclose(grayscale(img, weights), res)\n",
    "print(\"OK\")"
   ]
  },
  {
   "cell_type": "code",
   "execution_count": null,
   "id": "0a3ff5e4",
   "metadata": {},
   "outputs": [],
   "source": [
    "# task 3 (2 points)\n",
    "\n",
    "\"\"\"\n",
    "description: makes up a block matrix of four\n",
    "blocks, where each block is a given matrix\n",
    "\"\"\"\n",
    "def block_matrix(block: np.array) -> np.array:\n",
    "    assert False, 'not implemented'"
   ]
  },
  {
   "cell_type": "code",
   "execution_count": null,
   "id": "f0ce9850",
   "metadata": {},
   "outputs": [],
   "source": [
    "block = np.array([[1, 3, 3], [7, 0, 0]])\n",
    "\n",
    "assert np.allclose(\n",
    "    block_matrix(block),\n",
    "    np.array([[1, 3, 3, 1, 3, 3],\n",
    "              [7, 0, 0, 7, 0, 0],\n",
    "              [1, 3, 3, 1, 3, 3],\n",
    "              [7, 0, 0, 7, 0, 0]])\n",
    ")print(\"OK\")"
   ]
  },
  {
   "cell_type": "code",
   "execution_count": null,
   "id": "b4535fbf",
   "metadata": {},
   "outputs": [],
   "source": [
    "# task 4 (2 points)\n",
    "\n",
    "\"\"\"\n",
    "description: calculates the product of all\n",
    "nonzero diagonal elements of a square matrix\n",
    "\"\"\"\n",
    "def diag_prod(matrix: np.array) -> int:\n",
    "    assert False, 'not implemented'"
   ]
  },
  {
   "cell_type": "code",
   "execution_count": null,
   "id": "fa039421",
   "metadata": {},
   "outputs": [],
   "source": [
    "matrix = np.array([[0, 1, 2, 3],\n",
    "                   [4, 5, 6, 7],\n",
    "                   [8, 9, 10, 11],\n",
    "                   [12, 13, 14, 15]])\n",
    "\n",
    "assert diag_prod(matrix) == 750\n",
    "print(\"OK\")"
   ]
  },
  {
   "cell_type": "code",
   "execution_count": null,
   "id": "cfa98502",
   "metadata": {},
   "outputs": [],
   "source": [
    "# task 5 (2 points)\n",
    "\n",
    "\"\"\"\n",
    "description: this class implements StandardScaler from the sklearn library\n",
    "As input, the fit method accepts a matrix where the signs are arranged in\n",
    "columns, the fit method must remember mu and sigma for each of the signs,\n",
    "and the transform must normalize the matrix with the pre-calculated mu and sigma.\n",
    "\"\"\"\n",
    "class StandardScaler:\n",
    "    def fit(self, X: np.array):\n",
    "        assert False, 'not implemented'\n",
    "    \n",
    "    def transform(self, X: np.array) -> np.array:\n",
    "        assert False, 'not implemented'"
   ]
  },
  {
   "cell_type": "code",
   "execution_count": null,
   "id": "352d0513",
   "metadata": {},
   "outputs": [],
   "source": [
    "matrix = np.array([[1, 4, 4200], [0, 10, 5000], [1, 2, 1000]])\n",
    "scaler = StandardScaler()\n",
    "\n",
    "scaler.fit(matrix)\n",
    "\n",
    "assert np.allclose(\n",
    "    scaler.transform(matrix),\n",
    "    np.array([[ 0.7071, -0.39223,  0.46291],\n",
    "              [-1.4142,  1.37281,  0.92582],\n",
    "              [ 0.7071, -0.98058, -1.38873]])\n",
    ")\n",
    "print(\"OK\")"
   ]
  },
  {
   "cell_type": "code",
   "execution_count": null,
   "id": "7d68dc80",
   "metadata": {},
   "outputs": [],
   "source": [
    "# task 6 (2 points)\n",
    "\n",
    "\"\"\"\n",
    "description: calculates the antiderivative polynomial (take 42 as a constant)\n",
    "for example, an array of coefficients [6, 0, 1] corresponds to 6x^2 + 1\n",
    "\"\"\"\n",
    "def antiderivative(coefs: np.array) -> np.array:\n",
    "    assert False, 'not implemented'"
   ]
  },
  {
   "cell_type": "code",
   "execution_count": null,
   "id": "41288733",
   "metadata": {},
   "outputs": [],
   "source": [
    "coefs = np.array([4, 6, 0, 1])\n",
    "\n",
    "assert np.allclose(\n",
    "    antiderivative(coefs),\n",
    "    np.array([1., 2., 0., 1., 42.])\n",
    ")\n",
    "print(\"OK\")"
   ]
  },
  {
   "cell_type": "code",
   "execution_count": null,
   "id": "d5bd37b9",
   "metadata": {},
   "outputs": [],
   "source": [
    "coefs = np.array([1, 7, -12, 21, -6])\n",
    "\n",
    "assert np.allclose(\n",
    "    antiderivative(coefs),\n",
    "    np.array([ 0.2, 1.75, -4., 10.5, -6., 42.])\n",
    ")\n",
    "print(\"OK\")"
   ]
  },
  {
   "cell_type": "markdown",
   "id": "1048576d",
   "metadata": {},
   "source": [
    "## Part 2. Matplotlib"
   ]
  },
  {
   "cell_type": "markdown",
   "id": "0fb7aaa9",
   "metadata": {},
   "source": [
    "### Task 1 (5 points)\n",
    "Generate a Gaussian vector of dimension 2 from 100 points (choose mu and sigma on your choice). Check [the three sigma rule](https://en.wikipedia.org/wiki/68-95-99.7_rule): draw a circle centered in mu with a radius such that 0.99 of all points fall there, also draw a circle with a radius of 3 sigma. Draw a point mu in a separate color.\n",
    "\n",
    "Use subplot to draw histograms with 10 buckets for each dimension and draw a density graph along the histogram."
   ]
  },
  {
   "cell_type": "code",
   "execution_count": null,
   "id": "8f1ca529",
   "metadata": {},
   "outputs": [],
   "source": [
    "# Your code goes here"
   ]
  },
  {
   "cell_type": "markdown",
   "id": "b6414734",
   "metadata": {},
   "source": [
    "### Task 2 (5 points)"
   ]
  },
  {
   "cell_type": "markdown",
   "id": "6e8398b0",
   "metadata": {},
   "source": [
    "Upload the dataset from the last seminar [fischer's irises](https://ru.wikipedia.org/wiki/Ирисы_Фишера). Build a **heatmap** with correlations between features, rows and columns should be signed with feature names. It is important to use matplotlib. The positive correlation should be displayed in green, the reverse in red, and the absence of correlation in white. Make the plot big enough.\n",
    "\n",
    "**Hint:** use plt.xticks, plt.yticks, plt.imshow, plt.colorbar\n",
    "\n",
    "Also build the same heatmap using seaborn.heatmap"
   ]
  },
  {
   "cell_type": "code",
   "execution_count": null,
   "id": "f87bc894",
   "metadata": {},
   "outputs": [],
   "source": [
    "import pandas as pd\n",
    "from sklearn.datasets import load_iris\n",
    "iris = load_iris(as_frame=True)\n",
    "\n",
    "# Your code goes here"
   ]
  },
  {
   "cell_type": "markdown",
   "id": "3e910a11",
   "metadata": {},
   "source": [
    "## Part 3. Linear Regression\n",
    "In this part, you need to implement a class with an analytical solution of linear regression and use all the skills you have acquired.\n",
    "\n",
    "You are allowed to use any libraries: sklearn, numpy, matplotlib, scipy, etc.\n",
    "\n",
    "Conclusions are needed for each step, only the code will be rated at 0 points"
   ]
  },
  {
   "cell_type": "markdown",
   "id": "34b72754",
   "metadata": {},
   "source": [
    "Load a dataset using np.loadtxt and split it into train and test"
   ]
  },
  {
   "cell_type": "code",
   "execution_count": 3,
   "id": "20b3a7b9",
   "metadata": {},
   "outputs": [],
   "source": [
    "# !wget https://www.dropbox.com/s/kg9px9v3xfysak9/tutorial_dataset.csv"
   ]
  },
  {
   "cell_type": "code",
   "execution_count": null,
   "id": "7cfe3d55",
   "metadata": {},
   "outputs": [],
   "source": [
    "# Your code goes here"
   ]
  },
  {
   "cell_type": "markdown",
   "id": "c4a9afae",
   "metadata": {},
   "source": [
    "Plot the dependence of the target on the features and distributions of features, correlations and and everything that you think is important **(2 points)**"
   ]
  },
  {
   "cell_type": "code",
   "execution_count": null,
   "id": "55a5e69b",
   "metadata": {},
   "outputs": [],
   "source": [
    "# Your code goes here"
   ]
  },
  {
   "cell_type": "markdown",
   "id": "1fd410c3",
   "metadata": {},
   "source": [
    "Implement a linear regression class, normalize features if needed and fit model **(2 points)**"
   ]
  },
  {
   "cell_type": "code",
   "execution_count": 1,
   "id": "f91e2dbf",
   "metadata": {},
   "outputs": [],
   "source": [
    "class MyLinearRegression:\n",
    "    def fit(X_train, y_train):\n",
    "        assert False, 'not implemented'\n",
    "    \n",
    "    def predict(X_test):\n",
    "        assert False, 'not implemented'"
   ]
  },
  {
   "cell_type": "markdown",
   "id": "e1912068",
   "metadata": {},
   "source": [
    "Try to come up with a way to understand which feature contributes more to your model **(3 points)**"
   ]
  },
  {
   "cell_type": "code",
   "execution_count": null,
   "id": "0029335d",
   "metadata": {},
   "outputs": [],
   "source": [
    "# Your code goes here"
   ]
  },
  {
   "cell_type": "markdown",
   "id": "6535441d",
   "metadata": {},
   "source": [
    "Plot the dependence on the size of the training sample and the mse score **(1 point)**"
   ]
  },
  {
   "cell_type": "code",
   "execution_count": null,
   "id": "136667bd",
   "metadata": {},
   "outputs": [],
   "source": [
    "# Your code goes here"
   ]
  },
  {
   "cell_type": "markdown",
   "id": "39da2a8d",
   "metadata": {},
   "source": [
    "Fit LinearRegression model from sklearn. Try to get the minimum MSE score as possible. Compare results with your model **(1 point)**"
   ]
  },
  {
   "cell_type": "code",
   "execution_count": null,
   "id": "e2cff9c2",
   "metadata": {},
   "outputs": [],
   "source": [
    "# Your code goes here"
   ]
  },
  {
   "cell_type": "markdown",
   "id": "89a0feaa",
   "metadata": {},
   "source": [
    "Describe the challenges you had to face :) **(1 point)**"
   ]
  },
  {
   "cell_type": "code",
   "execution_count": null,
   "id": "47f49efd",
   "metadata": {},
   "outputs": [],
   "source": [
    "# Write here your thoughts"
   ]
  }
 ],
 "metadata": {
  "kernelspec": {
   "display_name": "Python 3 (ipykernel)",
   "language": "python",
   "name": "python3"
  },
  "language_info": {
   "codemirror_mode": {
    "name": "ipython",
    "version": 3
   },
   "file_extension": ".py",
   "mimetype": "text/x-python",
   "name": "python",
   "nbconvert_exporter": "python",
   "pygments_lexer": "ipython3",
   "version": "3.10.6"
  }
 },
 "nbformat": 4,
 "nbformat_minor": 5
}
