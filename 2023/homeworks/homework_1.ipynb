{
 "cells": [
  {
   "cell_type": "markdown",
   "id": "7247b8d4",
   "metadata": {
    "id": "7247b8d4"
   },
   "source": [
    "# Homework 1\n",
    "This homework consists of three parts:\n",
    "* Numpy (2.5 points)\n",
    "* Matplotlib (4.0 points)\n",
    "* Linear Regression (3.5 points)\n",
    "\n",
    "The score for each task is described in the comments before the task.\n",
    "\n",
    "The task is performed independently, otherwise all those involved will receive 0 points :) If you have found a solution to any of the tasks (or part of it) in an open source, you must specify a link to this source in a separate block at the end of your work. Otherwise, **the work will also be rated at 0 points**."
   ]
  },
  {
   "cell_type": "markdown",
   "id": "1966e3d0",
   "metadata": {
    "id": "1966e3d0"
   },
   "source": [
    "## Part 1. Numpy\n",
    "It is forbidden to use **while**, **for**, **if** in this part. All operations must be performed in numpy calculation. Recall that using, for example, max instead of np.max is also a suboptimal step. The solution will be counted if it satisfies the conditions above and passes asserts."
   ]
  },
  {
   "cell_type": "code",
   "execution_count": null,
   "id": "03cf459c",
   "metadata": {
    "executionInfo": {
     "elapsed": 1081,
     "status": "ok",
     "timestamp": 1694439757773,
     "user": {
      "displayName": "Sergey Korpachev",
      "userId": "09181340988160569540"
     },
     "user_tz": -180
    },
    "id": "03cf459c"
   },
   "outputs": [],
   "source": [
    "import numpy as np\n",
    "import matplotlib.pyplot as plt\n",
    "import sklearn"
   ]
  },
  {
   "cell_type": "markdown",
   "id": "cDsKeK4EaWrE",
   "metadata": {
    "id": "cDsKeK4EaWrE"
   },
   "source": [
    "### Task 1 (0.25 points)"
   ]
  },
  {
   "cell_type": "code",
   "execution_count": null,
   "id": "439425f7",
   "metadata": {
    "executionInfo": {
     "elapsed": 4,
     "status": "ok",
     "timestamp": 1694439759790,
     "user": {
      "displayName": "Sergey Korpachev",
      "userId": "09181340988160569540"
     },
     "user_tz": -180
    },
    "id": "439425f7"
   },
   "outputs": [],
   "source": [
    "# task 1 (0.25 points)\n",
    "\n",
    "\"\"\"\n",
    "description: finds the maximum element in the vector among the elements preceded by zero\n",
    "input: np.array([0, 2, 0, 3])\n",
    "output: 3\n",
    "\"\"\"\n",
    "def max_after_zero(x: np.array) -> int:\n",
    "    assert False, 'not implemented'"
   ]
  },
  {
   "cell_type": "code",
   "execution_count": null,
   "id": "a58b05aa",
   "metadata": {
    "colab": {
     "base_uri": "https://localhost:8080/",
     "height": 293
    },
    "executionInfo": {
     "elapsed": 252,
     "status": "error",
     "timestamp": 1694439761443,
     "user": {
      "displayName": "Sergey Korpachev",
      "userId": "09181340988160569540"
     },
     "user_tz": -180
    },
    "id": "a58b05aa",
    "outputId": "bfa9232f-9fe7-4333-da96-0a3cc4f0f59d"
   },
   "outputs": [],
   "source": [
    "x = np.array([0, 1, 2, 0, 6, 0, 10, 0])\n",
    "assert max_after_zero(x) == 10\n",
    "print(\"OK\")"
   ]
  },
  {
   "cell_type": "markdown",
   "id": "GFHuDZoSacPG",
   "metadata": {
    "id": "GFHuDZoSacPG"
   },
   "source": [
    "### Task 2 (0.25 points)"
   ]
  },
  {
   "cell_type": "code",
   "execution_count": null,
   "id": "4877567d",
   "metadata": {
    "executionInfo": {
     "elapsed": 359,
     "status": "ok",
     "timestamp": 1694439765198,
     "user": {
      "displayName": "Sergey Korpachev",
      "userId": "09181340988160569540"
     },
     "user_tz": -180
    },
    "id": "4877567d"
   },
   "outputs": [],
   "source": [
    "# task 2 (0.25 points)\n",
    "\n",
    "\"\"\"\n",
    "description: given an image (height, width, numChannels) and weights (numChannels)\n",
    "Sums the image channels with the specified weights and return the result as\n",
    "a size matrix (height, width).\n",
    "\n",
    "Give an example of how the function works – convert a color image to shades of\n",
    "gray using np.array coefficients([0.299, 0.587, 0.114]).\n",
    "Take a cool picture for the joy of the assistant and draw it\n",
    "before and after the transformation.\n",
    "\"\"\"\n",
    "def grayscale(img: np.array, weights: np.array) -> np.array:\n",
    "    assert False, 'not implemented'"
   ]
  },
  {
   "cell_type": "code",
   "execution_count": null,
   "id": "5fcc44aa",
   "metadata": {
    "colab": {
     "base_uri": "https://localhost:8080/",
     "height": 310
    },
    "executionInfo": {
     "elapsed": 9,
     "status": "error",
     "timestamp": 1694439766208,
     "user": {
      "displayName": "Sergey Korpachev",
      "userId": "09181340988160569540"
     },
     "user_tz": -180
    },
    "id": "5fcc44aa",
    "outputId": "2f12b73c-9cce-4ad6-c154-d3e5d6aca938"
   },
   "outputs": [],
   "source": [
    "img = np.arange(1*2*3).reshape(1, 2, 3)\n",
    "weights = np.array([0.299, 0.587, 0.114])\n",
    "res = np.array([[ 0.815,  3.815]])\n",
    "assert np.allclose(grayscale(img, weights), res)\n",
    "print(\"OK\")"
   ]
  },
  {
   "cell_type": "markdown",
   "id": "zT54XZpBaeHX",
   "metadata": {
    "id": "zT54XZpBaeHX"
   },
   "source": [
    "### Task 3 (0.5 points)"
   ]
  },
  {
   "cell_type": "code",
   "execution_count": null,
   "id": "0a3ff5e4",
   "metadata": {
    "executionInfo": {
     "elapsed": 10,
     "status": "ok",
     "timestamp": 1694439791603,
     "user": {
      "displayName": "Sergey Korpachev",
      "userId": "09181340988160569540"
     },
     "user_tz": -180
    },
    "id": "0a3ff5e4"
   },
   "outputs": [],
   "source": [
    "# task 3 (0.5 points)\n",
    "\n",
    "\"\"\"\n",
    "description: makes up a block matrix of four\n",
    "blocks, where each block is a given matrix\n",
    "\"\"\"\n",
    "def block_matrix(block: np.array) -> np.array:\n",
    "    assert False, 'not implemented'"
   ]
  },
  {
   "cell_type": "code",
   "execution_count": null,
   "id": "f0ce9850",
   "metadata": {
    "colab": {
     "base_uri": "https://localhost:8080/",
     "height": 327
    },
    "executionInfo": {
     "elapsed": 9,
     "status": "error",
     "timestamp": 1694439791604,
     "user": {
      "displayName": "Sergey Korpachev",
      "userId": "09181340988160569540"
     },
     "user_tz": -180
    },
    "id": "f0ce9850",
    "outputId": "c67f53b4-ecc6-4fa7-81ac-432927da7dde"
   },
   "outputs": [],
   "source": [
    "block = np.array([[1, 3, 3], [7, 0, 0]])\n",
    "\n",
    "assert np.allclose(\n",
    "    block_matrix(block),\n",
    "    np.array([[1, 3, 3, 1, 3, 3],\n",
    "              [7, 0, 0, 7, 0, 0],\n",
    "              [1, 3, 3, 1, 3, 3],\n",
    "              [7, 0, 0, 7, 0, 0]])\n",
    ")\n",
    "print(\"OK\")"
   ]
  },
  {
   "cell_type": "markdown",
   "id": "dzvsvRm6apVb",
   "metadata": {
    "id": "dzvsvRm6apVb"
   },
   "source": [
    "### Task 4 (0.5 points)"
   ]
  },
  {
   "cell_type": "code",
   "execution_count": null,
   "id": "b4535fbf",
   "metadata": {
    "executionInfo": {
     "elapsed": 246,
     "status": "ok",
     "timestamp": 1694439796375,
     "user": {
      "displayName": "Sergey Korpachev",
      "userId": "09181340988160569540"
     },
     "user_tz": -180
    },
    "id": "b4535fbf"
   },
   "outputs": [],
   "source": [
    "# task 4 (0.5 points)\n",
    "\n",
    "\"\"\"\n",
    "description: calculates the product of all\n",
    "nonzero diagonal elements of a square matrix\n",
    "\"\"\"\n",
    "def diag_prod(matrix: np.array) -> int:\n",
    "    assert False, 'not implemented'"
   ]
  },
  {
   "cell_type": "code",
   "execution_count": null,
   "id": "fa039421",
   "metadata": {
    "colab": {
     "base_uri": "https://localhost:8080/",
     "height": 310
    },
    "executionInfo": {
     "elapsed": 5,
     "status": "error",
     "timestamp": 1694439797817,
     "user": {
      "displayName": "Sergey Korpachev",
      "userId": "09181340988160569540"
     },
     "user_tz": -180
    },
    "id": "fa039421",
    "outputId": "080cb3f5-b033-4cf2-bb9a-8f9c852090a6"
   },
   "outputs": [],
   "source": [
    "matrix = np.array([[0, 1, 2, 3],\n",
    "                   [4, 5, 6, 7],\n",
    "                   [8, 9, 10, 11],\n",
    "                   [12, 13, 14, 15]])\n",
    "\n",
    "assert diag_prod(matrix) == 750\n",
    "print(\"OK\")"
   ]
  },
  {
   "cell_type": "markdown",
   "id": "1U5HMX3Marze",
   "metadata": {
    "id": "1U5HMX3Marze"
   },
   "source": [
    "### Task 5 (0.5 points)"
   ]
  },
  {
   "cell_type": "code",
   "execution_count": null,
   "id": "cfa98502",
   "metadata": {
    "executionInfo": {
     "elapsed": 5,
     "status": "ok",
     "timestamp": 1694439800023,
     "user": {
      "displayName": "Sergey Korpachev",
      "userId": "09181340988160569540"
     },
     "user_tz": -180
    },
    "id": "cfa98502"
   },
   "outputs": [],
   "source": [
    "# task 5 (0.5 points)\n",
    "\n",
    "\"\"\"\n",
    "description: this class implements StandardScaler from the sklearn library\n",
    "As input, the fit method accepts a matrix where the signs are arranged in\n",
    "columns, the fit method must remember mu and sigma for each of the signs,\n",
    "and the transform must normalize the matrix with the pre-calculated mu and sigma.\n",
    "\"\"\"\n",
    "class StandardScaler:\n",
    "    def fit(self, X: np.array):\n",
    "        assert False, 'not implemented'\n",
    "\n",
    "    def transform(self, X: np.array) -> np.array:\n",
    "        assert False, 'not implemented'"
   ]
  },
  {
   "cell_type": "code",
   "execution_count": null,
   "id": "352d0513",
   "metadata": {
    "colab": {
     "base_uri": "https://localhost:8080/",
     "height": 361
    },
    "executionInfo": {
     "elapsed": 6,
     "status": "error",
     "timestamp": 1694439800521,
     "user": {
      "displayName": "Sergey Korpachev",
      "userId": "09181340988160569540"
     },
     "user_tz": -180
    },
    "id": "352d0513",
    "outputId": "42f66f0a-e221-4c90-f081-2007cd20b811"
   },
   "outputs": [],
   "source": [
    "matrix = np.array([[1, 4, 4200], [0, 10, 5000], [1, 2, 1000]])\n",
    "scaler = StandardScaler()\n",
    "\n",
    "scaler.fit(matrix)\n",
    "\n",
    "assert np.allclose(\n",
    "    scaler.transform(matrix),\n",
    "    np.array([[ 0.7071, -0.39223,  0.46291],\n",
    "              [-1.4142,  1.37281,  0.92582],\n",
    "              [ 0.7071, -0.98058, -1.38873]])\n",
    ")\n",
    "print(\"OK\")"
   ]
  },
  {
   "cell_type": "markdown",
   "id": "VgfO8yt7atav",
   "metadata": {
    "id": "VgfO8yt7atav"
   },
   "source": [
    "### Task 6 (0.5 points)"
   ]
  },
  {
   "cell_type": "code",
   "execution_count": null,
   "id": "7d68dc80",
   "metadata": {
    "executionInfo": {
     "elapsed": 3,
     "status": "ok",
     "timestamp": 1694439802963,
     "user": {
      "displayName": "Sergey Korpachev",
      "userId": "09181340988160569540"
     },
     "user_tz": -180
    },
    "id": "7d68dc80"
   },
   "outputs": [],
   "source": [
    "# task 6 (0.5 points)\n",
    "\n",
    "\"\"\"\n",
    "description: calculates the antiderivative polynomial (take 42 as a constant)\n",
    "for example, an array of coefficients [6, 0, 1] corresponds to 6x^2 + 1\n",
    "\"\"\"\n",
    "def antiderivative(coefs: np.array) -> np.array:\n",
    "    assert False, 'not implemented'"
   ]
  },
  {
   "cell_type": "code",
   "execution_count": null,
   "id": "41288733",
   "metadata": {
    "colab": {
     "base_uri": "https://localhost:8080/",
     "height": 327
    },
    "executionInfo": {
     "elapsed": 6,
     "status": "error",
     "timestamp": 1694439803375,
     "user": {
      "displayName": "Sergey Korpachev",
      "userId": "09181340988160569540"
     },
     "user_tz": -180
    },
    "id": "41288733",
    "outputId": "9e4b86da-8361-4b6b-8b92-bbe46b371c70"
   },
   "outputs": [],
   "source": [
    "coefs = np.array([4, 6, 0, 1])\n",
    "\n",
    "assert np.allclose(\n",
    "    antiderivative(coefs),\n",
    "    np.array([1., 2., 0., 1., 42.])\n",
    ")\n",
    "print(\"OK\")"
   ]
  },
  {
   "cell_type": "code",
   "execution_count": null,
   "id": "d5bd37b9",
   "metadata": {
    "colab": {
     "base_uri": "https://localhost:8080/",
     "height": 327
    },
    "executionInfo": {
     "elapsed": 4,
     "status": "error",
     "timestamp": 1694439803955,
     "user": {
      "displayName": "Sergey Korpachev",
      "userId": "09181340988160569540"
     },
     "user_tz": -180
    },
    "id": "d5bd37b9",
    "outputId": "109e6497-3cd1-433e-c31e-119a62320501"
   },
   "outputs": [],
   "source": [
    "coefs = np.array([1, 7, -12, 21, -6])\n",
    "\n",
    "assert np.allclose(\n",
    "    antiderivative(coefs),\n",
    "    np.array([ 0.2, 1.75, -4., 10.5, -6., 42.])\n",
    ")\n",
    "print(\"OK\")"
   ]
  },
  {
   "cell_type": "markdown",
   "id": "1048576d",
   "metadata": {
    "id": "1048576d"
   },
   "source": [
    "## Part 2. Matplotlib"
   ]
  },
  {
   "cell_type": "markdown",
   "id": "0fb7aaa9",
   "metadata": {
    "id": "0fb7aaa9"
   },
   "source": [
    "### Task 1 (2.0 points)\n",
    "Generate a Gaussian vector of dimension 2 from 100 points (choose mu and sigma on your choice). Check [the three sigma rule](https://en.wikipedia.org/wiki/68-95-99.7_rule): draw a circle centered in mu with a radius such that 0.99 of all points fall there, also draw a circle with a radius of 3 sigma. Draw a point mu in a separate color.\n",
    "\n",
    "Use subplot to draw histograms with 10 buckets for each dimension and draw a density graph along the histogram."
   ]
  },
  {
   "cell_type": "code",
   "execution_count": null,
   "id": "8f1ca529",
   "metadata": {
    "executionInfo": {
     "elapsed": 316,
     "status": "ok",
     "timestamp": 1694439806964,
     "user": {
      "displayName": "Sergey Korpachev",
      "userId": "09181340988160569540"
     },
     "user_tz": -180
    },
    "id": "8f1ca529"
   },
   "outputs": [],
   "source": [
    "# Your code goes here"
   ]
  },
  {
   "cell_type": "markdown",
   "id": "b6414734",
   "metadata": {
    "id": "b6414734"
   },
   "source": [
    "### Task 2 (2.0 points)"
   ]
  },
  {
   "cell_type": "markdown",
   "id": "6e8398b0",
   "metadata": {
    "id": "6e8398b0"
   },
   "source": [
    "Upload the dataset from the last seminar [fischer's irises](https://ru.wikipedia.org/wiki/Ирисы_Фишера). Build a **heatmap** with correlations between features, rows and columns should be signed with feature names. It is important to use matplotlib. The positive correlation should be displayed in green, the reverse in red, and the absence of correlation in white. Make the plot big enough.\n",
    "\n",
    "**Hint:** use plt.xticks, plt.yticks, plt.imshow, plt.colorbar\n",
    "\n",
    "Also build the same heatmap using seaborn.heatmap"
   ]
  },
  {
   "cell_type": "code",
   "execution_count": null,
   "id": "f87bc894",
   "metadata": {
    "executionInfo": {
     "elapsed": 858,
     "status": "ok",
     "timestamp": 1694439810300,
     "user": {
      "displayName": "Sergey Korpachev",
      "userId": "09181340988160569540"
     },
     "user_tz": -180
    },
    "id": "f87bc894"
   },
   "outputs": [],
   "source": [
    "import pandas as pd\n",
    "from sklearn.datasets import load_iris\n",
    "iris = load_iris(as_frame=True)\n",
    "\n",
    "# Your code goes here"
   ]
  },
  {
   "cell_type": "markdown",
   "id": "3e910a11",
   "metadata": {
    "id": "3e910a11"
   },
   "source": [
    "## Part 3. Linear Regression\n",
    "In this part, you need to implement a class with an analytical solution of linear regression and use all the skills you have acquired.\n",
    "\n",
    "You are allowed to use any libraries: sklearn, numpy, matplotlib, scipy, etc.\n",
    "\n",
    "Conclusions are needed for each step, only the code will be rated at 0 points"
   ]
  },
  {
   "cell_type": "markdown",
   "id": "34b72754",
   "metadata": {
    "id": "34b72754"
   },
   "source": [
    "Load a dataset using np.loadtxt and split it into train and test"
   ]
  },
  {
   "cell_type": "code",
   "execution_count": null,
   "id": "20b3a7b9",
   "metadata": {
    "executionInfo": {
     "elapsed": 6,
     "status": "ok",
     "timestamp": 1694439810301,
     "user": {
      "displayName": "Sergey Korpachev",
      "userId": "09181340988160569540"
     },
     "user_tz": -180
    },
    "id": "20b3a7b9"
   },
   "outputs": [],
   "source": [
    "# !wget https://www.dropbox.com/s/kg9px9v3xfysak9/tutorial_dataset.csv"
   ]
  },
  {
   "cell_type": "code",
   "execution_count": null,
   "id": "7cfe3d55",
   "metadata": {
    "executionInfo": {
     "elapsed": 3,
     "status": "ok",
     "timestamp": 1694439812429,
     "user": {
      "displayName": "Sergey Korpachev",
      "userId": "09181340988160569540"
     },
     "user_tz": -180
    },
    "id": "7cfe3d55"
   },
   "outputs": [],
   "source": [
    "# Your code goes here"
   ]
  },
  {
   "cell_type": "markdown",
   "id": "HVRTISN3a4YC",
   "metadata": {
    "id": "HVRTISN3a4YC"
   },
   "source": [
    "### Task 1 (0.5 points)"
   ]
  },
  {
   "cell_type": "markdown",
   "id": "c4a9afae",
   "metadata": {
    "id": "c4a9afae"
   },
   "source": [
    "Plot the dependence of the target on the features and distributions of features, correlations and and everything that you think is important **(0.5 points)**"
   ]
  },
  {
   "cell_type": "code",
   "execution_count": null,
   "id": "55a5e69b",
   "metadata": {
    "executionInfo": {
     "elapsed": 3,
     "status": "ok",
     "timestamp": 1694439812738,
     "user": {
      "displayName": "Sergey Korpachev",
      "userId": "09181340988160569540"
     },
     "user_tz": -180
    },
    "id": "55a5e69b"
   },
   "outputs": [],
   "source": [
    "# Your code goes here"
   ]
  },
  {
   "cell_type": "markdown",
   "id": "Rb7mNapVa9Ej",
   "metadata": {
    "id": "Rb7mNapVa9Ej"
   },
   "source": [
    "### Task 2 (0.5 points)"
   ]
  },
  {
   "cell_type": "markdown",
   "id": "1fd410c3",
   "metadata": {
    "id": "1fd410c3"
   },
   "source": [
    "Implement a linear regression class, normalize features if needed and fit model **(0.5 points)**"
   ]
  },
  {
   "cell_type": "code",
   "execution_count": null,
   "id": "f91e2dbf",
   "metadata": {
    "executionInfo": {
     "elapsed": 3,
     "status": "ok",
     "timestamp": 1694439813269,
     "user": {
      "displayName": "Sergey Korpachev",
      "userId": "09181340988160569540"
     },
     "user_tz": -180
    },
    "id": "f91e2dbf"
   },
   "outputs": [],
   "source": [
    "class MyLinearRegression:\n",
    "    def fit(X_train, y_train):\n",
    "        assert False, 'not implemented'\n",
    "\n",
    "    def predict(X_test):\n",
    "        assert False, 'not implemented'"
   ]
  },
  {
   "cell_type": "markdown",
   "id": "1k_ftlY1a_1c",
   "metadata": {
    "id": "1k_ftlY1a_1c"
   },
   "source": [
    "### Task 3 (1.0 points)"
   ]
  },
  {
   "cell_type": "markdown",
   "id": "e1912068",
   "metadata": {
    "id": "e1912068"
   },
   "source": [
    "Try to come up with a way to understand which feature contributes more to your model **(1.0 points)**"
   ]
  },
  {
   "cell_type": "code",
   "execution_count": null,
   "id": "0029335d",
   "metadata": {
    "executionInfo": {
     "elapsed": 280,
     "status": "ok",
     "timestamp": 1694439816321,
     "user": {
      "displayName": "Sergey Korpachev",
      "userId": "09181340988160569540"
     },
     "user_tz": -180
    },
    "id": "0029335d"
   },
   "outputs": [],
   "source": [
    "# Your code goes here"
   ]
  },
  {
   "cell_type": "markdown",
   "id": "moaPKZBubCO0",
   "metadata": {
    "id": "moaPKZBubCO0"
   },
   "source": [
    "### Task 4 (0.5 points)"
   ]
  },
  {
   "cell_type": "markdown",
   "id": "6535441d",
   "metadata": {
    "id": "6535441d"
   },
   "source": [
    "Plot the dependence on the size of the training sample and the mse score **(0.5 points)**"
   ]
  },
  {
   "cell_type": "code",
   "execution_count": null,
   "id": "136667bd",
   "metadata": {
    "executionInfo": {
     "elapsed": 634,
     "status": "ok",
     "timestamp": 1694439818626,
     "user": {
      "displayName": "Sergey Korpachev",
      "userId": "09181340988160569540"
     },
     "user_tz": -180
    },
    "id": "136667bd"
   },
   "outputs": [],
   "source": [
    "# Your code goes here"
   ]
  },
  {
   "cell_type": "markdown",
   "id": "8sunt01LbFL_",
   "metadata": {
    "id": "8sunt01LbFL_"
   },
   "source": [
    "### Task 5 (0.5 points)"
   ]
  },
  {
   "cell_type": "markdown",
   "id": "39da2a8d",
   "metadata": {
    "id": "39da2a8d"
   },
   "source": [
    "Fit LinearRegression model from sklearn. Try to get the minimum MSE score as possible. Compare results with your model **(0.5 points)**"
   ]
  },
  {
   "cell_type": "code",
   "execution_count": null,
   "id": "e2cff9c2",
   "metadata": {
    "executionInfo": {
     "elapsed": 3,
     "status": "ok",
     "timestamp": 1694439819245,
     "user": {
      "displayName": "Sergey Korpachev",
      "userId": "09181340988160569540"
     },
     "user_tz": -180
    },
    "id": "e2cff9c2"
   },
   "outputs": [],
   "source": [
    "# Your code goes here"
   ]
  },
  {
   "cell_type": "markdown",
   "id": "GG8fUhiAbHve",
   "metadata": {
    "id": "GG8fUhiAbHve"
   },
   "source": [
    "### Task 6 (0.5 points)"
   ]
  },
  {
   "cell_type": "markdown",
   "id": "89a0feaa",
   "metadata": {
    "id": "89a0feaa"
   },
   "source": [
    "Describe the challenges you had to face :) **(0.5 points)**"
   ]
  },
  {
   "cell_type": "code",
   "execution_count": null,
   "id": "47f49efd",
   "metadata": {
    "executionInfo": {
     "elapsed": 293,
     "status": "ok",
     "timestamp": 1694439821851,
     "user": {
      "displayName": "Sergey Korpachev",
      "userId": "09181340988160569540"
     },
     "user_tz": -180
    },
    "id": "47f49efd"
   },
   "outputs": [],
   "source": [
    "# Write here your thoughts"
   ]
  }
 ],
 "metadata": {
  "colab": {
   "provenance": []
  },
  "kernelspec": {
   "display_name": "Python 3",
   "language": "python",
   "name": "python3"
  },
  "language_info": {
   "codemirror_mode": {
    "name": "ipython",
    "version": 3
   },
   "file_extension": ".py",
   "mimetype": "text/x-python",
   "name": "python",
   "nbconvert_exporter": "python",
   "pygments_lexer": "ipython3",
   "version": "3.8.10"
  }
 },
 "nbformat": 4,
 "nbformat_minor": 5
}
